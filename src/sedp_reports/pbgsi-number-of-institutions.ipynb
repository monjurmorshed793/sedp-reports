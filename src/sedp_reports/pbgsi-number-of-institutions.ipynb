{
 "cells": [
  {
   "cell_type": "code",
   "execution_count": 1,
   "id": "3aab9f0a",
   "metadata": {},
   "outputs": [
    {
     "name": "stdout",
     "output_type": "stream",
     "text": [
      "Requirement already satisfied: pandas in c:\\users\\monju\\appdata\\local\\programs\\python\\python313\\lib\\site-packages (2.3.2)\n",
      "Requirement already satisfied: numpy>=1.26.0 in c:\\users\\monju\\appdata\\local\\programs\\python\\python313\\lib\\site-packages (from pandas) (2.3.3)\n",
      "Requirement already satisfied: python-dateutil>=2.8.2 in c:\\users\\monju\\appdata\\roaming\\python\\python313\\site-packages (from pandas) (2.9.0.post0)\n",
      "Requirement already satisfied: pytz>=2020.1 in c:\\users\\monju\\appdata\\local\\programs\\python\\python313\\lib\\site-packages (from pandas) (2025.2)\n",
      "Requirement already satisfied: tzdata>=2022.7 in c:\\users\\monju\\appdata\\local\\programs\\python\\python313\\lib\\site-packages (from pandas) (2025.2)\n",
      "Requirement already satisfied: six>=1.5 in c:\\users\\monju\\appdata\\roaming\\python\\python313\\site-packages (from python-dateutil>=2.8.2->pandas) (1.17.0)\n",
      "Requirement already satisfied: openpyxl in c:\\users\\monju\\appdata\\local\\programs\\python\\python313\\lib\\site-packages (3.1.5)\n",
      "Requirement already satisfied: et-xmlfile in c:\\users\\monju\\appdata\\local\\programs\\python\\python313\\lib\\site-packages (from openpyxl) (2.0.0)\n"
     ]
    }
   ],
   "source": [
    "!pip install pandas\n",
    "!pip install openpyxl"
   ]
  },
  {
   "cell_type": "code",
   "execution_count": 2,
   "id": "e6eb20e3",
   "metadata": {},
   "outputs": [],
   "source": [
    "import pandas as pd"
   ]
  },
  {
   "cell_type": "code",
   "execution_count": 3,
   "id": "da70e826",
   "metadata": {},
   "outputs": [],
   "source": [
    "general_information = pd.read_csv('data/general_information_bkp.csv', low_memory=False)\n",
    "type_and_level = pd.read_csv('data/type_and_level_bk.csv', low_memory=False)\n",
    "geographical_facilities = pd.read_csv('data/geographical_facilities_bkp.csv', low_memory=False)\n",
    "buildings_and_library = pd.read_csv('data/buildings_and_library.csv', low_memory=False)\n",
    "compliance1 = pd.read_csv('data/compliance_1_bkp.csv', low_memory=False)\n",
    "compliance2 = pd.read_csv('data/compliance_2_bkp.csv', low_memory=False)\n",
    "compliance3 = pd.read_csv('data/compliance_3_bkp.csv', low_memory=False)\n",
    "compliance4 = pd.read_csv('data/compliance_4_bkp.csv', low_memory=False)\n",
    "divisions = pd.read_csv('data/divisions_bkp.csv', low_memory=False)\n",
    "districts = pd.read_csv('data/districts_bkp.csv', low_memory=False)\n",
    "thanas = pd.read_csv('data/thanas_bkp.csv', low_memory=False)\n",
    "pbgsi_institutions = pd.read_csv('data/pbgsi_7000_ins_bkp.csv', low_memory=False)"
   ]
  },
  {
   "cell_type": "markdown",
   "id": "ba167e13",
   "metadata": {},
   "source": [
    "### Configuration"
   ]
  },
  {
   "cell_type": "code",
   "execution_count": 4,
   "id": "dc1be9f7",
   "metadata": {},
   "outputs": [
    {
     "data": {
      "application/vnd.microsoft.datawrangler.viewer.v0+json": {
       "columns": [
        {
         "name": "index",
         "rawType": "int64",
         "type": "integer"
        },
        {
         "name": "REF NO",
         "rawType": "int64",
         "type": "integer"
        },
        {
         "name": "DISTRICT",
         "rawType": "object",
         "type": "string"
        },
        {
         "name": "UPAZILA",
         "rawType": "object",
         "type": "string"
        },
        {
         "name": "ORGANIZATION_NAME",
         "rawType": "object",
         "type": "string"
        },
        {
         "name": "EIIN",
         "rawType": "int64",
         "type": "integer"
        }
       ],
       "ref": "ed8f7faa-20a7-437a-ae6b-71115df4e9e0",
       "rows": [
        [
         "0",
         "1",
         "Barguna",
         "Betagi",
         "BIBCHINI NIAMATI UNITED HIGH SCHOOL AND COLLEGE",
         "100256"
        ],
        [
         "1",
         "2",
         "Barguna",
         "Patharghata",
         "KATHALTALI SAPTAGRAM HIGH SCHOOL AND COLLEGE",
         "100310"
        ],
        [
         "2",
         "3",
         "BARISHAL",
         "Bakerganj",
         "KGS SECONDARY SCHOOL AND COLLEGE",
         "100492"
        ],
        [
         "3",
         "4",
         "Bhola",
         "Lalmohan",
         "GAZARIA GIRLS SCHOOL AND COLLEGE",
         "101503"
        ],
        [
         "4",
         "5",
         "Bhola",
         "Lalmohan",
         "KARIMGONJ ISLAMIA ALIM MADRASHA",
         "101530"
        ]
       ],
       "shape": {
        "columns": 5,
        "rows": 5
       }
      },
      "text/html": [
       "<div>\n",
       "<style scoped>\n",
       "    .dataframe tbody tr th:only-of-type {\n",
       "        vertical-align: middle;\n",
       "    }\n",
       "\n",
       "    .dataframe tbody tr th {\n",
       "        vertical-align: top;\n",
       "    }\n",
       "\n",
       "    .dataframe thead th {\n",
       "        text-align: right;\n",
       "    }\n",
       "</style>\n",
       "<table border=\"1\" class=\"dataframe\">\n",
       "  <thead>\n",
       "    <tr style=\"text-align: right;\">\n",
       "      <th></th>\n",
       "      <th>REF NO</th>\n",
       "      <th>DISTRICT</th>\n",
       "      <th>UPAZILA</th>\n",
       "      <th>ORGANIZATION_NAME</th>\n",
       "      <th>EIIN</th>\n",
       "    </tr>\n",
       "  </thead>\n",
       "  <tbody>\n",
       "    <tr>\n",
       "      <th>0</th>\n",
       "      <td>1</td>\n",
       "      <td>Barguna</td>\n",
       "      <td>Betagi</td>\n",
       "      <td>BIBCHINI NIAMATI UNITED HIGH SCHOOL AND COLLEGE</td>\n",
       "      <td>100256</td>\n",
       "    </tr>\n",
       "    <tr>\n",
       "      <th>1</th>\n",
       "      <td>2</td>\n",
       "      <td>Barguna</td>\n",
       "      <td>Patharghata</td>\n",
       "      <td>KATHALTALI SAPTAGRAM HIGH SCHOOL AND COLLEGE</td>\n",
       "      <td>100310</td>\n",
       "    </tr>\n",
       "    <tr>\n",
       "      <th>2</th>\n",
       "      <td>3</td>\n",
       "      <td>BARISHAL</td>\n",
       "      <td>Bakerganj</td>\n",
       "      <td>KGS SECONDARY SCHOOL AND COLLEGE</td>\n",
       "      <td>100492</td>\n",
       "    </tr>\n",
       "    <tr>\n",
       "      <th>3</th>\n",
       "      <td>4</td>\n",
       "      <td>Bhola</td>\n",
       "      <td>Lalmohan</td>\n",
       "      <td>GAZARIA GIRLS SCHOOL AND COLLEGE</td>\n",
       "      <td>101503</td>\n",
       "    </tr>\n",
       "    <tr>\n",
       "      <th>4</th>\n",
       "      <td>5</td>\n",
       "      <td>Bhola</td>\n",
       "      <td>Lalmohan</td>\n",
       "      <td>KARIMGONJ ISLAMIA ALIM MADRASHA</td>\n",
       "      <td>101530</td>\n",
       "    </tr>\n",
       "  </tbody>\n",
       "</table>\n",
       "</div>"
      ],
      "text/plain": [
       "   REF NO  DISTRICT      UPAZILA  \\\n",
       "0       1   Barguna       Betagi   \n",
       "1       2   Barguna  Patharghata   \n",
       "2       3  BARISHAL    Bakerganj   \n",
       "3       4     Bhola     Lalmohan   \n",
       "4       5     Bhola     Lalmohan   \n",
       "\n",
       "                                 ORGANIZATION_NAME    EIIN  \n",
       "0  BIBCHINI NIAMATI UNITED HIGH SCHOOL AND COLLEGE  100256  \n",
       "1     KATHALTALI SAPTAGRAM HIGH SCHOOL AND COLLEGE  100310  \n",
       "2                 KGS SECONDARY SCHOOL AND COLLEGE  100492  \n",
       "3                 GAZARIA GIRLS SCHOOL AND COLLEGE  101503  \n",
       "4                  KARIMGONJ ISLAMIA ALIM MADRASHA  101530  "
      ]
     },
     "execution_count": 4,
     "metadata": {},
     "output_type": "execute_result"
    }
   ],
   "source": [
    "pbgsi_institutions.head()"
   ]
  },
  {
   "cell_type": "code",
   "execution_count": 9,
   "id": "af0504cf",
   "metadata": {},
   "outputs": [],
   "source": [
    "df_general_information_submitted = general_information[general_information['submitted']==1]"
   ]
  },
  {
   "cell_type": "code",
   "execution_count": 10,
   "id": "5dceb0ac",
   "metadata": {},
   "outputs": [],
   "source": [
    "df_general_information_merged = pd.merge(df_general_information_submitted, type_and_level, on='eiin', how='inner', suffixes=('', '_type_and_level'))\n",
    "df_general_information_merged = pd.merge(df_general_information_merged, compliance1, on='eiin', how='inner', suffixes=('', '_compliance1'))\n",
    "df_general_information_merged = pd.merge(df_general_information_merged, compliance2, on='eiin', how='inner', suffixes=('', '_compliance2'))\n",
    "df_general_information_merged = pd.merge(df_general_information_merged, compliance3, on='eiin', how='inner', suffixes=('', '_compliance3'))"
   ]
  },
  {
   "cell_type": "code",
   "execution_count": 7,
   "id": "9aa072fe",
   "metadata": {},
   "outputs": [],
   "source": [
    "pbgsi_institutions['EIIN'] = pbgsi_institutions['EIIN'].astype(str)"
   ]
  },
  {
   "cell_type": "code",
   "execution_count": 8,
   "id": "9fc0a58d",
   "metadata": {},
   "outputs": [],
   "source": [
    "df_pbgsi_institutions = pd.merge(df_general_information_merged, pbgsi_institutions, left_on=\"eiin\", right_on=\"EIIN\", how=\"inner\", suffixes=('', '_pbgsi') )"
   ]
  },
  {
   "cell_type": "markdown",
   "id": "f4abe8fc",
   "metadata": {},
   "source": [
    "### Table 1: Number of Secondary Institutions Having Management Accountability Grant and refunded the grant by Type of institution\n"
   ]
  },
  {
   "cell_type": "code",
   "execution_count": 91,
   "id": "c8bc7587",
   "metadata": {},
   "outputs": [
    {
     "data": {
      "application/vnd.microsoft.datawrangler.viewer.v0+json": {
       "columns": [
        {
         "name": "index",
         "rawType": "int64",
         "type": "integer"
        },
        {
         "name": "id",
         "rawType": "int64",
         "type": "integer"
        },
        {
         "name": "institution_name_bangla",
         "rawType": "object",
         "type": "string"
        },
        {
         "name": "institution_name_english",
         "rawType": "object",
         "type": "string"
        },
        {
         "name": "address_village_holding",
         "rawType": "object",
         "type": "string"
        },
        {
         "name": "address_road",
         "rawType": "object",
         "type": "unknown"
        },
        {
         "name": "address_post_office",
         "rawType": "object",
         "type": "string"
        },
        {
         "name": "address_post_code",
         "rawType": "object",
         "type": "string"
        },
        {
         "name": "[union]",
         "rawType": "float64",
         "type": "float"
        },
        {
         "name": "address_ward",
         "rawType": "float64",
         "type": "float"
        },
        {
         "name": "address_thana",
         "rawType": "float64",
         "type": "float"
        },
        {
         "name": "address_district",
         "rawType": "float64",
         "type": "float"
        },
        {
         "name": "address_division",
         "rawType": "float64",
         "type": "float"
        },
        {
         "name": "mobile_number",
         "rawType": "object",
         "type": "string"
        },
        {
         "name": "picture",
         "rawType": "object",
         "type": "string"
        },
        {
         "name": "latitude",
         "rawType": "float64",
         "type": "float"
        },
        {
         "name": "longitude",
         "rawType": "float64",
         "type": "float"
        },
        {
         "name": "ownership_type",
         "rawType": "object",
         "type": "string"
        },
        {
         "name": "is_owned_land",
         "rawType": "object",
         "type": "unknown"
        },
        {
         "name": "has_deed",
         "rawType": "object",
         "type": "unknown"
        },
        {
         "name": "has_mutation",
         "rawType": "object",
         "type": "unknown"
        },
        {
         "name": "pays_taxes",
         "rawType": "object",
         "type": "unknown"
        },
        {
         "name": "academic_activities_running",
         "rawType": "object",
         "type": "unknown"
        },
        {
         "name": "eiin_yes_no",
         "rawType": "float64",
         "type": "float"
        },
        {
         "name": "eiin",
         "rawType": "object",
         "type": "string"
        },
        {
         "name": "non_eiin_id",
         "rawType": "float64",
         "type": "float"
        },
        {
         "name": "horizontal_accuracy",
         "rawType": "float64",
         "type": "float"
        },
        {
         "name": "vertical_accuracy",
         "rawType": "float64",
         "type": "float"
        },
        {
         "name": "position_time",
         "rawType": "float64",
         "type": "float"
        },
        {
         "name": "inst_category",
         "rawType": "int64",
         "type": "integer"
        },
        {
         "name": "establishment_date",
         "rawType": "object",
         "type": "string"
        },
        {
         "name": "union_ward",
         "rawType": "object",
         "type": "string"
        },
        {
         "name": "municipility",
         "rawType": "object",
         "type": "unknown"
        },
        {
         "name": "municipility_ward",
         "rawType": "float64",
         "type": "float"
        },
        {
         "name": "union",
         "rawType": "object",
         "type": "string"
        },
        {
         "name": "city_corporation",
         "rawType": "object",
         "type": "unknown"
        },
        {
         "name": "city_corporation_ward",
         "rawType": "float64",
         "type": "float"
        },
        {
         "name": "ward_type",
         "rawType": "object",
         "type": "unknown"
        },
        {
         "name": "total_land_area",
         "rawType": "float64",
         "type": "float"
        },
        {
         "name": "submitted",
         "rawType": "object",
         "type": "unknown"
        },
        {
         "name": "submitted_by",
         "rawType": "float64",
         "type": "float"
        },
        {
         "name": "forwarded_by_useo",
         "rawType": "float64",
         "type": "float"
        },
        {
         "name": "forwarded_by_deo",
         "rawType": "float64",
         "type": "float"
        },
        {
         "name": "active_status",
         "rawType": "float64",
         "type": "float"
        },
        {
         "name": "active_status_comment",
         "rawType": "object",
         "type": "unknown"
        },
        {
         "name": "stopped",
         "rawType": "float64",
         "type": "float"
        },
        {
         "name": "db_source",
         "rawType": "object",
         "type": "string"
        },
        {
         "name": "submitted_at",
         "rawType": "object",
         "type": "string"
        },
        {
         "name": "submitted_app_version",
         "rawType": "object",
         "type": "string"
        },
        {
         "name": "comments",
         "rawType": "object",
         "type": "unknown"
        },
        {
         "name": "forward_back_deo_msg",
         "rawType": "object",
         "type": "unknown"
        },
        {
         "name": "forward_back_useo_msg",
         "rawType": "object",
         "type": "unknown"
        },
        {
         "name": "id_type_and_level",
         "rawType": "int64",
         "type": "integer"
        },
        {
         "name": "institution_type",
         "rawType": "int64",
         "type": "integer"
        },
        {
         "name": "maximum_level",
         "rawType": "float64",
         "type": "float"
        },
        {
         "name": "student_type",
         "rawType": "float64",
         "type": "float"
        },
        {
         "name": "approval_status",
         "rawType": "float64",
         "type": "float"
        },
        {
         "name": "management_type",
         "rawType": "float64",
         "type": "float"
        },
        {
         "name": "mpo_status",
         "rawType": "float64",
         "type": "float"
        },
        {
         "name": "has_technical_attachment",
         "rawType": "object",
         "type": "unknown"
        },
        {
         "name": "technical_type",
         "rawType": "float64",
         "type": "float"
        },
        {
         "name": "teaching_medium_bangla",
         "rawType": "object",
         "type": "unknown"
        },
        {
         "name": "teaching_medium_english",
         "rawType": "object",
         "type": "unknown"
        },
        {
         "name": "teaching_medium_english_version",
         "rawType": "object",
         "type": "unknown"
        },
        {
         "name": "teaching_medium_arabic",
         "rawType": "object",
         "type": "unknown"
        },
        {
         "name": "shifts_operated",
         "rawType": "float64",
         "type": "float"
        },
        {
         "name": "has_build_approval",
         "rawType": "object",
         "type": "unknown"
        },
        {
         "name": "has_teaching_approval",
         "rawType": "object",
         "type": "unknown"
        },
        {
         "name": "has_full_approval",
         "rawType": "object",
         "type": "unknown"
        },
        {
         "name": "has_no_approval",
         "rawType": "object",
         "type": "unknown"
        },
        {
         "name": "id_compliance1",
         "rawType": "int64",
         "type": "integer"
        },
        {
         "name": "teachers_count_total",
         "rawType": "float64",
         "type": "float"
        },
        {
         "name": "teachers_count_female",
         "rawType": "float64",
         "type": "float"
        },
        {
         "name": "staff_count_total",
         "rawType": "float64",
         "type": "float"
        },
        {
         "name": "staff_count_female",
         "rawType": "float64",
         "type": "float"
        },
        {
         "name": "trained_teachers",
         "rawType": "float64",
         "type": "float"
        },
        {
         "name": "total_students",
         "rawType": "float64",
         "type": "float"
        },
        {
         "name": "total_female_students",
         "rawType": "float64",
         "type": "float"
        },
        {
         "name": "has_six_grade",
         "rawType": "object",
         "type": "unknown"
        },
        {
         "name": "total_seats_six",
         "rawType": "float64",
         "type": "float"
        },
        {
         "name": "total_students_six",
         "rawType": "float64",
         "type": "float"
        },
        {
         "name": "female_students_six",
         "rawType": "float64",
         "type": "float"
        },
        {
         "name": "has_seven_grade",
         "rawType": "object",
         "type": "unknown"
        },
        {
         "name": "total_seats_seven",
         "rawType": "float64",
         "type": "float"
        },
        {
         "name": "total_students_seven",
         "rawType": "float64",
         "type": "float"
        },
        {
         "name": "female_students_seven",
         "rawType": "float64",
         "type": "float"
        },
        {
         "name": "has_eight_grade",
         "rawType": "object",
         "type": "unknown"
        },
        {
         "name": "total_seats_eight",
         "rawType": "float64",
         "type": "float"
        },
        {
         "name": "total_students_eight",
         "rawType": "float64",
         "type": "float"
        },
        {
         "name": "female_students_eight",
         "rawType": "float64",
         "type": "float"
        },
        {
         "name": "has_nine_grade",
         "rawType": "object",
         "type": "unknown"
        },
        {
         "name": "total_seats_nine",
         "rawType": "float64",
         "type": "float"
        },
        {
         "name": "total_students_nine",
         "rawType": "float64",
         "type": "float"
        },
        {
         "name": "female_students_nine",
         "rawType": "float64",
         "type": "float"
        },
        {
         "name": "has_ten_grade",
         "rawType": "object",
         "type": "unknown"
        },
        {
         "name": "total_seats_ten",
         "rawType": "float64",
         "type": "float"
        },
        {
         "name": "total_students_ten",
         "rawType": "float64",
         "type": "float"
        },
        {
         "name": "female_students_ten",
         "rawType": "float64",
         "type": "float"
        },
        {
         "name": "has_eleven_grade",
         "rawType": "object",
         "type": "unknown"
        },
        {
         "name": "total_seats_eleven",
         "rawType": "float64",
         "type": "float"
        },
        {
         "name": "total_students_eleven",
         "rawType": "float64",
         "type": "float"
        },
        {
         "name": "female_students_eleven",
         "rawType": "float64",
         "type": "float"
        },
        {
         "name": "has_twelve_grade",
         "rawType": "object",
         "type": "unknown"
        },
        {
         "name": "total_seats_twelve",
         "rawType": "float64",
         "type": "float"
        },
        {
         "name": "total_students_twelve",
         "rawType": "float64",
         "type": "float"
        },
        {
         "name": "female_students_twelve",
         "rawType": "float64",
         "type": "float"
        },
        {
         "name": "technical_teacher_count_total",
         "rawType": "float64",
         "type": "float"
        },
        {
         "name": "technical_teacher_count_female",
         "rawType": "float64",
         "type": "float"
        },
        {
         "name": "technical_staff_count_total",
         "rawType": "float64",
         "type": "float"
        },
        {
         "name": "technical_staff_count_female",
         "rawType": "float64",
         "type": "float"
        },
        {
         "name": "technical_trained_teachers",
         "rawType": "float64",
         "type": "float"
        },
        {
         "name": "technical_ict_teachers",
         "rawType": "float64",
         "type": "float"
        },
        {
         "name": "technical_total_male_students",
         "rawType": "float64",
         "type": "float"
        },
        {
         "name": "technical_total_female_students",
         "rawType": "float64",
         "type": "float"
        },
        {
         "name": "technical_total_seats",
         "rawType": "float64",
         "type": "float"
        },
        {
         "name": "technical_total_students",
         "rawType": "float64",
         "type": "float"
        },
        {
         "name": "total_seats_part_1",
         "rawType": "float64",
         "type": "float"
        },
        {
         "name": "total_students_part_1",
         "rawType": "float64",
         "type": "float"
        },
        {
         "name": "female_students_part1",
         "rawType": "float64",
         "type": "float"
        },
        {
         "name": "total_seats_part_2",
         "rawType": "float64",
         "type": "float"
        },
        {
         "name": "total_students_part_2",
         "rawType": "float64",
         "type": "float"
        },
        {
         "name": "female_students_part2",
         "rawType": "float64",
         "type": "float"
        },
        {
         "name": "total_seats_part_3",
         "rawType": "float64",
         "type": "float"
        },
        {
         "name": "total_students_part_3",
         "rawType": "float64",
         "type": "float"
        },
        {
         "name": "female_students_part3",
         "rawType": "float64",
         "type": "float"
        },
        {
         "name": "total_seats_part_4",
         "rawType": "float64",
         "type": "float"
        },
        {
         "name": "total_students_part_4",
         "rawType": "float64",
         "type": "float"
        },
        {
         "name": "female_students_part4",
         "rawType": "float64",
         "type": "float"
        },
        {
         "name": "total_seats_part_5",
         "rawType": "float64",
         "type": "float"
        },
        {
         "name": "total_students_part_5",
         "rawType": "float64",
         "type": "float"
        },
        {
         "name": "female_students_part5",
         "rawType": "float64",
         "type": "float"
        },
        {
         "name": "total_seats_part_6",
         "rawType": "float64",
         "type": "float"
        },
        {
         "name": "total_students_part_6",
         "rawType": "float64",
         "type": "float"
        },
        {
         "name": "female_students_part6",
         "rawType": "float64",
         "type": "float"
        },
        {
         "name": "total_seats_part_7",
         "rawType": "float64",
         "type": "float"
        },
        {
         "name": "total_students_part_7",
         "rawType": "float64",
         "type": "float"
        },
        {
         "name": "female_students_part7",
         "rawType": "float64",
         "type": "float"
        },
        {
         "name": "total_seats_part_8",
         "rawType": "float64",
         "type": "float"
        },
        {
         "name": "total_students_part_8",
         "rawType": "float64",
         "type": "float"
        },
        {
         "name": "female_students_part8",
         "rawType": "float64",
         "type": "float"
        },
        {
         "name": "female_students_part_1",
         "rawType": "float64",
         "type": "float"
        },
        {
         "name": "female_students_part_2",
         "rawType": "float64",
         "type": "float"
        },
        {
         "name": "female_students_part_3",
         "rawType": "float64",
         "type": "float"
        },
        {
         "name": "female_students_part_4",
         "rawType": "float64",
         "type": "float"
        },
        {
         "name": "female_students_part_5",
         "rawType": "float64",
         "type": "float"
        },
        {
         "name": "female_students_part_6",
         "rawType": "float64",
         "type": "float"
        },
        {
         "name": "female_students_part_7",
         "rawType": "float64",
         "type": "float"
        },
        {
         "name": "female_students_part_8",
         "rawType": "float64",
         "type": "float"
        },
        {
         "name": "id_compliance2",
         "rawType": "int64",
         "type": "integer"
        },
        {
         "name": "pbgsi_scheme",
         "rawType": "bool",
         "type": "boolean"
        },
        {
         "name": "pbsci_fiscal_year",
         "rawType": "object",
         "type": "string"
        },
        {
         "name": "functional_smc_mmc_gb",
         "rawType": "object",
         "type": "unknown"
        },
        {
         "name": "meetings_2022",
         "rawType": "float64",
         "type": "float"
        },
        {
         "name": "meetings_2023",
         "rawType": "float64",
         "type": "float"
        },
        {
         "name": "annual_budget_approved",
         "rawType": "object",
         "type": "unknown"
        },
        {
         "name": "public_participation",
         "rawType": "object",
         "type": "unknown"
        },
        {
         "name": "academic_initiatives",
         "rawType": "object",
         "type": "unknown"
        },
        {
         "name": "responsibilities_completed",
         "rawType": "object",
         "type": "unknown"
        },
        {
         "name": "functional_pta",
         "rawType": "object",
         "type": "unknown"
        },
        {
         "name": "pta_meetings_2022",
         "rawType": "float64",
         "type": "float"
        },
        {
         "name": "pta_meetings_2023",
         "rawType": "float64",
         "type": "float"
        },
        {
         "name": "pta_public_participation",
         "rawType": "object",
         "type": "unknown"
        },
        {
         "name": "cleanliness_involvement",
         "rawType": "object",
         "type": "unknown"
        },
        {
         "name": "smag_mmag_gb_discussion",
         "rawType": "object",
         "type": "unknown"
        },
        {
         "name": "smag_mmag_gb_resolution",
         "rawType": "object",
         "type": "unknown"
        },
        {
         "name": "sexual_harassment_committee",
         "rawType": "object",
         "type": "unknown"
        },
        {
         "name": "committee_regular_work",
         "rawType": "object",
         "type": "unknown"
        },
        {
         "name": "annual_social_audit",
         "rawType": "float64",
         "type": "float"
        },
        {
         "name": "audit_observations_displayed",
         "rawType": "object",
         "type": "unknown"
        },
        {
         "name": "eims_submission_timely",
         "rawType": "object",
         "type": "unknown"
        },
        {
         "name": "board",
         "rawType": "object",
         "type": "string"
        },
        {
         "name": "ssc_2021_total_students",
         "rawType": "float64",
         "type": "float"
        },
        {
         "name": "ssc_2021_passed_students",
         "rawType": "float64",
         "type": "float"
        },
        {
         "name": "ssc_board_2021_pass_rate",
         "rawType": "float64",
         "type": "float"
        },
        {
         "name": "ssc_2022_total_students",
         "rawType": "float64",
         "type": "float"
        },
        {
         "name": "ssc_2022_passed_students",
         "rawType": "float64",
         "type": "float"
        },
        {
         "name": "ssc_board_2022_pass_rate",
         "rawType": "float64",
         "type": "float"
        },
        {
         "name": "hsc_2021_total_students",
         "rawType": "float64",
         "type": "float"
        },
        {
         "name": "hsc_2021_passed_students",
         "rawType": "float64",
         "type": "float"
        },
        {
         "name": "hsc_board_2021_pass_rate",
         "rawType": "float64",
         "type": "float"
        },
        {
         "name": "hsc_2022_total_students",
         "rawType": "float64",
         "type": "float"
        },
        {
         "name": "hsc_2022_passed_students",
         "rawType": "float64",
         "type": "float"
        },
        {
         "name": "hsc_board_2022_pass_rate",
         "rawType": "float64",
         "type": "float"
        },
        {
         "name": "pass_rate",
         "rawType": "float64",
         "type": "float"
        },
        {
         "name": "students_attendance_2022",
         "rawType": "float64",
         "type": "float"
        },
        {
         "name": "teachers_attendance_2022",
         "rawType": "float64",
         "type": "float"
        },
        {
         "name": "report_card_regularly_stored",
         "rawType": "object",
         "type": "unknown"
        },
        {
         "name": "report_card_displayed",
         "rawType": "object",
         "type": "unknown"
        },
        {
         "name": "report_card_not_regularly_stored",
         "rawType": "object",
         "type": "unknown"
        },
        {
         "name": "separate_washrooms",
         "rawType": "object",
         "type": "unknown"
        },
        {
         "name": "common_room",
         "rawType": "object",
         "type": "unknown"
        },
        {
         "name": "first_aid",
         "rawType": "object",
         "type": "unknown"
        },
        {
         "name": "no_adequate_facilities_washroom",
         "rawType": "object",
         "type": "unknown"
        },
        {
         "name": "clean_environment",
         "rawType": "object",
         "type": "unknown"
        },
        {
         "name": "regular_cleaning_plan",
         "rawType": "object",
         "type": "unknown"
        },
        {
         "name": "student_participation_in_cleaning",
         "rawType": "object",
         "type": "unknown"
        },
        {
         "name": "cleaning_activities",
         "rawType": "object",
         "type": "unknown"
        },
        {
         "name": "martyrs_memorial",
         "rawType": "object",
         "type": "unknown"
        },
        {
         "name": "separate_library",
         "rawType": "object",
         "type": "unknown"
        },
        {
         "name": "liberation_war_corner",
         "rawType": "object",
         "type": "unknown"
        },
        {
         "name": "playground",
         "rawType": "object",
         "type": "unknown"
        },
        {
         "name": "national_anthem_with_parade",
         "rawType": "object",
         "type": "unknown"
        },
        {
         "name": "indoor_national_anthem",
         "rawType": "object",
         "type": "unknown"
        },
        {
         "name": "national_days_celebrated",
         "rawType": "object",
         "type": "unknown"
        },
        {
         "name": "proper_flag_hoisting",
         "rawType": "object",
         "type": "unknown"
        },
        {
         "name": "cultural_competitions",
         "rawType": "object",
         "type": "unknown"
        },
        {
         "name": "bncc",
         "rawType": "object",
         "type": "unknown"
        },
        {
         "name": "scout_girls_guide_rover",
         "rawType": "object",
         "type": "unknown"
        },
        {
         "name": "sports_competitions",
         "rawType": "object",
         "type": "unknown"
        },
        {
         "name": "debate_competitions",
         "rawType": "object",
         "type": "unknown"
        },
        {
         "name": "anti_smoking_campaign",
         "rawType": "object",
         "type": "unknown"
        },
        {
         "name": "anti_terrorism_campaign",
         "rawType": "object",
         "type": "unknown"
        },
        {
         "name": "anti_child_marriage_campaign",
         "rawType": "object",
         "type": "unknown"
        },
        {
         "name": "laboratory",
         "rawType": "object",
         "type": "unknown"
        },
        {
         "name": "report_card_published_in_web",
         "rawType": "object",
         "type": "unknown"
        },
        {
         "name": "garden_scope",
         "rawType": "object",
         "type": "unknown"
        },
        {
         "name": "anti_narcotics_campaign",
         "rawType": "object",
         "type": "unknown"
        },
        {
         "name": "tree_plantation_campaign",
         "rawType": "object",
         "type": "unknown"
        },
        {
         "name": "anti_cyber_bullying",
         "rawType": "object",
         "type": "unknown"
        },
        {
         "name": "was_returned",
         "rawType": "object",
         "type": "unknown"
        },
        {
         "name": "id_compliance3",
         "rawType": "int64",
         "type": "integer"
        },
        {
         "name": "smag_purchase_resolution_done",
         "rawType": "object",
         "type": "unknown"
        },
        {
         "name": "smag_expense_distribution_done",
         "rawType": "object",
         "type": "unknown"
        },
        {
         "name": "incentive_teachers_count",
         "rawType": "float64",
         "type": "float"
        },
        {
         "name": "incentive_distributed_as_per_rate",
         "rawType": "object",
         "type": "unknown"
        },
        {
         "name": "committees_formed_for_purchase",
         "rawType": "object",
         "type": "unknown"
        },
        {
         "name": "purchase_completed_through_committees",
         "rawType": "object",
         "type": "unknown"
        },
        {
         "name": "book_list_exists",
         "rawType": "object",
         "type": "unknown"
        },
        {
         "name": "library_books_expense_2023",
         "rawType": "float64",
         "type": "float"
        },
        {
         "name": "facility_expense_for_girls",
         "rawType": "float64",
         "type": "float"
        },
        {
         "name": "smag_assistance_provided_through_committee",
         "rawType": "object",
         "type": "unknown"
        },
        {
         "name": "smag_assistance_provided_to_disadvantaged_students",
         "rawType": "object",
         "type": "unknown"
        },
        {
         "name": "smag_disadvantaged_students_assisted_count",
         "rawType": "float64",
         "type": "float"
        },
        {
         "name": "smag_disadvantaged_students_boys_count",
         "rawType": "float64",
         "type": "float"
        },
        {
         "name": "smag_disadvantaged_students_girls_count",
         "rawType": "float64",
         "type": "float"
        },
        {
         "name": "financial_aid_to_special_needs_students",
         "rawType": "object",
         "type": "unknown"
        },
        {
         "name": "smag_special_needs_students_aid_count",
         "rawType": "float64",
         "type": "float"
        },
        {
         "name": "total_financial_aid_amount_2023",
         "rawType": "float64",
         "type": "float"
        },
        {
         "name": "disabled_friendly_infrastructure_built",
         "rawType": "object",
         "type": "unknown"
        },
        {
         "name": "wheelchair_cost",
         "rawType": "float64",
         "type": "float"
        },
        {
         "name": "crutch_cost",
         "rawType": "float64",
         "type": "float"
        },
        {
         "name": "white_cane_cost",
         "rawType": "float64",
         "type": "float"
        },
        {
         "name": "hearing_aid_cost",
         "rawType": "float64",
         "type": "float"
        },
        {
         "name": "ramp_cost",
         "rawType": "float64",
         "type": "float"
        },
        {
         "name": "other_infrastructure_cost",
         "rawType": "float64",
         "type": "float"
        },
        {
         "name": "stock_register_cashbook_entry",
         "rawType": "object",
         "type": "unknown"
        },
        {
         "name": "got_ubsa_hsca",
         "rawType": "object",
         "type": "unknown"
        },
        {
         "name": "total_ssc_2022_ubsa",
         "rawType": "float64",
         "type": "float"
        },
        {
         "name": "total_ssc_2023_ubsa",
         "rawType": "float64",
         "type": "float"
        },
        {
         "name": "total_hsc_2022_hsca",
         "rawType": "float64",
         "type": "float"
        },
        {
         "name": "total_hsc_2023_hsca",
         "rawType": "float64",
         "type": "float"
        },
        {
         "name": "has_contributed_to_advancement",
         "rawType": "object",
         "type": "unknown"
        },
        {
         "name": "REF NO",
         "rawType": "int64",
         "type": "integer"
        },
        {
         "name": "DISTRICT",
         "rawType": "object",
         "type": "string"
        },
        {
         "name": "UPAZILA",
         "rawType": "object",
         "type": "string"
        },
        {
         "name": "ORGANIZATION_NAME",
         "rawType": "object",
         "type": "string"
        },
        {
         "name": "EIIN",
         "rawType": "object",
         "type": "string"
        }
       ],
       "ref": "040a666a-8909-4dda-9efa-74e30db61565",
       "rows": [
        [
         "0",
         "187117",
         "মনসুর মহসিন ডৌবাড়ী উচ্চ বিদ্যালয়",
         "MANSUR MOHSIN DOWBARI HIGH SCHOOL",
         "DOWBARHI",
         "DOWBARHI Gowainghat",
         "DOUBARHI",
         "3150",
         null,
         null,
         "207.0",
         "63.0",
         "7.0",
         "01737383562",
         "130317_20250821_155601.jpg",
         "25.0426186",
         "91.9852518",
         "OWN",
         "False",
         "True",
         "True",
         "True",
         "True",
         null,
         "130317",
         null,
         "8.0",
         "100.0",
         null,
         "1",
         "01-01-1989",
         "01",
         null,
         null,
         "? ?? ??????",
         null,
         null,
         "True",
         "232.0",
         "True",
         "3629.0",
         null,
         null,
         null,
         null,
         "0.0",
         "ESURVEY",
         "2025-08-21 15:56:00.083",
         "2.2.1",
         null,
         null,
         null,
         "28395",
         "1",
         "2.0",
         "3.0",
         null,
         "2.0",
         "1.0",
         "False",
         null,
         "True",
         null,
         null,
         null,
         "1.0",
         "False",
         "False",
         "True",
         null,
         "28365",
         "11.0",
         "3.0",
         "5.0",
         "0.0",
         "8.0",
         "395.0",
         "191.0",
         "True",
         "0.0",
         "98.0",
         "42.0",
         "True",
         "0.0",
         "89.0",
         "41.0",
         "True",
         "0.0",
         "92.0",
         "52.0",
         "True",
         "0.0",
         "65.0",
         "30.0",
         "True",
         "0.0",
         "51.0",
         "26.0",
         null,
         null,
         null,
         null,
         null,
         null,
         null,
         null,
         null,
         null,
         null,
         null,
         null,
         null,
         null,
         null,
         null,
         null,
         null,
         null,
         null,
         null,
         null,
         null,
         null,
         null,
         null,
         null,
         null,
         null,
         null,
         null,
         null,
         null,
         null,
         null,
         null,
         null,
         null,
         null,
         null,
         null,
         null,
         null,
         null,
         null,
         null,
         null,
         null,
         null,
         "28866",
         "True",
         "2022-2023",
         "True",
         "9.0",
         "10.0",
         "True",
         "True",
         "True",
         "True",
         null,
         null,
         null,
         null,
         null,
         null,
         null,
         "True",
         "True",
         null,
         null,
         "True",
         "SYLHET",
         "49.0",
         "46.0",
         "94.0",
         "80.0",
         "68.0",
         "86.0",
         null,
         null,
         null,
         null,
         null,
         null,
         null,
         "75.0",
         "97.0",
         "True",
         "False",
         "False",
         "False",
         "False",
         "True",
         null,
         "True",
         "True",
         "True",
         null,
         "True",
         "False",
         null,
         "True",
         "True",
         "True",
         "True",
         "True",
         "True",
         "False",
         "True",
         "True",
         "True",
         "True",
         "True",
         "True",
         null,
         null,
         null,
         null,
         null,
         null,
         "False",
         "28925",
         null,
         "False",
         "0.0",
         "False",
         "False",
         "False",
         "False",
         "0.0",
         "0.0",
         "False",
         "False",
         null,
         null,
         null,
         "False",
         null,
         null,
         "False",
         null,
         null,
         null,
         null,
         null,
         null,
         "False",
         "False",
         null,
         null,
         null,
         null,
         "False",
         "4757",
         "Sylhet",
         "Gowainghat",
         "MANSUR MAHSIN DOWBARI HIGH SCHOOL",
         "130317"
        ],
        [
         "1",
         "187139",
         "আব্দুল জলিল একাডেমী",
         "ABDUL JALIL ACADEMY",
         "Annayapur",
         null,
         "Shibaloy",
         "1850",
         null,
         null,
         "514.0",
         "36.0",
         "4.0",
         "01309111046",
         "111046_20250816_053238.jpg",
         "23.8112316",
         "89.788421",
         "OWN",
         "False",
         "True",
         "True",
         "True",
         "True",
         null,
         "111046",
         null,
         "11.07699966430664",
         "15.138550758361816",
         null,
         "1",
         "08-03-1990",
         "4",
         null,
         null,
         "Shibaloy",
         null,
         null,
         "True",
         "138.0",
         "True",
         "2524.0",
         "1.0",
         null,
         null,
         null,
         "0.0",
         "ESURVEY",
         "2025-08-16 05:32:37.867",
         "2.0.2",
         null,
         null,
         null,
         "8128",
         "1",
         "2.0",
         "3.0",
         null,
         "2.0",
         "1.0",
         "False",
         null,
         "True",
         null,
         null,
         null,
         "1.0",
         "False",
         "True",
         "True",
         null,
         "8096",
         "9.0",
         "2.0",
         "5.0",
         "0.0",
         "7.0",
         "280.0",
         "161.0",
         "True",
         "55.0",
         "55.0",
         "30.0",
         "True",
         "55.0",
         "89.0",
         "55.0",
         "True",
         "55.0",
         "40.0",
         "22.0",
         "True",
         "110.0",
         "53.0",
         "26.0",
         "True",
         "55.0",
         "43.0",
         "28.0",
         null,
         null,
         null,
         null,
         null,
         null,
         null,
         null,
         null,
         null,
         null,
         null,
         null,
         null,
         null,
         null,
         null,
         null,
         null,
         null,
         null,
         null,
         null,
         null,
         null,
         null,
         null,
         null,
         null,
         null,
         null,
         null,
         null,
         null,
         null,
         null,
         null,
         null,
         null,
         null,
         null,
         null,
         null,
         null,
         null,
         null,
         null,
         null,
         null,
         null,
         "8099",
         "True",
         "2023-2024",
         "True",
         "3.0",
         "6.0",
         "True",
         "True",
         "True",
         "True",
         null,
         null,
         null,
         null,
         null,
         null,
         null,
         "True",
         "True",
         null,
         null,
         "True",
         "DHAKA",
         "56.0",
         "50.0",
         "93.2",
         "32.0",
         "24.0",
         "90.1",
         null,
         null,
         null,
         null,
         null,
         null,
         null,
         "60.0",
         "85.0",
         "True",
         null,
         null,
         "False",
         "True",
         "True",
         null,
         "True",
         "True",
         "True",
         null,
         "True",
         "False",
         null,
         "True",
         "True",
         "True",
         "True",
         "True",
         "True",
         "False",
         "True",
         "True",
         "True",
         "True",
         "True",
         "True",
         null,
         null,
         null,
         null,
         null,
         null,
         "False",
         "8096",
         null,
         "True",
         "9.0",
         "True",
         "True",
         "True",
         "True",
         "150000.0",
         "125000.0",
         "True",
         "True",
         null,
         "5.0",
         "10.0",
         "False",
         null,
         null,
         "True",
         "0.0",
         "0.0",
         "0.0",
         "0.0",
         "50000.0",
         "0.0",
         "True",
         "False",
         null,
         null,
         null,
         null,
         "True",
         "2411",
         "Manikganj",
         "Shibalaya",
         "ABDUL JALIL ACADEMY",
         "111046"
        ],
        [
         "2",
         "187144",
         "কৃষ্ণপুর জোহরা বালিকা উচ্চ বিদ্যালয়",
         "KRISHNAPUR ZOHARA GIRLS HIGH SCHOOL",
         "KRISNAPUR",
         "Jaforbari sarok",
         "Mahamaya",
         "3600",
         null,
         null,
         "107.0",
         "9.0",
         "3.0",
         "01845820727",
         "103522_20250902_090507.jpg",
         "23.2580749",
         "90.7360252",
         "OWN",
         "False",
         "True",
         "True",
         "True",
         "True",
         null,
         "103522",
         null,
         "6.800000190734863",
         "41.602500915527344",
         null,
         "1",
         "01-01-1972",
         "1",
         null,
         null,
         "4 No Shahmahmudpur Union",
         null,
         null,
         "True",
         "140.0",
         "True",
         "5046.0",
         "1.0",
         null,
         null,
         null,
         "0.0",
         "ESURVEY",
         "2025-09-02 09:03:38.047",
         "2.4.2",
         null,
         null,
         null,
         "47137",
         "1",
         "2.0",
         "2.0",
         null,
         "2.0",
         "1.0",
         "False",
         null,
         "True",
         null,
         null,
         null,
         "1.0",
         "True",
         null,
         "True",
         null,
         "47108",
         "8.0",
         "2.0",
         "6.0",
         "3.0",
         "6.0",
         "273.0",
         "273.0",
         "True",
         "55.0",
         "48.0",
         "48.0",
         "True",
         "55.0",
         "75.0",
         "75.0",
         "True",
         "55.0",
         "35.0",
         "35.0",
         "True",
         "55.0",
         "62.0",
         "62.0",
         "True",
         "55.0",
         "53.0",
         "53.0",
         null,
         null,
         null,
         null,
         null,
         null,
         null,
         null,
         null,
         null,
         null,
         null,
         null,
         null,
         null,
         null,
         null,
         null,
         null,
         null,
         null,
         null,
         null,
         null,
         null,
         null,
         null,
         null,
         null,
         null,
         null,
         null,
         null,
         null,
         null,
         null,
         null,
         null,
         null,
         null,
         null,
         null,
         null,
         null,
         null,
         null,
         null,
         null,
         null,
         null,
         "47623",
         "True",
         "2023-2024",
         "True",
         "9.0",
         "4.0",
         "True",
         "True",
         "True",
         "True",
         null,
         null,
         null,
         null,
         null,
         null,
         null,
         "True",
         "True",
         null,
         null,
         "True",
         "COMILLA",
         "54.0",
         "54.0",
         "100.0",
         "51.0",
         "50.0",
         "98.03",
         null,
         null,
         null,
         null,
         null,
         null,
         null,
         "78.0",
         "97.0",
         "True",
         "True",
         null,
         "True",
         "True",
         "False",
         null,
         "True",
         "True",
         "True",
         null,
         "False",
         "True",
         null,
         "True",
         "True",
         "True",
         "True",
         "True",
         "True",
         "False",
         "True",
         "True",
         "True",
         "True",
         "True",
         "True",
         null,
         null,
         null,
         null,
         null,
         null,
         "False",
         "47682",
         null,
         "True",
         "9.0",
         "True",
         "True",
         "True",
         "True",
         "60800.0",
         "125000.0",
         "True",
         "True",
         null,
         "0.0",
         "20.0",
         "True",
         null,
         "3.0",
         "True",
         "0.0",
         "0.0",
         "0.0",
         "0.0",
         "9500.0",
         "13000.0",
         "True",
         "False",
         null,
         null,
         null,
         null,
         "True",
         "5495",
         "CHANDPUR",
         "CHANDPUR SADAR",
         "KRISHNAPUR ZOHRA GIRLS HIGH SCHOOL",
         "103522"
        ],
        [
         "3",
         "187165",
         "কামোর উচ্চ বিদ্যালয়",
         "KAMORE HIGH SCHOOL",
         "KAMORE",
         "Bochaganj-Kaharole rd",
         "Kamore Hat",
         "5226",
         null,
         null,
         "253.0",
         "15.0",
         "8.0",
         "01714624430",
         "120540_20250821_100326.jpg",
         "25.8119623",
         "88.5346704",
         "OWN",
         "False",
         "True",
         "True",
         "True",
         "True",
         null,
         "120540",
         null,
         "2.4030001163482666",
         "7.181272983551025",
         null,
         "1",
         "01-01-1965",
         "9",
         null,
         null,
         "2 no. Rosulpur",
         null,
         null,
         "True",
         "252.0",
         "True",
         "3303.0",
         "1.0",
         "1.0",
         null,
         null,
         "0.0",
         "ESURVEY",
         "2025-08-21 10:03:25.803",
         "2.3.0",
         null,
         null,
         null,
         "27704",
         "1",
         "2.0",
         "3.0",
         null,
         "2.0",
         "1.0",
         "False",
         null,
         "True",
         null,
         null,
         null,
         "1.0",
         null,
         null,
         "True",
         null,
         "27674",
         "13.0",
         "1.0",
         "7.0",
         "2.0",
         "10.0",
         "411.0",
         "157.0",
         "True",
         "60.0",
         "83.0",
         "37.0",
         "True",
         "60.0",
         "72.0",
         "27.0",
         "True",
         "60.0",
         "101.0",
         "32.0",
         "True",
         "60.0",
         "83.0",
         "34.0",
         "True",
         "60.0",
         "72.0",
         "27.0",
         null,
         null,
         null,
         null,
         null,
         null,
         null,
         null,
         null,
         null,
         null,
         null,
         null,
         null,
         null,
         null,
         null,
         null,
         null,
         null,
         null,
         null,
         null,
         null,
         null,
         null,
         null,
         null,
         null,
         null,
         null,
         null,
         null,
         null,
         null,
         null,
         null,
         null,
         null,
         null,
         null,
         null,
         null,
         null,
         null,
         null,
         null,
         null,
         null,
         null,
         "28176",
         "True",
         "2022-2023",
         "True",
         "8.0",
         "13.0",
         "True",
         "True",
         "True",
         "True",
         null,
         null,
         null,
         null,
         null,
         null,
         null,
         "True",
         "True",
         null,
         null,
         "True",
         "DINAJPUR",
         "84.0",
         "79.0",
         "94.8",
         "63.0",
         "40.0",
         "81.16",
         null,
         null,
         null,
         null,
         null,
         null,
         null,
         "80.0",
         "95.0",
         "True",
         "True",
         null,
         "False",
         "True",
         "True",
         null,
         "True",
         "True",
         "True",
         null,
         "True",
         "False",
         null,
         "True",
         "True",
         "True",
         "True",
         "True",
         "True",
         "False",
         "False",
         "True",
         "True",
         "True",
         "True",
         "True",
         null,
         null,
         null,
         null,
         null,
         null,
         "False",
         "28235",
         null,
         "True",
         "13.0",
         "True",
         "True",
         "True",
         "True",
         "150000.0",
         "125000.0",
         "True",
         "True",
         null,
         "8.0",
         "24.0",
         "True",
         null,
         "3.0",
         "False",
         null,
         null,
         null,
         null,
         null,
         null,
         "True",
         "False",
         null,
         null,
         null,
         null,
         "True",
         "3634",
         "Dinajpur",
         "Kaharole",
         "KAMOR HIGH SCHOOL",
         "120540"
        ],
        [
         "4",
         "187178",
         "ঈদগাহ শাহ জব্বারিয়া আদর্শ দাখিল মাদ্রাসা",
         "EIDGAH SHAH JABBARIA ADARSHA DAKHIL MADRASHA",
         "MEHER GHONA",
         "COX’S BAZAR - CHATTOGRAM HIGHWAY",
         "EIDGAON",
         "4702",
         null,
         null,
         "130.0",
         "13.0",
         "3.0",
         "01819520337",
         "106305_20250821_093546.jpg",
         "21.5368518",
         "92.0645631",
         "OWN",
         "False",
         "True",
         "True",
         "True",
         "True",
         null,
         "106305",
         null,
         "3.257999897003174",
         "6.739192485809326",
         null,
         "1",
         "01-01-1987",
         "4",
         null,
         null,
         "EIDGAON",
         null,
         null,
         "True",
         "118.0",
         "True",
         "2184.0",
         "1.0",
         null,
         null,
         null,
         "0.0",
         "ESURVEY",
         "2025-08-21 09:35:46.057",
         "2.3.0",
         null,
         null,
         null,
         "11790",
         "4",
         "6.0",
         "3.0",
         null,
         "2.0",
         "1.0",
         "False",
         null,
         "True",
         "False",
         "False",
         "False",
         "1.0",
         "True",
         "True",
         "True",
         "False",
         "11758",
         "16.0",
         "1.0",
         "3.0",
         "0.0",
         "7.0",
         "348.0",
         "224.0",
         "True",
         "120.0",
         "104.0",
         "55.0",
         "True",
         "120.0",
         "74.0",
         "44.0",
         "True",
         "120.0",
         "76.0",
         "48.0",
         "True",
         "60.0",
         "57.0",
         "44.0",
         "True",
         "60.0",
         "37.0",
         "33.0",
         "False",
         null,
         null,
         null,
         "False",
         null,
         null,
         null,
         null,
         null,
         null,
         null,
         null,
         null,
         null,
         null,
         null,
         null,
         null,
         null,
         null,
         null,
         null,
         null,
         null,
         null,
         null,
         null,
         null,
         null,
         null,
         null,
         null,
         null,
         null,
         null,
         null,
         null,
         null,
         null,
         null,
         null,
         null,
         null,
         null,
         null,
         null,
         null,
         null,
         null,
         "12000",
         "True",
         "2023-2024",
         "True",
         "5.0",
         "4.0",
         "True",
         "True",
         "True",
         "True",
         "False",
         null,
         null,
         "False",
         "False",
         "False",
         "False",
         "True",
         "True",
         null,
         "False",
         "True",
         "MADRASAH",
         "40.0",
         "39.0",
         "93.24",
         "56.0",
         "51.0",
         "82.34",
         null,
         null,
         "0.0",
         null,
         null,
         "0.0",
         null,
         "82.0",
         "98.0",
         "True",
         "True",
         "True",
         "True",
         "False",
         "False",
         "False",
         "True",
         "True",
         "True",
         "False",
         "False",
         "True",
         "False",
         "True",
         "True",
         "True",
         "True",
         "True",
         "True",
         "False",
         "False",
         "True",
         "True",
         "True",
         "False",
         "True",
         "False",
         "False",
         "False",
         "False",
         "False",
         "False",
         "False",
         "12058",
         "False",
         "True",
         "14.0",
         "True",
         "True",
         "True",
         "True",
         "125000.0",
         "150000.0",
         "True",
         "True",
         null,
         "6.0",
         "14.0",
         "False",
         null,
         "0.0",
         "True",
         "0.0",
         "0.0",
         "0.0",
         "0.0",
         "0.0",
         "25000.0",
         "True",
         "False",
         null,
         null,
         null,
         null,
         "True",
         "5740",
         "Coxs Bazar",
         "Coxs Bazar Sadar",
         "EIDGAH SHAH JABBARIA ADARSHA DAKHIL MADRASHA",
         "106305"
        ]
       ],
       "shape": {
        "columns": 256,
        "rows": 5
       }
      },
      "text/html": [
       "<div>\n",
       "<style scoped>\n",
       "    .dataframe tbody tr th:only-of-type {\n",
       "        vertical-align: middle;\n",
       "    }\n",
       "\n",
       "    .dataframe tbody tr th {\n",
       "        vertical-align: top;\n",
       "    }\n",
       "\n",
       "    .dataframe thead th {\n",
       "        text-align: right;\n",
       "    }\n",
       "</style>\n",
       "<table border=\"1\" class=\"dataframe\">\n",
       "  <thead>\n",
       "    <tr style=\"text-align: right;\">\n",
       "      <th></th>\n",
       "      <th>id</th>\n",
       "      <th>institution_name_bangla</th>\n",
       "      <th>institution_name_english</th>\n",
       "      <th>address_village_holding</th>\n",
       "      <th>address_road</th>\n",
       "      <th>address_post_office</th>\n",
       "      <th>address_post_code</th>\n",
       "      <th>[union]</th>\n",
       "      <th>address_ward</th>\n",
       "      <th>address_thana</th>\n",
       "      <th>...</th>\n",
       "      <th>total_ssc_2022_ubsa</th>\n",
       "      <th>total_ssc_2023_ubsa</th>\n",
       "      <th>total_hsc_2022_hsca</th>\n",
       "      <th>total_hsc_2023_hsca</th>\n",
       "      <th>has_contributed_to_advancement</th>\n",
       "      <th>REF NO</th>\n",
       "      <th>DISTRICT</th>\n",
       "      <th>UPAZILA</th>\n",
       "      <th>ORGANIZATION_NAME</th>\n",
       "      <th>EIIN</th>\n",
       "    </tr>\n",
       "  </thead>\n",
       "  <tbody>\n",
       "    <tr>\n",
       "      <th>0</th>\n",
       "      <td>187117</td>\n",
       "      <td>মনসুর মহসিন ডৌবাড়ী উচ্চ বিদ্যালয়</td>\n",
       "      <td>MANSUR MOHSIN DOWBARI HIGH SCHOOL</td>\n",
       "      <td>DOWBARHI</td>\n",
       "      <td>DOWBARHI Gowainghat</td>\n",
       "      <td>DOUBARHI</td>\n",
       "      <td>3150</td>\n",
       "      <td>NaN</td>\n",
       "      <td>NaN</td>\n",
       "      <td>207.0</td>\n",
       "      <td>...</td>\n",
       "      <td>NaN</td>\n",
       "      <td>NaN</td>\n",
       "      <td>NaN</td>\n",
       "      <td>NaN</td>\n",
       "      <td>False</td>\n",
       "      <td>4757</td>\n",
       "      <td>Sylhet</td>\n",
       "      <td>Gowainghat</td>\n",
       "      <td>MANSUR MAHSIN DOWBARI HIGH SCHOOL</td>\n",
       "      <td>130317</td>\n",
       "    </tr>\n",
       "    <tr>\n",
       "      <th>1</th>\n",
       "      <td>187139</td>\n",
       "      <td>আব্দুল জলিল একাডেমী</td>\n",
       "      <td>ABDUL JALIL ACADEMY</td>\n",
       "      <td>Annayapur</td>\n",
       "      <td>NaN</td>\n",
       "      <td>Shibaloy</td>\n",
       "      <td>1850</td>\n",
       "      <td>NaN</td>\n",
       "      <td>NaN</td>\n",
       "      <td>514.0</td>\n",
       "      <td>...</td>\n",
       "      <td>NaN</td>\n",
       "      <td>NaN</td>\n",
       "      <td>NaN</td>\n",
       "      <td>NaN</td>\n",
       "      <td>True</td>\n",
       "      <td>2411</td>\n",
       "      <td>Manikganj</td>\n",
       "      <td>Shibalaya</td>\n",
       "      <td>ABDUL JALIL ACADEMY</td>\n",
       "      <td>111046</td>\n",
       "    </tr>\n",
       "    <tr>\n",
       "      <th>2</th>\n",
       "      <td>187144</td>\n",
       "      <td>কৃষ্ণপুর জোহরা বালিকা উচ্চ বিদ্যালয়</td>\n",
       "      <td>KRISHNAPUR ZOHARA GIRLS HIGH SCHOOL</td>\n",
       "      <td>KRISNAPUR</td>\n",
       "      <td>Jaforbari sarok</td>\n",
       "      <td>Mahamaya</td>\n",
       "      <td>3600</td>\n",
       "      <td>NaN</td>\n",
       "      <td>NaN</td>\n",
       "      <td>107.0</td>\n",
       "      <td>...</td>\n",
       "      <td>NaN</td>\n",
       "      <td>NaN</td>\n",
       "      <td>NaN</td>\n",
       "      <td>NaN</td>\n",
       "      <td>True</td>\n",
       "      <td>5495</td>\n",
       "      <td>CHANDPUR</td>\n",
       "      <td>CHANDPUR SADAR</td>\n",
       "      <td>KRISHNAPUR ZOHRA GIRLS HIGH SCHOOL</td>\n",
       "      <td>103522</td>\n",
       "    </tr>\n",
       "    <tr>\n",
       "      <th>3</th>\n",
       "      <td>187165</td>\n",
       "      <td>কামোর উচ্চ বিদ্যালয়</td>\n",
       "      <td>KAMORE HIGH SCHOOL</td>\n",
       "      <td>KAMORE</td>\n",
       "      <td>Bochaganj-Kaharole rd</td>\n",
       "      <td>Kamore Hat</td>\n",
       "      <td>5226</td>\n",
       "      <td>NaN</td>\n",
       "      <td>NaN</td>\n",
       "      <td>253.0</td>\n",
       "      <td>...</td>\n",
       "      <td>NaN</td>\n",
       "      <td>NaN</td>\n",
       "      <td>NaN</td>\n",
       "      <td>NaN</td>\n",
       "      <td>True</td>\n",
       "      <td>3634</td>\n",
       "      <td>Dinajpur</td>\n",
       "      <td>Kaharole</td>\n",
       "      <td>KAMOR HIGH SCHOOL</td>\n",
       "      <td>120540</td>\n",
       "    </tr>\n",
       "    <tr>\n",
       "      <th>4</th>\n",
       "      <td>187178</td>\n",
       "      <td>ঈদগাহ শাহ জব্বারিয়া আদর্শ দাখিল মাদ্রাসা</td>\n",
       "      <td>EIDGAH SHAH JABBARIA ADARSHA DAKHIL MADRASHA</td>\n",
       "      <td>MEHER GHONA</td>\n",
       "      <td>COX’S BAZAR - CHATTOGRAM HIGHWAY</td>\n",
       "      <td>EIDGAON</td>\n",
       "      <td>4702</td>\n",
       "      <td>NaN</td>\n",
       "      <td>NaN</td>\n",
       "      <td>130.0</td>\n",
       "      <td>...</td>\n",
       "      <td>NaN</td>\n",
       "      <td>NaN</td>\n",
       "      <td>NaN</td>\n",
       "      <td>NaN</td>\n",
       "      <td>True</td>\n",
       "      <td>5740</td>\n",
       "      <td>Coxs Bazar</td>\n",
       "      <td>Coxs Bazar Sadar</td>\n",
       "      <td>EIDGAH SHAH JABBARIA ADARSHA DAKHIL MADRASHA</td>\n",
       "      <td>106305</td>\n",
       "    </tr>\n",
       "  </tbody>\n",
       "</table>\n",
       "<p>5 rows × 256 columns</p>\n",
       "</div>"
      ],
      "text/plain": [
       "       id                   institution_name_bangla  \\\n",
       "0  187117          মনসুর মহসিন ডৌবাড়ী উচ্চ বিদ্যালয়   \n",
       "1  187139                       আব্দুল জলিল একাডেমী   \n",
       "2  187144       কৃষ্ণপুর জোহরা বালিকা উচ্চ বিদ্যালয়   \n",
       "3  187165                       কামোর উচ্চ বিদ্যালয়   \n",
       "4  187178  ঈদগাহ শাহ জব্বারিয়া আদর্শ দাখিল মাদ্রাসা   \n",
       "\n",
       "                       institution_name_english address_village_holding  \\\n",
       "0             MANSUR MOHSIN DOWBARI HIGH SCHOOL                DOWBARHI   \n",
       "1                           ABDUL JALIL ACADEMY               Annayapur   \n",
       "2           KRISHNAPUR ZOHARA GIRLS HIGH SCHOOL               KRISNAPUR   \n",
       "3                            KAMORE HIGH SCHOOL                  KAMORE   \n",
       "4  EIDGAH SHAH JABBARIA ADARSHA DAKHIL MADRASHA             MEHER GHONA   \n",
       "\n",
       "                       address_road address_post_office address_post_code  \\\n",
       "0               DOWBARHI Gowainghat            DOUBARHI              3150   \n",
       "1                               NaN            Shibaloy              1850   \n",
       "2                   Jaforbari sarok            Mahamaya              3600   \n",
       "3             Bochaganj-Kaharole rd          Kamore Hat              5226   \n",
       "4  COX’S BAZAR - CHATTOGRAM HIGHWAY             EIDGAON              4702   \n",
       "\n",
       "   [union]  address_ward  address_thana  ...  total_ssc_2022_ubsa  \\\n",
       "0      NaN           NaN          207.0  ...                  NaN   \n",
       "1      NaN           NaN          514.0  ...                  NaN   \n",
       "2      NaN           NaN          107.0  ...                  NaN   \n",
       "3      NaN           NaN          253.0  ...                  NaN   \n",
       "4      NaN           NaN          130.0  ...                  NaN   \n",
       "\n",
       "   total_ssc_2023_ubsa total_hsc_2022_hsca total_hsc_2023_hsca  \\\n",
       "0                  NaN                 NaN                 NaN   \n",
       "1                  NaN                 NaN                 NaN   \n",
       "2                  NaN                 NaN                 NaN   \n",
       "3                  NaN                 NaN                 NaN   \n",
       "4                  NaN                 NaN                 NaN   \n",
       "\n",
       "   has_contributed_to_advancement  REF NO    DISTRICT           UPAZILA  \\\n",
       "0                           False    4757      Sylhet        Gowainghat   \n",
       "1                            True    2411   Manikganj         Shibalaya   \n",
       "2                            True    5495    CHANDPUR    CHANDPUR SADAR   \n",
       "3                            True    3634    Dinajpur          Kaharole   \n",
       "4                            True    5740  Coxs Bazar  Coxs Bazar Sadar   \n",
       "\n",
       "                              ORGANIZATION_NAME    EIIN  \n",
       "0             MANSUR MAHSIN DOWBARI HIGH SCHOOL  130317  \n",
       "1                           ABDUL JALIL ACADEMY  111046  \n",
       "2            KRISHNAPUR ZOHRA GIRLS HIGH SCHOOL  103522  \n",
       "3                             KAMOR HIGH SCHOOL  120540  \n",
       "4  EIDGAH SHAH JABBARIA ADARSHA DAKHIL MADRASHA  106305  \n",
       "\n",
       "[5 rows x 256 columns]"
      ]
     },
     "execution_count": 91,
     "metadata": {},
     "output_type": "execute_result"
    }
   ],
   "source": [
    "df_pbgsi_institutions.head()"
   ]
  },
  {
   "cell_type": "code",
   "execution_count": 92,
   "id": "2aa56658",
   "metadata": {},
   "outputs": [],
   "source": [
    "TYPE_SCHOOL = 1\n",
    "TYPE_SCHOOL_AND_COLLEGE = 2\n",
    "TYPE_COLELGE = 3\n",
    "TYPE_MADRASHA = 4"
   ]
  },
  {
   "cell_type": "code",
   "execution_count": 93,
   "id": "1794a81d",
   "metadata": {},
   "outputs": [],
   "source": [
    "from enum import Enum\n",
    "\n",
    "class InstitutionType(Enum):\n",
    "    SCHOOL = 1\n",
    "    SCHOOL_AND_COLLEGE = 2\n",
    "    MADRASHA = 3"
   ]
  },
  {
   "cell_type": "code",
   "execution_count": 94,
   "id": "4f6a6013",
   "metadata": {},
   "outputs": [],
   "source": [
    "from typing import Dict\n",
    "institute_type_map_total_institution: Dict[int, int] = {}\n",
    "institute_type_map_total_funded_institution: Dict[int, int] = {}\n",
    "institute_type_map_total_refunded_institution: Dict[int, int] = {}"
   ]
  },
  {
   "cell_type": "code",
   "execution_count": 71,
   "id": "3a2ba78c",
   "metadata": {},
   "outputs": [],
   "source": [
    "total_schools_count = df_general_information_merged[df_general_information_merged['institution_type']==TYPE_SCHOOL].shape[0]\n",
    "total_school_and_college_count = df_general_information_merged[df_general_information_merged['institution_type'].isin([TYPE_SCHOOL_AND_COLLEGE, TYPE_COLELGE])].shape[0]\n",
    "total_madrasha_count = df_general_information_merged[df_general_information_merged['institution_type']==TYPE_MADRASHA].shape[0]"
   ]
  },
  {
   "cell_type": "code",
   "execution_count": 72,
   "id": "94e4d96b",
   "metadata": {},
   "outputs": [
    {
     "name": "stdout",
     "output_type": "stream",
     "text": [
      "total schools 19359\n",
      "total school & college and college count: 5564\n",
      "total madrasha count: 9168\n"
     ]
    }
   ],
   "source": [
    "print(f'total schools {total_schools_count}')\n",
    "print(f'total school & college and college count: {total_school_and_college_count}')\n",
    "print(f'total madrasha count: {total_madrasha_count}')"
   ]
  },
  {
   "cell_type": "code",
   "execution_count": 73,
   "id": "6c02dbc3",
   "metadata": {},
   "outputs": [],
   "source": [
    "institute_type_map_total_institution[InstitutionType.SCHOOL.value] = total_schools_count\n",
    "institute_type_map_total_institution[InstitutionType.SCHOOL_AND_COLLEGE.value] = total_school_and_college_count\n",
    "institute_type_map_total_institution[InstitutionType.MADRASHA.value] = total_madrasha_count"
   ]
  },
  {
   "cell_type": "code",
   "execution_count": 74,
   "id": "02d65f99",
   "metadata": {},
   "outputs": [],
   "source": [
    "df_general_information_pbgsi = df_general_information_merged[df_general_information_merged['pbgsi_scheme']==1]"
   ]
  },
  {
   "cell_type": "code",
   "execution_count": 75,
   "id": "6b98a338",
   "metadata": {},
   "outputs": [],
   "source": [
    "total_pbgsi_school_count = df_general_information_pbgsi[df_general_information_pbgsi['institution_type']==TYPE_SCHOOL].shape[0]\n",
    "total_pbgsi_school_and_college_count = df_general_information_pbgsi[df_general_information_pbgsi['institution_type'].isin([TYPE_SCHOOL_AND_COLLEGE, TYPE_COLELGE])].shape[0]\n",
    "total_pbgsi_madrasha_count = df_general_information_pbgsi[df_general_information_pbgsi['institution_type']==TYPE_MADRASHA].shape[0]"
   ]
  },
  {
   "cell_type": "code",
   "execution_count": 76,
   "id": "9188c06d",
   "metadata": {},
   "outputs": [
    {
     "name": "stdout",
     "output_type": "stream",
     "text": [
      "total pbgsi school: 5535\n",
      "total pbgsi school & college: 609\n",
      "total pbgsi madrasha count: 2017\n"
     ]
    }
   ],
   "source": [
    "print(f'total pbgsi school: {total_pbgsi_school_count}')\n",
    "print(f'total pbgsi school & college: {total_pbgsi_school_and_college_count}')\n",
    "print(f'total pbgsi madrasha count: {total_pbgsi_madrasha_count}')"
   ]
  },
  {
   "cell_type": "code",
   "execution_count": 77,
   "id": "54bb274e",
   "metadata": {},
   "outputs": [],
   "source": [
    "institute_type_map_total_funded_institution[InstitutionType.SCHOOL.value] = total_pbgsi_school_count\n",
    "institute_type_map_total_funded_institution[InstitutionType.SCHOOL_AND_COLLEGE.value] = total_pbgsi_school_and_college_count\n",
    "institute_type_map_total_funded_institution[InstitutionType.MADRASHA.value] = total_pbgsi_madrasha_count "
   ]
  },
  {
   "cell_type": "code",
   "execution_count": 78,
   "id": "f88333fe",
   "metadata": {},
   "outputs": [],
   "source": [
    "total_pbgsi_school_returned_count = df_general_information_pbgsi[(df_general_information_pbgsi['institution_type']==TYPE_SCHOOL) & (df_general_information_pbgsi['was_returned']==1)].shape[0]\n",
    "total_pbgsi_school_and_college_returned_count = df_general_information_pbgsi[(df_general_information_pbgsi['institution_type'].isin([TYPE_SCHOOL_AND_COLLEGE, TYPE_COLELGE])) & (df_general_information_pbgsi['was_returned']==1)].shape[0]\n",
    "total_pbgsi_madrasha_returned_count = df_general_information_pbgsi[(df_general_information_pbgsi['institution_type']==TYPE_MADRASHA) & (df_general_information_pbgsi['was_returned']==1)].shape[0]"
   ]
  },
  {
   "cell_type": "code",
   "execution_count": 79,
   "id": "6795a732",
   "metadata": {},
   "outputs": [
    {
     "name": "stdout",
     "output_type": "stream",
     "text": [
      "total pbgsi school returned: 167\n",
      "total pbgsi school & college returned: 28\n",
      "total madrasha returned: 46\n"
     ]
    }
   ],
   "source": [
    "print(f'total pbgsi school returned: {total_pbgsi_school_returned_count}')\n",
    "print(f'total pbgsi school & college returned: {total_pbgsi_school_and_college_returned_count}')\n",
    "print(f'total madrasha returned: {total_pbgsi_madrasha_returned_count}')"
   ]
  },
  {
   "cell_type": "code",
   "execution_count": 80,
   "id": "1e13a7e8",
   "metadata": {},
   "outputs": [],
   "source": [
    "institute_type_map_total_refunded_institution[InstitutionType.SCHOOL.value] = total_pbgsi_school_returned_count\n",
    "institute_type_map_total_refunded_institution[InstitutionType.SCHOOL_AND_COLLEGE.value] = total_pbgsi_school_and_college_returned_count\n",
    "institute_type_map_total_refunded_institution[InstitutionType.MADRASHA.value] = total_pbgsi_madrasha_returned_count "
   ]
  },
  {
   "cell_type": "code",
   "execution_count": 81,
   "id": "fb87cda6",
   "metadata": {},
   "outputs": [],
   "source": [
    "import openpyxl\n",
    "from openpyxl.utils import get_column_letter,get_column_letter\n",
    "from openpyxl.styles import Alignment, Border, Side"
   ]
  },
  {
   "cell_type": "code",
   "execution_count": 82,
   "id": "3010e8bc",
   "metadata": {},
   "outputs": [],
   "source": [
    "wb = openpyxl.Workbook()\n",
    "ws = wb.active\n",
    "\n",
    "ws['A1'] = 'Type of Institute'\n",
    "ws.merge_cells('A1:A2')\n",
    "\n",
    "ws ['B1'] = 'Received Grant'\n",
    "ws.merge_cells('B1:C1')\n",
    "\n",
    "ws['D1'] = 'Refunded Grant'\n",
    "ws.merge_cells('D1:E1')\n",
    "\n",
    "ws['B2'] = 'Number of Institute'\n",
    "ws['C2'] = 'Percentage (%)'\n",
    "\n",
    "ws['D2']= 'Number of Institute'\n",
    "ws['E2'] = 'Percentage (%)'\n",
    "\n",
    "row_num = 3\n",
    "\n",
    "total_combined_institution :int = 0\n",
    "total_pbgsi_institution :int = 0\n",
    "total_pbgsi_refunded_institution :int = 0\n",
    "\n",
    "for inst_type in InstitutionType:\n",
    "    institution_type_cell = \"A\"+str(row_num)\n",
    "    ws[institution_type_cell] = inst_type.name\n",
    "\n",
    "\n",
    "    total_funded_institution_count = institute_type_map_total_funded_institution.get(inst_type.value, 0)\n",
    "    total_pbgsi_institution+= total_funded_institution_count\n",
    "    total_funded_instititon_count_cell = \"B\"+str(row_num)\n",
    "    ws[total_funded_instititon_count_cell] = str(total_funded_institution_count)\n",
    "\n",
    "    total_institution_count = institute_type_map_total_institution.get(inst_type.value)\n",
    "    total_combined_institution += total_institution_count\n",
    "    total_fund_percentage:float = 0.0 if total_funded_institution_count==0 else  total_funded_institution_count/total_institution_count\n",
    "    total_fund_percentage_cell = \"C\"+str(row_num)\n",
    "    ws[total_fund_percentage_cell] = str(total_fund_percentage * 100)\n",
    "\n",
    "    total_refunded_institution_count = institute_type_map_total_refunded_institution.get(inst_type.value, 0)\n",
    "    total_pbgsi_refunded_institution += total_refunded_institution_count\n",
    "    total_refuned_institution_count_cell = \"D\"+str(row_num)\n",
    "    ws[total_refuned_institution_count_cell] = str(total_refunded_institution_count)\n",
    "\n",
    "    total_refuned_institution_count_percentage = 0.0 if total_refunded_institution_count==0 else total_refunded_institution_count/total_funded_institution_count\n",
    "    total_refunded_percentage_cell = \"E\"+str(row_num)\n",
    "    ws[total_refunded_percentage_cell] = str(total_refuned_institution_count_percentage * 100)\n",
    "\n",
    "    row_num+=1\n",
    "\n",
    "# total section\n",
    "institution_type_cell = \"A\"+str(row_num)\n",
    "ws[institution_type_cell] = 'Total'\n",
    "\n",
    "total_funded_instititon_count_cell = \"B\"+str(row_num)\n",
    "ws[total_funded_instititon_count_cell] = str(total_pbgsi_institution)\n",
    "\n",
    "total_funded_institution_percentage_cell = \"C\"+str(row_num)\n",
    "ws[total_funded_institution_percentage_cell] = str((total_pbgsi_institution/total_combined_institution)* 100)\n",
    "\n",
    "total_returned_cell = \"D\"+str(row_num)\n",
    "ws[total_returned_cell] = str(total_pbgsi_refunded_institution)\n",
    "\n",
    "total_refunded_institution_percentage_cell = \"E\"+str(row_num)\n",
    "ws[total_refunded_institution_percentage_cell] = str((total_pbgsi_refunded_institution/total_pbgsi_institution) * 100)\n",
    "\n",
    "# end of total section\n",
    "\n",
    "\n",
    "center_alignment = Alignment(horizontal='center', vertical='center')\n",
    "thin_border = Border(\n",
    "    left=Side(style='thin'),\n",
    "    right=Side(style='thin'),\n",
    "    top=Side(style='thin'),\n",
    "    bottom=Side(style='thin')\n",
    ")\n",
    "\n",
    "for row in ws.iter_rows():\n",
    "    for cell in row:\n",
    "        cell.alignment = center_alignment\n",
    "        cell.border = thin_border\n",
    "\n",
    "for column_cells in ws.columns:\n",
    "    length = max(len(str(cell.value)) if cell.value is not None else 0 for cell in column_cells)\n",
    "    column_letter = get_column_letter(column_cells[0].column)\n",
    "    ws.column_dimensions[column_letter].width = length + 2  # Add some padding\n",
    "    \n",
    "wb.save('output/table_1_number_of_institutes_having_grand_and_refund.xlsx')"
   ]
  }
 ],
 "metadata": {
  "kernelspec": {
   "display_name": "Python 3",
   "language": "python",
   "name": "python3"
  },
  "language_info": {
   "codemirror_mode": {
    "name": "ipython",
    "version": 3
   },
   "file_extension": ".py",
   "mimetype": "text/x-python",
   "name": "python",
   "nbconvert_exporter": "python",
   "pygments_lexer": "ipython3",
   "version": "3.13.7"
  }
 },
 "nbformat": 4,
 "nbformat_minor": 5
}
