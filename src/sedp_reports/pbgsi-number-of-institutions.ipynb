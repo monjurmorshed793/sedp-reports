{
 "cells": [
  {
   "cell_type": "code",
   "execution_count": 1,
   "id": "3aab9f0a",
   "metadata": {},
   "outputs": [
    {
     "name": "stderr",
     "output_type": "stream",
     "text": [
      "Access is denied.\n",
      "Access is denied.\n"
     ]
    }
   ],
   "source": [
    "!pip install pandas\n",
    "!pip install openpyxl"
   ]
  },
  {
   "cell_type": "code",
   "execution_count": 2,
   "id": "e6eb20e3",
   "metadata": {},
   "outputs": [],
   "source": [
    "import pandas as pd"
   ]
  },
  {
   "cell_type": "code",
   "execution_count": 3,
   "id": "da70e826",
   "metadata": {},
   "outputs": [],
   "source": [
    "general_information = pd.read_excel('data/general_information_bkp.xlsx')\n",
    "type_and_level = pd.read_excel('data/type_and_level_bk.xlsx')\n",
    "geographical_facilities = pd.read_excel('data/geographical_facilities_bkp.xlsx')\n",
    "buildings_and_library = pd.read_excel('data/buildings_and_library.xlsx')\n",
    "buildings = pd.read_excel('data/buildings_bkp.xlsx')\n",
    "compliance1 = pd.read_excel('data/compliance_1_bkp.xlsx')\n",
    "compliance2 = pd.read_excel('data/compliance_2_bkp.xlsx')\n",
    "compliance3 = pd.read_excel('data/compliance_3_bkp.xlsx')\n",
    "compliance4 = pd.read_excel('data/compliance_4_bkp.xlsx')\n",
    "pbgsi_institutions = pd.read_excel('data/pbgsi_7000_ins_bkp.xlsx')"
   ]
  },
  {
   "cell_type": "code",
   "execution_count": 4,
   "id": "dc1be9f7",
   "metadata": {},
   "outputs": [
    {
     "data": {
      "application/vnd.microsoft.datawrangler.viewer.v0+json": {
       "columns": [
        {
         "name": "index",
         "rawType": "int64",
         "type": "integer"
        },
        {
         "name": "REF NO",
         "rawType": "int64",
         "type": "integer"
        },
        {
         "name": "DISTRICT",
         "rawType": "object",
         "type": "string"
        },
        {
         "name": "UPAZILA",
         "rawType": "object",
         "type": "string"
        },
        {
         "name": "ORGANIZATION_NAME",
         "rawType": "object",
         "type": "string"
        },
        {
         "name": "EIIN",
         "rawType": "int64",
         "type": "integer"
        }
       ],
       "ref": "a7124a8b-9611-4656-9a53-079bf06b123a",
       "rows": [
        [
         "0",
         "1",
         "Barguna",
         "Betagi",
         "BIBCHINI NIAMATI UNITED HIGH SCHOOL AND COLLEGE",
         "100256"
        ],
        [
         "1",
         "2",
         "Barguna",
         "Patharghata",
         "KATHALTALI SAPTAGRAM HIGH SCHOOL AND COLLEGE",
         "100310"
        ],
        [
         "2",
         "3",
         "BARISHAL",
         "Bakerganj",
         "KGS SECONDARY SCHOOL AND COLLEGE",
         "100492"
        ],
        [
         "3",
         "4",
         "Bhola",
         "Lalmohan",
         "GAZARIA GIRLS SCHOOL AND COLLEGE",
         "101503"
        ],
        [
         "4",
         "5",
         "Bhola",
         "Lalmohan",
         "KARIMGONJ ISLAMIA ALIM MADRASHA",
         "101530"
        ]
       ],
       "shape": {
        "columns": 5,
        "rows": 5
       }
      },
      "text/html": [
       "<div>\n",
       "<style scoped>\n",
       "    .dataframe tbody tr th:only-of-type {\n",
       "        vertical-align: middle;\n",
       "    }\n",
       "\n",
       "    .dataframe tbody tr th {\n",
       "        vertical-align: top;\n",
       "    }\n",
       "\n",
       "    .dataframe thead th {\n",
       "        text-align: right;\n",
       "    }\n",
       "</style>\n",
       "<table border=\"1\" class=\"dataframe\">\n",
       "  <thead>\n",
       "    <tr style=\"text-align: right;\">\n",
       "      <th></th>\n",
       "      <th>REF NO</th>\n",
       "      <th>DISTRICT</th>\n",
       "      <th>UPAZILA</th>\n",
       "      <th>ORGANIZATION_NAME</th>\n",
       "      <th>EIIN</th>\n",
       "    </tr>\n",
       "  </thead>\n",
       "  <tbody>\n",
       "    <tr>\n",
       "      <th>0</th>\n",
       "      <td>1</td>\n",
       "      <td>Barguna</td>\n",
       "      <td>Betagi</td>\n",
       "      <td>BIBCHINI NIAMATI UNITED HIGH SCHOOL AND COLLEGE</td>\n",
       "      <td>100256</td>\n",
       "    </tr>\n",
       "    <tr>\n",
       "      <th>1</th>\n",
       "      <td>2</td>\n",
       "      <td>Barguna</td>\n",
       "      <td>Patharghata</td>\n",
       "      <td>KATHALTALI SAPTAGRAM HIGH SCHOOL AND COLLEGE</td>\n",
       "      <td>100310</td>\n",
       "    </tr>\n",
       "    <tr>\n",
       "      <th>2</th>\n",
       "      <td>3</td>\n",
       "      <td>BARISHAL</td>\n",
       "      <td>Bakerganj</td>\n",
       "      <td>KGS SECONDARY SCHOOL AND COLLEGE</td>\n",
       "      <td>100492</td>\n",
       "    </tr>\n",
       "    <tr>\n",
       "      <th>3</th>\n",
       "      <td>4</td>\n",
       "      <td>Bhola</td>\n",
       "      <td>Lalmohan</td>\n",
       "      <td>GAZARIA GIRLS SCHOOL AND COLLEGE</td>\n",
       "      <td>101503</td>\n",
       "    </tr>\n",
       "    <tr>\n",
       "      <th>4</th>\n",
       "      <td>5</td>\n",
       "      <td>Bhola</td>\n",
       "      <td>Lalmohan</td>\n",
       "      <td>KARIMGONJ ISLAMIA ALIM MADRASHA</td>\n",
       "      <td>101530</td>\n",
       "    </tr>\n",
       "  </tbody>\n",
       "</table>\n",
       "</div>"
      ],
      "text/plain": [
       "   REF NO  DISTRICT      UPAZILA  \\\n",
       "0       1   Barguna       Betagi   \n",
       "1       2   Barguna  Patharghata   \n",
       "2       3  BARISHAL    Bakerganj   \n",
       "3       4     Bhola     Lalmohan   \n",
       "4       5     Bhola     Lalmohan   \n",
       "\n",
       "                                 ORGANIZATION_NAME    EIIN  \n",
       "0  BIBCHINI NIAMATI UNITED HIGH SCHOOL AND COLLEGE  100256  \n",
       "1     KATHALTALI SAPTAGRAM HIGH SCHOOL AND COLLEGE  100310  \n",
       "2                 KGS SECONDARY SCHOOL AND COLLEGE  100492  \n",
       "3                 GAZARIA GIRLS SCHOOL AND COLLEGE  101503  \n",
       "4                  KARIMGONJ ISLAMIA ALIM MADRASHA  101530  "
      ]
     },
     "execution_count": 4,
     "metadata": {},
     "output_type": "execute_result"
    }
   ],
   "source": [
    "pbgsi_institutions.head()"
   ]
  },
  {
   "cell_type": "code",
   "execution_count": 43,
   "id": "2bfcd57a",
   "metadata": {},
   "outputs": [],
   "source": [
    "general_information_eiin = general_information[general_information['eiin'].apply(lambda x: len(x)==6)]"
   ]
  },
  {
   "cell_type": "code",
   "execution_count": 44,
   "id": "9aa072fe",
   "metadata": {},
   "outputs": [],
   "source": [
    "pbgsi_institutions['EIIN'] = pbgsi_institutions['EIIN'].astype(str)"
   ]
  },
  {
   "cell_type": "code",
   "execution_count": 45,
   "id": "5daaa632",
   "metadata": {},
   "outputs": [],
   "source": [
    "df_general_information_merged = pd.merge(general_information_eiin, type_and_level, on='eiin', how='inner', suffixes=('', '_type_and_level'))\n",
    "df_general_information_merged = pd.merge(df_general_information_merged, compliance1, on='eiin', how='inner', suffixes=('', '_compliance1'))\n",
    "df_general_information_merged = pd.merge(df_general_information_merged, compliance2, on='eiin', how='inner', suffixes=('', '_compliance2'))\n",
    "df_general_information_merged = pd.merge(df_general_information_merged, compliance3, on='eiin', how='inner', suffixes=('', '_compliance3'))"
   ]
  },
  {
   "cell_type": "code",
   "execution_count": 46,
   "id": "c8bc7587",
   "metadata": {},
   "outputs": [
    {
     "data": {
      "application/vnd.microsoft.datawrangler.viewer.v0+json": {
       "columns": [
        {
         "name": "index",
         "rawType": "int64",
         "type": "integer"
        },
        {
         "name": "id",
         "rawType": "int64",
         "type": "integer"
        },
        {
         "name": "institution_name_bangla",
         "rawType": "object",
         "type": "string"
        },
        {
         "name": "institution_name_english",
         "rawType": "object",
         "type": "string"
        },
        {
         "name": "address_village_holding",
         "rawType": "object",
         "type": "string"
        },
        {
         "name": "address_road",
         "rawType": "object",
         "type": "string"
        },
        {
         "name": "address_post_office",
         "rawType": "object",
         "type": "string"
        },
        {
         "name": "address_post_code",
         "rawType": "object",
         "type": "string"
        },
        {
         "name": "[union]",
         "rawType": "float64",
         "type": "float"
        },
        {
         "name": "address_ward",
         "rawType": "float64",
         "type": "float"
        },
        {
         "name": "address_thana",
         "rawType": "float64",
         "type": "float"
        },
        {
         "name": "address_district",
         "rawType": "float64",
         "type": "float"
        },
        {
         "name": "address_division",
         "rawType": "float64",
         "type": "float"
        },
        {
         "name": "mobile_number",
         "rawType": "object",
         "type": "string"
        },
        {
         "name": "picture",
         "rawType": "object",
         "type": "string"
        },
        {
         "name": "latitude",
         "rawType": "float64",
         "type": "float"
        },
        {
         "name": "longitude",
         "rawType": "float64",
         "type": "float"
        },
        {
         "name": "ownership_type",
         "rawType": "object",
         "type": "string"
        },
        {
         "name": "is_owned_land",
         "rawType": "float64",
         "type": "float"
        },
        {
         "name": "has_deed",
         "rawType": "float64",
         "type": "float"
        },
        {
         "name": "has_mutation",
         "rawType": "float64",
         "type": "float"
        },
        {
         "name": "pays_taxes",
         "rawType": "float64",
         "type": "float"
        },
        {
         "name": "academic_activities_running",
         "rawType": "float64",
         "type": "float"
        },
        {
         "name": "eiin_yes_no",
         "rawType": "float64",
         "type": "float"
        },
        {
         "name": "eiin",
         "rawType": "object",
         "type": "string"
        },
        {
         "name": "non_eiin_id",
         "rawType": "float64",
         "type": "float"
        },
        {
         "name": "horizontal_accuracy",
         "rawType": "float64",
         "type": "float"
        },
        {
         "name": "vertical_accuracy",
         "rawType": "float64",
         "type": "float"
        },
        {
         "name": "position_time",
         "rawType": "float64",
         "type": "float"
        },
        {
         "name": "inst_category",
         "rawType": "int64",
         "type": "integer"
        },
        {
         "name": "establishment_date",
         "rawType": "object",
         "type": "string"
        },
        {
         "name": "union_ward",
         "rawType": "object",
         "type": "unknown"
        },
        {
         "name": "municipility",
         "rawType": "object",
         "type": "unknown"
        },
        {
         "name": "municipility_ward",
         "rawType": "float64",
         "type": "float"
        },
        {
         "name": "union",
         "rawType": "object",
         "type": "unknown"
        },
        {
         "name": "city_corporation",
         "rawType": "object",
         "type": "unknown"
        },
        {
         "name": "city_corporation_ward",
         "rawType": "float64",
         "type": "float"
        },
        {
         "name": "ward_type",
         "rawType": "float64",
         "type": "float"
        },
        {
         "name": "total_land_area",
         "rawType": "float64",
         "type": "float"
        },
        {
         "name": "submitted",
         "rawType": "float64",
         "type": "float"
        },
        {
         "name": "submitted_by",
         "rawType": "float64",
         "type": "float"
        },
        {
         "name": "forwarded_by_useo",
         "rawType": "float64",
         "type": "float"
        },
        {
         "name": "forwarded_by_deo",
         "rawType": "float64",
         "type": "float"
        },
        {
         "name": "active_status",
         "rawType": "float64",
         "type": "float"
        },
        {
         "name": "active_status_comment",
         "rawType": "object",
         "type": "unknown"
        },
        {
         "name": "stopped",
         "rawType": "float64",
         "type": "float"
        },
        {
         "name": "db_source",
         "rawType": "object",
         "type": "string"
        },
        {
         "name": "submitted_at",
         "rawType": "object",
         "type": "string"
        },
        {
         "name": "submitted_app_version",
         "rawType": "object",
         "type": "string"
        },
        {
         "name": "comments",
         "rawType": "object",
         "type": "unknown"
        },
        {
         "name": "forward_back_deo_msg",
         "rawType": "object",
         "type": "unknown"
        },
        {
         "name": "forward_back_useo_msg",
         "rawType": "object",
         "type": "unknown"
        },
        {
         "name": "id_type_and_level",
         "rawType": "int64",
         "type": "integer"
        },
        {
         "name": "institution_type",
         "rawType": "int64",
         "type": "integer"
        },
        {
         "name": "maximum_level",
         "rawType": "float64",
         "type": "float"
        },
        {
         "name": "student_type",
         "rawType": "float64",
         "type": "float"
        },
        {
         "name": "approval_status",
         "rawType": "float64",
         "type": "float"
        },
        {
         "name": "management_type",
         "rawType": "float64",
         "type": "float"
        },
        {
         "name": "mpo_status",
         "rawType": "float64",
         "type": "float"
        },
        {
         "name": "has_technical_attachment",
         "rawType": "float64",
         "type": "float"
        },
        {
         "name": "technical_type",
         "rawType": "float64",
         "type": "float"
        },
        {
         "name": "teaching_medium_bangla",
         "rawType": "float64",
         "type": "float"
        },
        {
         "name": "teaching_medium_english",
         "rawType": "float64",
         "type": "float"
        },
        {
         "name": "teaching_medium_english_version",
         "rawType": "float64",
         "type": "float"
        },
        {
         "name": "teaching_medium_arabic",
         "rawType": "float64",
         "type": "float"
        },
        {
         "name": "shifts_operated",
         "rawType": "float64",
         "type": "float"
        },
        {
         "name": "has_build_approval",
         "rawType": "float64",
         "type": "float"
        },
        {
         "name": "has_teaching_approval",
         "rawType": "float64",
         "type": "float"
        },
        {
         "name": "has_full_approval",
         "rawType": "float64",
         "type": "float"
        },
        {
         "name": "has_no_approval",
         "rawType": "float64",
         "type": "float"
        },
        {
         "name": "id_compliance1",
         "rawType": "int64",
         "type": "integer"
        },
        {
         "name": "teachers_count_total",
         "rawType": "float64",
         "type": "float"
        },
        {
         "name": "teachers_count_female",
         "rawType": "float64",
         "type": "float"
        },
        {
         "name": "staff_count_total",
         "rawType": "float64",
         "type": "float"
        },
        {
         "name": "staff_count_female",
         "rawType": "float64",
         "type": "float"
        },
        {
         "name": "trained_teachers",
         "rawType": "float64",
         "type": "float"
        },
        {
         "name": "total_students",
         "rawType": "float64",
         "type": "float"
        },
        {
         "name": "total_female_students",
         "rawType": "float64",
         "type": "float"
        },
        {
         "name": "has_six_grade",
         "rawType": "float64",
         "type": "float"
        },
        {
         "name": "total_seats_six",
         "rawType": "float64",
         "type": "float"
        },
        {
         "name": "total_students_six",
         "rawType": "float64",
         "type": "float"
        },
        {
         "name": "female_students_six",
         "rawType": "float64",
         "type": "float"
        },
        {
         "name": "has_seven_grade",
         "rawType": "float64",
         "type": "float"
        },
        {
         "name": "total_seats_seven",
         "rawType": "float64",
         "type": "float"
        },
        {
         "name": "total_students_seven",
         "rawType": "float64",
         "type": "float"
        },
        {
         "name": "female_students_seven",
         "rawType": "float64",
         "type": "float"
        },
        {
         "name": "has_eight_grade",
         "rawType": "float64",
         "type": "float"
        },
        {
         "name": "total_seats_eight",
         "rawType": "float64",
         "type": "float"
        },
        {
         "name": "total_students_eight",
         "rawType": "float64",
         "type": "float"
        },
        {
         "name": "female_students_eight",
         "rawType": "float64",
         "type": "float"
        },
        {
         "name": "has_nine_grade",
         "rawType": "float64",
         "type": "float"
        },
        {
         "name": "total_seats_nine",
         "rawType": "float64",
         "type": "float"
        },
        {
         "name": "total_students_nine",
         "rawType": "float64",
         "type": "float"
        },
        {
         "name": "female_students_nine",
         "rawType": "float64",
         "type": "float"
        },
        {
         "name": "has_ten_grade",
         "rawType": "float64",
         "type": "float"
        },
        {
         "name": "total_seats_ten",
         "rawType": "float64",
         "type": "float"
        },
        {
         "name": "total_students_ten",
         "rawType": "float64",
         "type": "float"
        },
        {
         "name": "female_students_ten",
         "rawType": "float64",
         "type": "float"
        },
        {
         "name": "has_eleven_grade",
         "rawType": "float64",
         "type": "float"
        },
        {
         "name": "total_seats_eleven",
         "rawType": "float64",
         "type": "float"
        },
        {
         "name": "total_students_eleven",
         "rawType": "float64",
         "type": "float"
        },
        {
         "name": "female_students_eleven",
         "rawType": "float64",
         "type": "float"
        },
        {
         "name": "has_twelve_grade",
         "rawType": "float64",
         "type": "float"
        },
        {
         "name": "total_seats_twelve",
         "rawType": "float64",
         "type": "float"
        },
        {
         "name": "total_students_twelve",
         "rawType": "float64",
         "type": "float"
        },
        {
         "name": "female_students_twelve",
         "rawType": "float64",
         "type": "float"
        },
        {
         "name": "technical_teacher_count_total",
         "rawType": "float64",
         "type": "float"
        },
        {
         "name": "technical_teacher_count_female",
         "rawType": "float64",
         "type": "float"
        },
        {
         "name": "technical_staff_count_total",
         "rawType": "float64",
         "type": "float"
        },
        {
         "name": "technical_staff_count_female",
         "rawType": "float64",
         "type": "float"
        },
        {
         "name": "technical_trained_teachers",
         "rawType": "float64",
         "type": "float"
        },
        {
         "name": "technical_ict_teachers",
         "rawType": "float64",
         "type": "float"
        },
        {
         "name": "technical_total_male_students",
         "rawType": "float64",
         "type": "float"
        },
        {
         "name": "technical_total_female_students",
         "rawType": "float64",
         "type": "float"
        },
        {
         "name": "technical_total_seats",
         "rawType": "float64",
         "type": "float"
        },
        {
         "name": "technical_total_students",
         "rawType": "float64",
         "type": "float"
        },
        {
         "name": "total_seats_part_1",
         "rawType": "float64",
         "type": "float"
        },
        {
         "name": "total_students_part_1",
         "rawType": "float64",
         "type": "float"
        },
        {
         "name": "female_students_part1",
         "rawType": "float64",
         "type": "float"
        },
        {
         "name": "total_seats_part_2",
         "rawType": "float64",
         "type": "float"
        },
        {
         "name": "total_students_part_2",
         "rawType": "float64",
         "type": "float"
        },
        {
         "name": "female_students_part2",
         "rawType": "float64",
         "type": "float"
        },
        {
         "name": "total_seats_part_3",
         "rawType": "float64",
         "type": "float"
        },
        {
         "name": "total_students_part_3",
         "rawType": "float64",
         "type": "float"
        },
        {
         "name": "female_students_part3",
         "rawType": "float64",
         "type": "float"
        },
        {
         "name": "total_seats_part_4",
         "rawType": "float64",
         "type": "float"
        },
        {
         "name": "total_students_part_4",
         "rawType": "float64",
         "type": "float"
        },
        {
         "name": "female_students_part4",
         "rawType": "float64",
         "type": "float"
        },
        {
         "name": "total_seats_part_5",
         "rawType": "float64",
         "type": "float"
        },
        {
         "name": "total_students_part_5",
         "rawType": "float64",
         "type": "float"
        },
        {
         "name": "female_students_part5",
         "rawType": "float64",
         "type": "float"
        },
        {
         "name": "total_seats_part_6",
         "rawType": "float64",
         "type": "float"
        },
        {
         "name": "total_students_part_6",
         "rawType": "float64",
         "type": "float"
        },
        {
         "name": "female_students_part6",
         "rawType": "float64",
         "type": "float"
        },
        {
         "name": "total_seats_part_7",
         "rawType": "float64",
         "type": "float"
        },
        {
         "name": "total_students_part_7",
         "rawType": "float64",
         "type": "float"
        },
        {
         "name": "female_students_part7",
         "rawType": "float64",
         "type": "float"
        },
        {
         "name": "total_seats_part_8",
         "rawType": "float64",
         "type": "float"
        },
        {
         "name": "total_students_part_8",
         "rawType": "float64",
         "type": "float"
        },
        {
         "name": "female_students_part8",
         "rawType": "float64",
         "type": "float"
        },
        {
         "name": "female_students_part_1",
         "rawType": "float64",
         "type": "float"
        },
        {
         "name": "female_students_part_2",
         "rawType": "float64",
         "type": "float"
        },
        {
         "name": "female_students_part_3",
         "rawType": "float64",
         "type": "float"
        },
        {
         "name": "female_students_part_4",
         "rawType": "float64",
         "type": "float"
        },
        {
         "name": "female_students_part_5",
         "rawType": "float64",
         "type": "float"
        },
        {
         "name": "female_students_part_6",
         "rawType": "float64",
         "type": "float"
        },
        {
         "name": "female_students_part_7",
         "rawType": "float64",
         "type": "float"
        },
        {
         "name": "female_students_part_8",
         "rawType": "float64",
         "type": "float"
        },
        {
         "name": "id_compliance2",
         "rawType": "int64",
         "type": "integer"
        },
        {
         "name": "pbgsi_scheme",
         "rawType": "bool",
         "type": "boolean"
        },
        {
         "name": "pbsci_fiscal_year",
         "rawType": "object",
         "type": "unknown"
        },
        {
         "name": "functional_smc_mmc_gb",
         "rawType": "float64",
         "type": "float"
        },
        {
         "name": "meetings_2022",
         "rawType": "float64",
         "type": "float"
        },
        {
         "name": "meetings_2023",
         "rawType": "float64",
         "type": "float"
        },
        {
         "name": "annual_budget_approved",
         "rawType": "float64",
         "type": "float"
        },
        {
         "name": "public_participation",
         "rawType": "float64",
         "type": "float"
        },
        {
         "name": "academic_initiatives",
         "rawType": "float64",
         "type": "float"
        },
        {
         "name": "responsibilities_completed",
         "rawType": "float64",
         "type": "float"
        },
        {
         "name": "functional_pta",
         "rawType": "float64",
         "type": "float"
        },
        {
         "name": "pta_meetings_2022",
         "rawType": "float64",
         "type": "float"
        },
        {
         "name": "pta_meetings_2023",
         "rawType": "float64",
         "type": "float"
        },
        {
         "name": "pta_public_participation",
         "rawType": "float64",
         "type": "float"
        },
        {
         "name": "cleanliness_involvement",
         "rawType": "float64",
         "type": "float"
        },
        {
         "name": "smag_mmag_gb_discussion",
         "rawType": "float64",
         "type": "float"
        },
        {
         "name": "smag_mmag_gb_resolution",
         "rawType": "float64",
         "type": "float"
        },
        {
         "name": "sexual_harassment_committee",
         "rawType": "float64",
         "type": "float"
        },
        {
         "name": "committee_regular_work",
         "rawType": "float64",
         "type": "float"
        },
        {
         "name": "annual_social_audit",
         "rawType": "float64",
         "type": "float"
        },
        {
         "name": "audit_observations_displayed",
         "rawType": "float64",
         "type": "float"
        },
        {
         "name": "eims_submission_timely",
         "rawType": "float64",
         "type": "float"
        },
        {
         "name": "board",
         "rawType": "object",
         "type": "unknown"
        },
        {
         "name": "ssc_2021_total_students",
         "rawType": "float64",
         "type": "float"
        },
        {
         "name": "ssc_2021_passed_students",
         "rawType": "float64",
         "type": "float"
        },
        {
         "name": "ssc_board_2021_pass_rate",
         "rawType": "float64",
         "type": "float"
        },
        {
         "name": "ssc_2022_total_students",
         "rawType": "float64",
         "type": "float"
        },
        {
         "name": "ssc_2022_passed_students",
         "rawType": "float64",
         "type": "float"
        },
        {
         "name": "ssc_board_2022_pass_rate",
         "rawType": "float64",
         "type": "float"
        },
        {
         "name": "hsc_2021_total_students",
         "rawType": "float64",
         "type": "float"
        },
        {
         "name": "hsc_2021_passed_students",
         "rawType": "float64",
         "type": "float"
        },
        {
         "name": "hsc_board_2021_pass_rate",
         "rawType": "float64",
         "type": "float"
        },
        {
         "name": "hsc_2022_total_students",
         "rawType": "float64",
         "type": "float"
        },
        {
         "name": "hsc_2022_passed_students",
         "rawType": "float64",
         "type": "float"
        },
        {
         "name": "hsc_board_2022_pass_rate",
         "rawType": "float64",
         "type": "float"
        },
        {
         "name": "pass_rate",
         "rawType": "float64",
         "type": "float"
        },
        {
         "name": "students_attendance_2022",
         "rawType": "float64",
         "type": "float"
        },
        {
         "name": "teachers_attendance_2022",
         "rawType": "float64",
         "type": "float"
        },
        {
         "name": "report_card_regularly_stored",
         "rawType": "float64",
         "type": "float"
        },
        {
         "name": "report_card_displayed",
         "rawType": "float64",
         "type": "float"
        },
        {
         "name": "report_card_not_regularly_stored",
         "rawType": "float64",
         "type": "float"
        },
        {
         "name": "separate_washrooms",
         "rawType": "float64",
         "type": "float"
        },
        {
         "name": "common_room",
         "rawType": "float64",
         "type": "float"
        },
        {
         "name": "first_aid",
         "rawType": "float64",
         "type": "float"
        },
        {
         "name": "no_adequate_facilities_washroom",
         "rawType": "float64",
         "type": "float"
        },
        {
         "name": "clean_environment",
         "rawType": "float64",
         "type": "float"
        },
        {
         "name": "regular_cleaning_plan",
         "rawType": "float64",
         "type": "float"
        },
        {
         "name": "student_participation_in_cleaning",
         "rawType": "float64",
         "type": "float"
        },
        {
         "name": "cleaning_activities",
         "rawType": "float64",
         "type": "float"
        },
        {
         "name": "martyrs_memorial",
         "rawType": "float64",
         "type": "float"
        },
        {
         "name": "separate_library",
         "rawType": "float64",
         "type": "float"
        },
        {
         "name": "liberation_war_corner",
         "rawType": "float64",
         "type": "float"
        },
        {
         "name": "playground",
         "rawType": "float64",
         "type": "float"
        },
        {
         "name": "national_anthem_with_parade",
         "rawType": "float64",
         "type": "float"
        },
        {
         "name": "indoor_national_anthem",
         "rawType": "float64",
         "type": "float"
        },
        {
         "name": "national_days_celebrated",
         "rawType": "float64",
         "type": "float"
        },
        {
         "name": "proper_flag_hoisting",
         "rawType": "float64",
         "type": "float"
        },
        {
         "name": "cultural_competitions",
         "rawType": "float64",
         "type": "float"
        },
        {
         "name": "bncc",
         "rawType": "float64",
         "type": "float"
        },
        {
         "name": "scout_girls_guide_rover",
         "rawType": "float64",
         "type": "float"
        },
        {
         "name": "sports_competitions",
         "rawType": "float64",
         "type": "float"
        },
        {
         "name": "debate_competitions",
         "rawType": "float64",
         "type": "float"
        },
        {
         "name": "anti_smoking_campaign",
         "rawType": "float64",
         "type": "float"
        },
        {
         "name": "anti_terrorism_campaign",
         "rawType": "float64",
         "type": "float"
        },
        {
         "name": "anti_child_marriage_campaign",
         "rawType": "float64",
         "type": "float"
        },
        {
         "name": "laboratory",
         "rawType": "float64",
         "type": "float"
        },
        {
         "name": "report_card_published_in_web",
         "rawType": "float64",
         "type": "float"
        },
        {
         "name": "garden_scope",
         "rawType": "float64",
         "type": "float"
        },
        {
         "name": "anti_narcotics_campaign",
         "rawType": "float64",
         "type": "float"
        },
        {
         "name": "tree_plantation_campaign",
         "rawType": "float64",
         "type": "float"
        },
        {
         "name": "anti_cyber_bullying",
         "rawType": "float64",
         "type": "float"
        },
        {
         "name": "was_returned",
         "rawType": "float64",
         "type": "float"
        },
        {
         "name": "id_compliance3",
         "rawType": "int64",
         "type": "integer"
        },
        {
         "name": "smag_purchase_resolution_done",
         "rawType": "float64",
         "type": "float"
        },
        {
         "name": "smag_expense_distribution_done",
         "rawType": "float64",
         "type": "float"
        },
        {
         "name": "incentive_teachers_count",
         "rawType": "float64",
         "type": "float"
        },
        {
         "name": "incentive_distributed_as_per_rate",
         "rawType": "float64",
         "type": "float"
        },
        {
         "name": "committees_formed_for_purchase",
         "rawType": "float64",
         "type": "float"
        },
        {
         "name": "purchase_completed_through_committees",
         "rawType": "float64",
         "type": "float"
        },
        {
         "name": "book_list_exists",
         "rawType": "float64",
         "type": "float"
        },
        {
         "name": "library_books_expense_2023",
         "rawType": "float64",
         "type": "float"
        },
        {
         "name": "facility_expense_for_girls",
         "rawType": "float64",
         "type": "float"
        },
        {
         "name": "smag_assistance_provided_through_committee",
         "rawType": "float64",
         "type": "float"
        },
        {
         "name": "smag_assistance_provided_to_disadvantaged_students",
         "rawType": "float64",
         "type": "float"
        },
        {
         "name": "smag_disadvantaged_students_assisted_count",
         "rawType": "float64",
         "type": "float"
        },
        {
         "name": "smag_disadvantaged_students_boys_count",
         "rawType": "float64",
         "type": "float"
        },
        {
         "name": "smag_disadvantaged_students_girls_count",
         "rawType": "float64",
         "type": "float"
        },
        {
         "name": "financial_aid_to_special_needs_students",
         "rawType": "float64",
         "type": "float"
        },
        {
         "name": "smag_special_needs_students_aid_count",
         "rawType": "float64",
         "type": "float"
        },
        {
         "name": "total_financial_aid_amount_2023",
         "rawType": "float64",
         "type": "float"
        },
        {
         "name": "disabled_friendly_infrastructure_built",
         "rawType": "float64",
         "type": "float"
        },
        {
         "name": "wheelchair_cost",
         "rawType": "float64",
         "type": "float"
        },
        {
         "name": "crutch_cost",
         "rawType": "float64",
         "type": "float"
        },
        {
         "name": "white_cane_cost",
         "rawType": "float64",
         "type": "float"
        },
        {
         "name": "hearing_aid_cost",
         "rawType": "float64",
         "type": "float"
        },
        {
         "name": "ramp_cost",
         "rawType": "float64",
         "type": "float"
        },
        {
         "name": "other_infrastructure_cost",
         "rawType": "float64",
         "type": "float"
        },
        {
         "name": "stock_register_cashbook_entry",
         "rawType": "float64",
         "type": "float"
        },
        {
         "name": "got_ubsa_hsca",
         "rawType": "float64",
         "type": "float"
        },
        {
         "name": "total_ssc_2022_ubsa",
         "rawType": "float64",
         "type": "float"
        },
        {
         "name": "total_ssc_2023_ubsa",
         "rawType": "float64",
         "type": "float"
        },
        {
         "name": "total_hsc_2022_hsca",
         "rawType": "float64",
         "type": "float"
        },
        {
         "name": "total_hsc_2023_hsca",
         "rawType": "float64",
         "type": "float"
        },
        {
         "name": "has_contributed_to_advancement",
         "rawType": "float64",
         "type": "float"
        }
       ],
       "ref": "509048c6-bea0-4597-b498-ba5594ba1bde",
       "rows": [
        [
         "0",
         "187108",
         "জিয়াডাঙ্গা আহমাদিয়া দাখিল মাদ্রাসা",
         "ZIADANGA AHMADIA DAKHIL MADRASHA",
         "ziadanga",
         "0",
         "Magurahat",
         "7400",
         null,
         null,
         "2.0",
         "24.0",
         "5.0",
         "01709253203",
         "115540_20250813_091911.jpg",
         "23.0798518",
         "89.3160308",
         "OWN",
         "0.0",
         "1.0",
         "1.0",
         "1.0",
         "1.0",
         null,
         "115540",
         null,
         "5.40500020980835",
         "7.207680702209473",
         null,
         "1",
         "01-01-1995",
         "1",
         null,
         null,
         "1 no prembag",
         null,
         null,
         "1.0",
         "114.0",
         "1.0",
         "2701.0",
         "1.0",
         "1.0",
         null,
         null,
         "0.0",
         "ESURVEY",
         "2025-08-13 09:19:10.137",
         "2.0.2",
         null,
         null,
         null,
         "5421",
         "4",
         "6.0",
         "3.0",
         null,
         "2.0",
         "1.0",
         "0.0",
         null,
         "1.0",
         null,
         null,
         null,
         "1.0",
         null,
         null,
         "1.0",
         null,
         "5389",
         "11.0",
         "1.0",
         "4.0",
         "1.0",
         "5.0",
         "192.0",
         "86.0",
         "1.0",
         "50.0",
         "31.0",
         "13.0",
         "1.0",
         "50.0",
         "31.0",
         "13.0",
         "1.0",
         "50.0",
         "53.0",
         "26.0",
         "1.0",
         "50.0",
         "47.0",
         "22.0",
         "1.0",
         "50.0",
         "30.0",
         "12.0",
         null,
         null,
         null,
         null,
         null,
         null,
         null,
         null,
         null,
         null,
         null,
         null,
         null,
         null,
         null,
         null,
         null,
         null,
         null,
         null,
         null,
         null,
         null,
         null,
         null,
         null,
         null,
         null,
         null,
         null,
         null,
         null,
         null,
         null,
         null,
         null,
         null,
         null,
         null,
         null,
         null,
         null,
         null,
         null,
         null,
         null,
         null,
         null,
         null,
         null,
         "5392",
         "False",
         null,
         null,
         null,
         null,
         null,
         null,
         null,
         null,
         null,
         null,
         null,
         null,
         null,
         null,
         null,
         null,
         null,
         null,
         null,
         null,
         null,
         null,
         null,
         null,
         null,
         null,
         null,
         null,
         null,
         null,
         null,
         null,
         null,
         null,
         null,
         null,
         null,
         null,
         null,
         null,
         null,
         null,
         null,
         null,
         null,
         null,
         null,
         null,
         null,
         null,
         null,
         null,
         null,
         null,
         null,
         null,
         null,
         null,
         null,
         null,
         null,
         null,
         null,
         null,
         null,
         null,
         null,
         null,
         null,
         null,
         "5389",
         null,
         null,
         null,
         null,
         null,
         null,
         null,
         null,
         null,
         null,
         null,
         null,
         null,
         null,
         null,
         null,
         null,
         null,
         null,
         null,
         null,
         null,
         null,
         null,
         null,
         null,
         null,
         null,
         null,
         null,
         null
        ],
        [
         "1",
         "187111",
         "বেলকুচি বহুমুখী মহিলা ডিগ্রি কলেজ",
         "BELKUCHI BAHUMAUKHI WOMENS COLLEGE",
         "SHERNAGAR",
         "SIRAJGANJ  ENAYETPUR ROAD",
         "SHOHAGPUR",
         "6741",
         null,
         null,
         "67.0",
         "60.0",
         "6.0",
         "01790944636",
         "128025_20250825_120636.jpg",
         "24.2867983",
         "89.6976067",
         "OWN",
         "0.0",
         "1.0",
         "1.0",
         "1.0",
         "1.0",
         null,
         "128025",
         null,
         "2.299999952316284",
         "2.0038177967071533",
         null,
         "1",
         "11-02-1998",
         null,
         "BELKUCHI",
         "7.0",
         null,
         null,
         null,
         "1.0",
         "144.0",
         "1.0",
         "3239.0",
         "1.0",
         null,
         null,
         null,
         "0.0",
         "ESURVEY",
         "2025-08-25 12:06:33.080",
         "2.3.0",
         null,
         null,
         null,
         "35837",
         "3",
         "4.0",
         "2.0",
         null,
         "2.0",
         "1.0",
         "0.0",
         null,
         "1.0",
         null,
         null,
         null,
         "1.0",
         null,
         null,
         "1.0",
         null,
         "35807",
         "29.0",
         "13.0",
         "17.0",
         "4.0",
         "5.0",
         "1018.0",
         "1018.0",
         "1.0",
         "0.0",
         "0.0",
         "0.0",
         "1.0",
         "0.0",
         "0.0",
         "0.0",
         "1.0",
         "0.0",
         "0.0",
         "0.0",
         "1.0",
         "0.0",
         "0.0",
         "0.0",
         "1.0",
         "0.0",
         "0.0",
         "0.0",
         "1.0",
         "700.0",
         "518.0",
         "518.0",
         "1.0",
         "700.0",
         "500.0",
         "500.0",
         null,
         null,
         null,
         null,
         null,
         null,
         null,
         null,
         null,
         null,
         null,
         null,
         null,
         null,
         null,
         null,
         null,
         null,
         null,
         null,
         null,
         null,
         null,
         null,
         null,
         null,
         null,
         null,
         null,
         null,
         null,
         null,
         null,
         null,
         null,
         null,
         null,
         null,
         null,
         null,
         null,
         null,
         "36322",
         "False",
         null,
         null,
         null,
         null,
         null,
         null,
         null,
         null,
         null,
         null,
         null,
         null,
         null,
         null,
         null,
         null,
         null,
         null,
         null,
         null,
         null,
         null,
         null,
         null,
         null,
         null,
         null,
         null,
         null,
         null,
         null,
         null,
         null,
         null,
         null,
         null,
         null,
         null,
         null,
         null,
         null,
         null,
         null,
         null,
         null,
         null,
         null,
         null,
         null,
         null,
         null,
         null,
         null,
         null,
         null,
         null,
         null,
         null,
         null,
         null,
         null,
         null,
         null,
         null,
         null,
         null,
         null,
         null,
         null,
         null,
         "36381",
         null,
         null,
         null,
         null,
         null,
         null,
         null,
         null,
         null,
         null,
         null,
         null,
         null,
         null,
         null,
         null,
         null,
         null,
         null,
         null,
         null,
         null,
         null,
         null,
         null,
         null,
         null,
         null,
         null,
         null,
         null
        ],
        [
         "2",
         "187112",
         "কালিকাপুর সিদ্দিকীয়া দাখিল মাদ্রাসা",
         "KALIKAPUR SIDDIKIA MADRASHA",
         "KALIKAPUR",
         "BALIADANGA TO TALTOLA ROAD",
         "KALIKAPUR",
         "9440",
         null,
         null,
         "263.0",
         "59.0",
         "5.0",
         "01723912767",
         "118777_20250824_060944.jpg",
         "22.3922241",
         "89.1387687",
         "OWN",
         "0.0",
         "1.0",
         "1.0",
         "1.0",
         "1.0",
         null,
         "118777",
         null,
         "3.7899999618530273",
         "2.572690963745117",
         null,
         "1",
         "01-01-1979",
         "02",
         null,
         null,
         "01 NO KRISHNANAGAR",
         null,
         null,
         "1.0",
         "1.0",
         "1.0",
         "2846.0",
         "1.0",
         null,
         null,
         null,
         "0.0",
         "ESURVEY",
         "2025-08-24 06:09:43.283",
         "2.3.0",
         null,
         null,
         null,
         "30425",
         "4",
         "6.0",
         "3.0",
         null,
         "2.0",
         "1.0",
         "0.0",
         null,
         "1.0",
         null,
         null,
         null,
         "1.0",
         null,
         null,
         "1.0",
         null,
         "30395",
         "16.0",
         "2.0",
         "5.0",
         "1.0",
         "6.0",
         "223.0",
         "117.0",
         "1.0",
         "65.0",
         "63.0",
         "30.0",
         "1.0",
         "60.0",
         "47.0",
         "30.0",
         "1.0",
         "60.0",
         "54.0",
         "29.0",
         "1.0",
         "60.0",
         "34.0",
         "17.0",
         "1.0",
         "60.0",
         "25.0",
         "11.0",
         null,
         null,
         null,
         null,
         null,
         null,
         null,
         null,
         null,
         null,
         null,
         null,
         null,
         null,
         null,
         null,
         null,
         null,
         null,
         null,
         null,
         null,
         null,
         null,
         null,
         null,
         null,
         null,
         null,
         null,
         null,
         null,
         null,
         null,
         null,
         null,
         null,
         null,
         null,
         null,
         null,
         null,
         null,
         null,
         null,
         null,
         null,
         null,
         null,
         null,
         "30910",
         "False",
         null,
         null,
         null,
         null,
         null,
         null,
         null,
         null,
         null,
         null,
         null,
         null,
         null,
         null,
         null,
         null,
         null,
         null,
         null,
         null,
         null,
         null,
         null,
         null,
         null,
         null,
         null,
         null,
         null,
         null,
         null,
         null,
         null,
         null,
         null,
         null,
         null,
         null,
         null,
         null,
         null,
         null,
         null,
         null,
         null,
         null,
         null,
         null,
         null,
         null,
         null,
         null,
         null,
         null,
         null,
         null,
         null,
         null,
         null,
         null,
         null,
         null,
         null,
         null,
         null,
         null,
         null,
         null,
         null,
         null,
         "30969",
         null,
         null,
         null,
         null,
         null,
         null,
         null,
         null,
         null,
         null,
         null,
         null,
         null,
         null,
         null,
         null,
         null,
         null,
         null,
         null,
         null,
         null,
         null,
         null,
         null,
         null,
         null,
         null,
         null,
         null,
         null
        ],
        [
         "3",
         "187114",
         "মিরপুর নিম্ন মাধ্যমিক বিদ্যানিকেতন।",
         "MIRPUR JUNIOR SECONDARY BIDDYA NIKETON",
         "819 (Sultanpur)",
         "Beside Mirpur Football Field",
         "Mirpur",
         "7030",
         null,
         null,
         "356.0",
         "31.0",
         "5.0",
         "01309117855",
         "117855_20250821_093514.jpg",
         "23.9388133",
         "88.996145",
         "OWN",
         "0.0",
         "1.0",
         "1.0",
         "1.0",
         "1.0",
         null,
         "117855",
         null,
         "2.8499999046325684",
         "2.16847562789917",
         null,
         "1",
         "01-01-1996",
         null,
         "Mirpur",
         "1.0",
         null,
         null,
         null,
         "1.0",
         "50.0",
         "1.0",
         "2804.0",
         null,
         null,
         null,
         null,
         "0.0",
         "ESURVEY",
         "2025-08-21 09:35:13.617",
         "2.3.0",
         null,
         null,
         null,
         "27529",
         "1",
         "1.0",
         "3.0",
         null,
         "2.0",
         "1.0",
         "0.0",
         null,
         "1.0",
         null,
         null,
         null,
         "1.0",
         null,
         null,
         "1.0",
         null,
         "27499",
         "7.0",
         "2.0",
         "5.0",
         "2.0",
         "1.0",
         "163.0",
         "66.0",
         "1.0",
         "55.0",
         "44.0",
         "14.0",
         "1.0",
         "65.0",
         "60.0",
         "26.0",
         "1.0",
         "60.0",
         "59.0",
         "26.0",
         null,
         null,
         null,
         null,
         null,
         null,
         null,
         null,
         null,
         null,
         null,
         null,
         null,
         null,
         null,
         null,
         null,
         null,
         null,
         null,
         null,
         null,
         null,
         null,
         null,
         null,
         null,
         null,
         null,
         null,
         null,
         null,
         null,
         null,
         null,
         null,
         null,
         null,
         null,
         null,
         null,
         null,
         null,
         null,
         null,
         null,
         null,
         null,
         null,
         null,
         null,
         null,
         null,
         null,
         null,
         null,
         null,
         null,
         "28000",
         "False",
         null,
         null,
         null,
         null,
         null,
         null,
         null,
         null,
         null,
         null,
         null,
         null,
         null,
         null,
         null,
         null,
         null,
         null,
         null,
         null,
         null,
         null,
         null,
         null,
         null,
         null,
         null,
         null,
         null,
         null,
         null,
         null,
         null,
         null,
         null,
         null,
         null,
         null,
         null,
         null,
         null,
         null,
         null,
         null,
         null,
         null,
         null,
         null,
         null,
         null,
         null,
         null,
         null,
         null,
         null,
         null,
         null,
         null,
         null,
         null,
         null,
         null,
         null,
         null,
         null,
         null,
         null,
         null,
         null,
         null,
         "28059",
         null,
         null,
         null,
         null,
         null,
         null,
         null,
         null,
         null,
         null,
         null,
         null,
         null,
         null,
         null,
         null,
         null,
         null,
         null,
         null,
         null,
         null,
         null,
         null,
         null,
         null,
         null,
         null,
         null,
         null,
         null
        ],
        [
         "4",
         "187115",
         "মোশারফ হোসেন প্রধান কলেজ",
         "MOSHARAF HOSSAIN PRODHAN COLLEGE",
         "AZIZPUR",
         "Azizpur",
         "Kawamari",
         "5540",
         null,
         null,
         "431.0",
         "33.0",
         "8.0",
         "01309138328",
         "138328_20250826_073844.jpg",
         "26.3861948",
         "88.9980101",
         "OWN",
         "0.0",
         "1.0",
         "1.0",
         "1.0",
         "1.0",
         null,
         "138328",
         null,
         "3.7899999618530273",
         "4.181642055511475",
         null,
         "1",
         "05-01-2015",
         "7",
         null,
         null,
         "Shreerampur",
         null,
         null,
         "1.0",
         "150.0",
         "1.0",
         "3423.0",
         "1.0",
         null,
         null,
         null,
         "0.0",
         "ESURVEY",
         "2025-08-26 07:38:43.310",
         "2.4.1",
         null,
         null,
         null,
         "37678",
         "3",
         "3.0",
         "3.0",
         null,
         "2.0",
         "2.0",
         "0.0",
         null,
         "1.0",
         null,
         null,
         null,
         "1.0",
         null,
         "1.0",
         "1.0",
         null,
         "37648",
         "10.0",
         "2.0",
         "8.0",
         "3.0",
         "2.0",
         "141.0",
         "99.0",
         null,
         null,
         null,
         null,
         null,
         null,
         null,
         null,
         null,
         null,
         null,
         null,
         null,
         null,
         null,
         null,
         null,
         null,
         null,
         null,
         "1.0",
         "400.0",
         "66.0",
         "51.0",
         "1.0",
         "400.0",
         "75.0",
         "48.0",
         null,
         null,
         null,
         null,
         null,
         null,
         null,
         null,
         null,
         null,
         null,
         null,
         null,
         null,
         null,
         null,
         null,
         null,
         null,
         null,
         null,
         null,
         null,
         null,
         null,
         null,
         null,
         null,
         null,
         null,
         null,
         null,
         null,
         null,
         null,
         null,
         null,
         null,
         null,
         null,
         null,
         null,
         "38163",
         "False",
         null,
         null,
         null,
         null,
         null,
         null,
         null,
         null,
         null,
         null,
         null,
         null,
         null,
         null,
         null,
         null,
         null,
         null,
         null,
         null,
         null,
         null,
         null,
         null,
         null,
         null,
         null,
         null,
         null,
         null,
         null,
         null,
         null,
         null,
         null,
         null,
         null,
         null,
         null,
         null,
         null,
         null,
         null,
         null,
         null,
         null,
         null,
         null,
         null,
         null,
         null,
         null,
         null,
         null,
         null,
         null,
         null,
         null,
         null,
         null,
         null,
         null,
         null,
         null,
         null,
         null,
         null,
         null,
         null,
         null,
         "38222",
         null,
         null,
         null,
         null,
         null,
         null,
         null,
         null,
         null,
         null,
         null,
         null,
         null,
         null,
         null,
         null,
         null,
         null,
         null,
         null,
         null,
         null,
         null,
         null,
         null,
         null,
         null,
         null,
         null,
         null,
         null
        ]
       ],
       "shape": {
        "columns": 251,
        "rows": 5
       }
      },
      "text/html": [
       "<div>\n",
       "<style scoped>\n",
       "    .dataframe tbody tr th:only-of-type {\n",
       "        vertical-align: middle;\n",
       "    }\n",
       "\n",
       "    .dataframe tbody tr th {\n",
       "        vertical-align: top;\n",
       "    }\n",
       "\n",
       "    .dataframe thead th {\n",
       "        text-align: right;\n",
       "    }\n",
       "</style>\n",
       "<table border=\"1\" class=\"dataframe\">\n",
       "  <thead>\n",
       "    <tr style=\"text-align: right;\">\n",
       "      <th></th>\n",
       "      <th>id</th>\n",
       "      <th>institution_name_bangla</th>\n",
       "      <th>institution_name_english</th>\n",
       "      <th>address_village_holding</th>\n",
       "      <th>address_road</th>\n",
       "      <th>address_post_office</th>\n",
       "      <th>address_post_code</th>\n",
       "      <th>[union]</th>\n",
       "      <th>address_ward</th>\n",
       "      <th>address_thana</th>\n",
       "      <th>...</th>\n",
       "      <th>hearing_aid_cost</th>\n",
       "      <th>ramp_cost</th>\n",
       "      <th>other_infrastructure_cost</th>\n",
       "      <th>stock_register_cashbook_entry</th>\n",
       "      <th>got_ubsa_hsca</th>\n",
       "      <th>total_ssc_2022_ubsa</th>\n",
       "      <th>total_ssc_2023_ubsa</th>\n",
       "      <th>total_hsc_2022_hsca</th>\n",
       "      <th>total_hsc_2023_hsca</th>\n",
       "      <th>has_contributed_to_advancement</th>\n",
       "    </tr>\n",
       "  </thead>\n",
       "  <tbody>\n",
       "    <tr>\n",
       "      <th>0</th>\n",
       "      <td>187108</td>\n",
       "      <td>জিয়াডাঙ্গা আহমাদিয়া দাখিল মাদ্রাসা</td>\n",
       "      <td>ZIADANGA AHMADIA DAKHIL MADRASHA</td>\n",
       "      <td>ziadanga</td>\n",
       "      <td>0</td>\n",
       "      <td>Magurahat</td>\n",
       "      <td>7400</td>\n",
       "      <td>NaN</td>\n",
       "      <td>NaN</td>\n",
       "      <td>2.0</td>\n",
       "      <td>...</td>\n",
       "      <td>NaN</td>\n",
       "      <td>NaN</td>\n",
       "      <td>NaN</td>\n",
       "      <td>NaN</td>\n",
       "      <td>NaN</td>\n",
       "      <td>NaN</td>\n",
       "      <td>NaN</td>\n",
       "      <td>NaN</td>\n",
       "      <td>NaN</td>\n",
       "      <td>NaN</td>\n",
       "    </tr>\n",
       "    <tr>\n",
       "      <th>1</th>\n",
       "      <td>187111</td>\n",
       "      <td>বেলকুচি বহুমুখী মহিলা ডিগ্রি কলেজ</td>\n",
       "      <td>BELKUCHI BAHUMAUKHI WOMENS COLLEGE</td>\n",
       "      <td>SHERNAGAR</td>\n",
       "      <td>SIRAJGANJ  ENAYETPUR ROAD</td>\n",
       "      <td>SHOHAGPUR</td>\n",
       "      <td>6741</td>\n",
       "      <td>NaN</td>\n",
       "      <td>NaN</td>\n",
       "      <td>67.0</td>\n",
       "      <td>...</td>\n",
       "      <td>NaN</td>\n",
       "      <td>NaN</td>\n",
       "      <td>NaN</td>\n",
       "      <td>NaN</td>\n",
       "      <td>NaN</td>\n",
       "      <td>NaN</td>\n",
       "      <td>NaN</td>\n",
       "      <td>NaN</td>\n",
       "      <td>NaN</td>\n",
       "      <td>NaN</td>\n",
       "    </tr>\n",
       "    <tr>\n",
       "      <th>2</th>\n",
       "      <td>187112</td>\n",
       "      <td>কালিকাপুর সিদ্দিকীয়া দাখিল মাদ্রাসা</td>\n",
       "      <td>KALIKAPUR SIDDIKIA MADRASHA</td>\n",
       "      <td>KALIKAPUR</td>\n",
       "      <td>BALIADANGA TO TALTOLA ROAD</td>\n",
       "      <td>KALIKAPUR</td>\n",
       "      <td>9440</td>\n",
       "      <td>NaN</td>\n",
       "      <td>NaN</td>\n",
       "      <td>263.0</td>\n",
       "      <td>...</td>\n",
       "      <td>NaN</td>\n",
       "      <td>NaN</td>\n",
       "      <td>NaN</td>\n",
       "      <td>NaN</td>\n",
       "      <td>NaN</td>\n",
       "      <td>NaN</td>\n",
       "      <td>NaN</td>\n",
       "      <td>NaN</td>\n",
       "      <td>NaN</td>\n",
       "      <td>NaN</td>\n",
       "    </tr>\n",
       "    <tr>\n",
       "      <th>3</th>\n",
       "      <td>187114</td>\n",
       "      <td>মিরপুর নিম্ন মাধ্যমিক বিদ্যানিকেতন।</td>\n",
       "      <td>MIRPUR JUNIOR SECONDARY BIDDYA NIKETON</td>\n",
       "      <td>819 (Sultanpur)</td>\n",
       "      <td>Beside Mirpur Football Field</td>\n",
       "      <td>Mirpur</td>\n",
       "      <td>7030</td>\n",
       "      <td>NaN</td>\n",
       "      <td>NaN</td>\n",
       "      <td>356.0</td>\n",
       "      <td>...</td>\n",
       "      <td>NaN</td>\n",
       "      <td>NaN</td>\n",
       "      <td>NaN</td>\n",
       "      <td>NaN</td>\n",
       "      <td>NaN</td>\n",
       "      <td>NaN</td>\n",
       "      <td>NaN</td>\n",
       "      <td>NaN</td>\n",
       "      <td>NaN</td>\n",
       "      <td>NaN</td>\n",
       "    </tr>\n",
       "    <tr>\n",
       "      <th>4</th>\n",
       "      <td>187115</td>\n",
       "      <td>মোশারফ হোসেন প্রধান কলেজ</td>\n",
       "      <td>MOSHARAF HOSSAIN PRODHAN COLLEGE</td>\n",
       "      <td>AZIZPUR</td>\n",
       "      <td>Azizpur</td>\n",
       "      <td>Kawamari</td>\n",
       "      <td>5540</td>\n",
       "      <td>NaN</td>\n",
       "      <td>NaN</td>\n",
       "      <td>431.0</td>\n",
       "      <td>...</td>\n",
       "      <td>NaN</td>\n",
       "      <td>NaN</td>\n",
       "      <td>NaN</td>\n",
       "      <td>NaN</td>\n",
       "      <td>NaN</td>\n",
       "      <td>NaN</td>\n",
       "      <td>NaN</td>\n",
       "      <td>NaN</td>\n",
       "      <td>NaN</td>\n",
       "      <td>NaN</td>\n",
       "    </tr>\n",
       "  </tbody>\n",
       "</table>\n",
       "<p>5 rows × 251 columns</p>\n",
       "</div>"
      ],
      "text/plain": [
       "       id              institution_name_bangla  \\\n",
       "0  187108   জিয়াডাঙ্গা আহমাদিয়া দাখিল মাদ্রাসা   \n",
       "1  187111    বেলকুচি বহুমুখী মহিলা ডিগ্রি কলেজ   \n",
       "2  187112  কালিকাপুর সিদ্দিকীয়া দাখিল মাদ্রাসা   \n",
       "3  187114  মিরপুর নিম্ন মাধ্যমিক বিদ্যানিকেতন।   \n",
       "4  187115             মোশারফ হোসেন প্রধান কলেজ   \n",
       "\n",
       "                 institution_name_english address_village_holding  \\\n",
       "0        ZIADANGA AHMADIA DAKHIL MADRASHA                ziadanga   \n",
       "1      BELKUCHI BAHUMAUKHI WOMENS COLLEGE               SHERNAGAR   \n",
       "2             KALIKAPUR SIDDIKIA MADRASHA               KALIKAPUR   \n",
       "3  MIRPUR JUNIOR SECONDARY BIDDYA NIKETON         819 (Sultanpur)   \n",
       "4        MOSHARAF HOSSAIN PRODHAN COLLEGE                 AZIZPUR   \n",
       "\n",
       "                   address_road address_post_office address_post_code  \\\n",
       "0                             0           Magurahat              7400   \n",
       "1     SIRAJGANJ  ENAYETPUR ROAD           SHOHAGPUR              6741   \n",
       "2    BALIADANGA TO TALTOLA ROAD           KALIKAPUR              9440   \n",
       "3  Beside Mirpur Football Field              Mirpur              7030   \n",
       "4                       Azizpur            Kawamari              5540   \n",
       "\n",
       "   [union]  address_ward  address_thana  ...  hearing_aid_cost  ramp_cost  \\\n",
       "0      NaN           NaN            2.0  ...               NaN        NaN   \n",
       "1      NaN           NaN           67.0  ...               NaN        NaN   \n",
       "2      NaN           NaN          263.0  ...               NaN        NaN   \n",
       "3      NaN           NaN          356.0  ...               NaN        NaN   \n",
       "4      NaN           NaN          431.0  ...               NaN        NaN   \n",
       "\n",
       "  other_infrastructure_cost stock_register_cashbook_entry  got_ubsa_hsca  \\\n",
       "0                       NaN                           NaN            NaN   \n",
       "1                       NaN                           NaN            NaN   \n",
       "2                       NaN                           NaN            NaN   \n",
       "3                       NaN                           NaN            NaN   \n",
       "4                       NaN                           NaN            NaN   \n",
       "\n",
       "   total_ssc_2022_ubsa total_ssc_2023_ubsa  total_hsc_2022_hsca  \\\n",
       "0                  NaN                 NaN                  NaN   \n",
       "1                  NaN                 NaN                  NaN   \n",
       "2                  NaN                 NaN                  NaN   \n",
       "3                  NaN                 NaN                  NaN   \n",
       "4                  NaN                 NaN                  NaN   \n",
       "\n",
       "   total_hsc_2023_hsca  has_contributed_to_advancement  \n",
       "0                  NaN                             NaN  \n",
       "1                  NaN                             NaN  \n",
       "2                  NaN                             NaN  \n",
       "3                  NaN                             NaN  \n",
       "4                  NaN                             NaN  \n",
       "\n",
       "[5 rows x 251 columns]"
      ]
     },
     "execution_count": 46,
     "metadata": {},
     "output_type": "execute_result"
    }
   ],
   "source": [
    "df_general_information_merged.head()"
   ]
  },
  {
   "cell_type": "code",
   "execution_count": 47,
   "id": "2aa56658",
   "metadata": {},
   "outputs": [],
   "source": [
    "TYPE_SCHOOL = 1\n",
    "TYPE_SCHOOL_AND_COLLEGE = 2\n",
    "TYPE_COLELGE = 3\n",
    "TYPE_MADRASHA = 4"
   ]
  },
  {
   "cell_type": "code",
   "execution_count": 48,
   "id": "1794a81d",
   "metadata": {},
   "outputs": [],
   "source": [
    "from enum import Enum\n",
    "\n",
    "class InstitutionType(Enum):\n",
    "    SCHOOL = 1\n",
    "    SCHOOL_AND_COLLEGE = 2\n",
    "    MADRASHA = 3"
   ]
  },
  {
   "cell_type": "code",
   "execution_count": 49,
   "id": "4f6a6013",
   "metadata": {},
   "outputs": [],
   "source": [
    "from typing import Dict\n",
    "institute_type_map_total_institution: Dict[int, int] = {}\n",
    "institute_type_map_total_funded_institution: Dict[int, int] = {}\n",
    "institute_type_map_total_refunded_institution: Dict[int, int] = {}"
   ]
  },
  {
   "cell_type": "code",
   "execution_count": 50,
   "id": "3a2ba78c",
   "metadata": {},
   "outputs": [],
   "source": [
    "total_schools_count = df_general_information_merged[df_general_information_merged['institution_type']==TYPE_SCHOOL].shape[0]\n",
    "total_school_and_college_count = df_general_information_merged[df_general_information_merged['institution_type'].isin([TYPE_SCHOOL_AND_COLLEGE, TYPE_COLELGE])].shape[0]\n",
    "total_madrasha_count = df_general_information_merged[df_general_information_merged['institution_type']==TYPE_MADRASHA].shape[0]"
   ]
  },
  {
   "cell_type": "code",
   "execution_count": 51,
   "id": "94e4d96b",
   "metadata": {},
   "outputs": [
    {
     "name": "stdout",
     "output_type": "stream",
     "text": [
      "total schools 19406\n",
      "total school & college and college count: 5582\n",
      "total madrasha count: 9190\n"
     ]
    }
   ],
   "source": [
    "print(f'total schools {total_schools_count}')\n",
    "print(f'total school & college and college count: {total_school_and_college_count}')\n",
    "print(f'total madrasha count: {total_madrasha_count}')"
   ]
  },
  {
   "cell_type": "code",
   "execution_count": 52,
   "id": "6c02dbc3",
   "metadata": {},
   "outputs": [],
   "source": [
    "institute_type_map_total_institution[InstitutionType.SCHOOL.value] = total_schools_count\n",
    "institute_type_map_total_institution[InstitutionType.SCHOOL_AND_COLLEGE.value] = total_school_and_college_count\n",
    "institute_type_map_total_institution[InstitutionType.MADRASHA.value] = total_madrasha_count"
   ]
  },
  {
   "cell_type": "code",
   "execution_count": 53,
   "id": "02d65f99",
   "metadata": {},
   "outputs": [],
   "source": [
    "df_general_information_pbgsi = df_general_information_merged[df_general_information_merged['pbgsi_scheme']==1]"
   ]
  },
  {
   "cell_type": "code",
   "execution_count": 54,
   "id": "6b98a338",
   "metadata": {},
   "outputs": [],
   "source": [
    "total_pbgsi_school_count = df_general_information_pbgsi[df_general_information_pbgsi['institution_type']==TYPE_SCHOOL].shape[0]\n",
    "total_pbgsi_school_and_college_count = df_general_information_pbgsi[df_general_information_pbgsi['institution_type'].isin([TYPE_SCHOOL_AND_COLLEGE, TYPE_COLELGE])].shape[0]\n",
    "total_pbgsi_madrasha_count = df_general_information_pbgsi[df_general_information_pbgsi['institution_type']==TYPE_MADRASHA].shape[0]"
   ]
  },
  {
   "cell_type": "code",
   "execution_count": 55,
   "id": "9188c06d",
   "metadata": {},
   "outputs": [
    {
     "name": "stdout",
     "output_type": "stream",
     "text": [
      "total pbgsi school: 5552\n",
      "total pbgsi school & college: 612\n",
      "total pbgsi madrasha count: 2020\n"
     ]
    }
   ],
   "source": [
    "print(f'total pbgsi school: {total_pbgsi_school_count}')\n",
    "print(f'total pbgsi school & college: {total_pbgsi_school_and_college_count}')\n",
    "print(f'total pbgsi madrasha count: {total_pbgsi_madrasha_count}')"
   ]
  },
  {
   "cell_type": "code",
   "execution_count": 56,
   "id": "54bb274e",
   "metadata": {},
   "outputs": [],
   "source": [
    "institute_type_map_total_funded_institution[InstitutionType.SCHOOL.value] = total_pbgsi_school_count\n",
    "institute_type_map_total_funded_institution[InstitutionType.SCHOOL_AND_COLLEGE.value] = total_pbgsi_school_and_college_count\n",
    "institute_type_map_total_funded_institution[InstitutionType.MADRASHA.value] = total_pbgsi_madrasha_count "
   ]
  },
  {
   "cell_type": "code",
   "execution_count": 57,
   "id": "f88333fe",
   "metadata": {},
   "outputs": [],
   "source": [
    "total_pbgsi_school_returned_count = df_general_information_pbgsi[(df_general_information_pbgsi['institution_type']==TYPE_SCHOOL) & (df_general_information_pbgsi['was_returned']==1)].shape[0]\n",
    "total_pbgsi_school_and_college_returned_count = df_general_information_pbgsi[(df_general_information_pbgsi['institution_type'].isin([TYPE_SCHOOL_AND_COLLEGE, TYPE_COLELGE])) & (df_general_information_pbgsi['was_returned']==1)].shape[0]\n",
    "total_pbgsi_madrasha_returned_count = df_general_information_pbgsi[(df_general_information_pbgsi['institution_type']==TYPE_MADRASHA) & (df_general_information_pbgsi['was_returned']==1)].shape[0]"
   ]
  },
  {
   "cell_type": "code",
   "execution_count": 58,
   "id": "6795a732",
   "metadata": {},
   "outputs": [
    {
     "name": "stdout",
     "output_type": "stream",
     "text": [
      "total pbgsi school returned: 168\n",
      "total pbgsi school & college returned: 28\n",
      "total madrasha returned: 48\n"
     ]
    }
   ],
   "source": [
    "print(f'total pbgsi school returned: {total_pbgsi_school_returned_count}')\n",
    "print(f'total pbgsi school & college returned: {total_pbgsi_school_and_college_returned_count}')\n",
    "print(f'total madrasha returned: {total_pbgsi_madrasha_returned_count}')"
   ]
  },
  {
   "cell_type": "code",
   "execution_count": 62,
   "id": "1e13a7e8",
   "metadata": {},
   "outputs": [],
   "source": [
    "institute_type_map_total_refunded_institution[InstitutionType.SCHOOL.value] = total_pbgsi_school_returned_count\n",
    "institute_type_map_total_refunded_institution[InstitutionType.SCHOOL_AND_COLLEGE.value] = total_pbgsi_school_and_college_returned_count\n",
    "institute_type_map_total_refunded_institution[InstitutionType.MADRASHA.value] = total_pbgsi_madrasha_returned_count "
   ]
  },
  {
   "cell_type": "code",
   "execution_count": 63,
   "id": "fb87cda6",
   "metadata": {},
   "outputs": [],
   "source": [
    "import openpyxl\n",
    "from openpyxl.utils import get_column_letter,get_column_letter\n",
    "from openpyxl.styles import Alignment, Border, Side"
   ]
  },
  {
   "cell_type": "code",
   "execution_count": 67,
   "id": "3010e8bc",
   "metadata": {},
   "outputs": [],
   "source": [
    "wb = openpyxl.Workbook()\n",
    "ws = wb.active\n",
    "\n",
    "ws['A1'] = 'Type of Institute'\n",
    "ws.merge_cells('A1:A2')\n",
    "\n",
    "ws ['B1'] = 'Received Grant'\n",
    "ws.merge_cells('B1:C1')\n",
    "\n",
    "ws['D1'] = 'Refunded Grant'\n",
    "ws.merge_cells('D1:E1')\n",
    "\n",
    "ws['B2'] = 'Number of Institute'\n",
    "ws['C2'] = 'Percentage (%)'\n",
    "\n",
    "ws['D2']= 'Number of Institute'\n",
    "ws['E2'] = 'Percentage (%)'\n",
    "\n",
    "row_num = 3\n",
    "\n",
    "total_combined_institution :int = 0\n",
    "total_pbgsi_institution :int = 0\n",
    "total_pbgsi_refunded_institution :int = 0\n",
    "\n",
    "for inst_type in InstitutionType:\n",
    "    institution_type_cell = \"A\"+str(row_num)\n",
    "    ws[institution_type_cell] = inst_type.name\n",
    "\n",
    "\n",
    "    total_funded_institution_count = institute_type_map_total_funded_institution.get(inst_type.value, 0)\n",
    "    total_pbgsi_institution+= total_funded_institution_count\n",
    "    total_funded_instititon_count_cell = \"B\"+str(row_num)\n",
    "    ws[total_funded_instititon_count_cell] = str(total_funded_institution_count)\n",
    "\n",
    "    total_institution_count = institute_type_map_total_institution.get(inst_type.value)\n",
    "    total_combined_institution += total_institution_count\n",
    "    total_fund_percentage:float = 0.0 if total_funded_institution_count==0 else  total_funded_institution_count/total_institution_count\n",
    "    total_fund_percentage_cell = \"C\"+str(row_num)\n",
    "    ws[total_fund_percentage_cell] = str(total_fund_percentage * 100)\n",
    "\n",
    "    total_refunded_institution_count = institute_type_map_total_refunded_institution.get(inst_type.value, 0)\n",
    "    total_pbgsi_refunded_institution += total_refunded_institution_count\n",
    "    total_refuned_institution_count_cell = \"D\"+str(row_num)\n",
    "    ws[total_refuned_institution_count_cell] = str(total_refunded_institution_count)\n",
    "\n",
    "    total_refuned_institution_count_percentage = 0.0 if total_refunded_institution_count==0 else total_refunded_institution_count/total_funded_institution_count\n",
    "    total_refunded_percentage_cell = \"E\"+str(row_num)\n",
    "    ws[total_refunded_percentage_cell] = str(total_refuned_institution_count_percentage * 100)\n",
    "\n",
    "    row_num+=1\n",
    "\n",
    "# total section\n",
    "institution_type_cell = \"A\"+str(row_num)\n",
    "ws[institution_type_cell] = 'Total'\n",
    "\n",
    "total_funded_instititon_count_cell = \"B\"+str(row_num)\n",
    "ws[total_funded_instititon_count_cell] = str(total_pbgsi_institution)\n",
    "\n",
    "total_funded_institution_percentage_cell = \"C\"+str(row_num)\n",
    "ws[total_funded_institution_percentage_cell] = str((total_pbgsi_institution/total_combined_institution)* 100)\n",
    "\n",
    "total_returned_cell = \"D\"+str(row_num)\n",
    "ws[total_returned_cell] = str(total_pbgsi_refunded_institution)\n",
    "\n",
    "total_refunded_institution_percentage_cell = \"E\"+str(row_num)\n",
    "ws[total_refunded_institution_percentage_cell] = str((total_pbgsi_refunded_institution/total_pbgsi_institution) * 100)\n",
    "\n",
    "\n",
    "center_alignment = Alignment(horizontal='center', vertical='center')\n",
    "thin_border = Border(\n",
    "    left=Side(style='thin'),\n",
    "    right=Side(style='thin'),\n",
    "    top=Side(style='thin'),\n",
    "    bottom=Side(style='thin')\n",
    ")\n",
    "\n",
    "for row in ws.iter_rows():\n",
    "    for cell in row:\n",
    "        cell.alignment = center_alignment\n",
    "        cell.border = thin_border\n",
    "\n",
    "for column_cells in ws.columns:\n",
    "    length = max(len(str(cell.value)) if cell.value is not None else 0 for cell in column_cells)\n",
    "    column_letter = get_column_letter(column_cells[0].column)\n",
    "    ws.column_dimensions[column_letter].width = length + 2  # Add some padding\n",
    "    \n",
    "wb.save('output/table_1_number_of_institutes_having_grand_and_refund.xlsx')"
   ]
  }
 ],
 "metadata": {
  "kernelspec": {
   "display_name": "base",
   "language": "python",
   "name": "python3"
  },
  "language_info": {
   "codemirror_mode": {
    "name": "ipython",
    "version": 3
   },
   "file_extension": ".py",
   "mimetype": "text/x-python",
   "name": "python",
   "nbconvert_exporter": "python",
   "pygments_lexer": "ipython3",
   "version": "3.13.5"
  }
 },
 "nbformat": 4,
 "nbformat_minor": 5
}
