{
 "cells": [
  {
   "cell_type": "code",
   "execution_count": 225,
   "id": "7d3b94fa",
   "metadata": {},
   "outputs": [],
   "source": [
    "import pandas as pd"
   ]
  },
  {
   "cell_type": "code",
   "execution_count": 226,
   "id": "8033bc69",
   "metadata": {},
   "outputs": [],
   "source": [
    "general_information = pd.read_csv('data/general_information_bkp.csv', low_memory=False)\n",
    "type_and_level = pd.read_csv('data/type_and_level_bk.csv', low_memory=False)\n",
    "geographical_facilities = pd.read_csv('data/geographical_facilities_bkp.csv', low_memory=False)\n",
    "buildings_and_library = pd.read_csv('data/buildings_and_library.csv', low_memory=False)\n",
    "compliance1 = pd.read_csv('data/compliance_1_bkp.csv', low_memory=False)\n",
    "compliance2 = pd.read_csv('data/compliance_2_bkp.csv', low_memory=False)\n",
    "compliance3 = pd.read_csv('data/compliance_3_bkp.csv', low_memory=False)\n",
    "compliance4 = pd.read_csv('data/compliance_4_bkp.csv', low_memory=False)\n",
    "divisions = pd.read_csv('data/divisions_bkp.csv', low_memory=False)\n",
    "districts = pd.read_csv('data/districts_bkp.csv', low_memory=False)\n",
    "thanas = pd.read_csv('data/thanas_bkp.csv', low_memory=False)\n",
    "pbgsi_institutions = pd.read_csv('data/pbgsi_7000_ins_bkp.csv', low_memory=False)\n",
    "institute_type = pd.read_csv('configs/institution_type.csv', low_memory=False)\n",
    "student_type = pd.read_csv('configs/student_types.csv', low_memory=False)\n",
    "divisions = pd.read_csv('data/divisions_bkp.csv', low_memory=False)\n",
    "districts = pd.read_csv('data/districts_bkp.csv', low_memory=False)\n",
    "thanas = pd.read_csv('data/thanas_bkp.csv', low_memory=False)\n",
    "approval_status = pd.read_csv('configs/approval_status.csv', low_memory=False)\n",
    "boards = pd.read_csv('configs/boards.csv', low_memory=False)\n",
    "boundary_types = pd.read_csv('configs/boundary_type.csv', low_memory=False)\n",
    "emis_submission_types = pd.read_csv('configs/emis_submission_types.csv', low_memory=False)\n",
    "fiscal_years = pd.read_csv('configs/fiscal_years.csv', low_memory=False)\n",
    "geographical_location_types = pd.read_csv('configs/geographical_locations_type.csv', low_memory=False)\n",
    "highest_levels = pd.read_csv('configs/higest_levels.csv',low_memory=False)\n",
    "management_type = pd.read_csv('configs/management_types.csv', low_memory=False)\n",
    "mpo_status = pd.read_csv('configs/mpo_status.csv', low_memory=False)\n",
    "ownership_types = pd.read_csv('configs/ownership_type.csv', low_memory=False)\n",
    "pass_rate_types = pd.read_csv('configs/pass_rate_type.csv', low_memory=False)\n",
    "sexual_harassment_committee_activity_type = pd.read_csv('configs/sexual_harassment_committee_activity_type.csv', low_memory=False)\n",
    "students_attendance_types = pd.read_csv('configs/students_attendance_type.csv', low_memory=False)\n",
    "teachers_attendance_types = pd.read_csv('configs/teachers_attendance_type.csv', low_memory=False)\n",
    "technical_types = pd.read_csv('configs/technical_type.csv', low_memory=False)\n",
    "ward_type = pd.read_csv('configs/ward_type.csv', low_memory=False)"
   ]
  },
  {
   "cell_type": "code",
   "execution_count": 227,
   "id": "9d259417",
   "metadata": {},
   "outputs": [],
   "source": [
    "general_information = general_information[general_information['submitted']==1]\n",
    "general_information = general_information[general_information['active_status'].isnull()]"
   ]
  },
  {
   "cell_type": "code",
   "execution_count": 228,
   "id": "abc41338",
   "metadata": {},
   "outputs": [],
   "source": [
    "merged = pd.merge(general_information, type_and_level, left_on=general_information.eiin.name, right_on=type_and_level.eiin.name, how='inner', suffixes=('', '_type_and_level'))"
   ]
  },
  {
   "cell_type": "code",
   "execution_count": 229,
   "id": "f02827a3",
   "metadata": {},
   "outputs": [
    {
     "data": {
      "application/vnd.microsoft.datawrangler.viewer.v0+json": {
       "columns": [
        {
         "name": "index",
         "rawType": "int64",
         "type": "integer"
        },
        {
         "name": "institute_type_id",
         "rawType": "int64",
         "type": "integer"
        },
        {
         "name": "institute_type_name",
         "rawType": "object",
         "type": "string"
        },
        {
         "name": "institute_type_name_en",
         "rawType": "object",
         "type": "string"
        }
       ],
       "ref": "0dcce736-242b-41dc-9f2b-8ba190aee6ef",
       "rows": [
        [
         "0",
         "1",
         "স্কুল",
         "SCHOOL"
        ],
        [
         "1",
         "2",
         "স্কুল এন্ড কলেজ",
         "SCHOOL AND COLLEGE"
        ],
        [
         "2",
         "3",
         "কলেজ",
         "COLLEGE"
        ],
        [
         "3",
         "4",
         "মাদ্রাসা",
         "MADRASHA"
        ],
        [
         "4",
         "5",
         "কওমী মাদ্রাসা",
         "QAOMI MADRASHA"
        ]
       ],
       "shape": {
        "columns": 3,
        "rows": 5
       }
      },
      "text/html": [
       "<div>\n",
       "<style scoped>\n",
       "    .dataframe tbody tr th:only-of-type {\n",
       "        vertical-align: middle;\n",
       "    }\n",
       "\n",
       "    .dataframe tbody tr th {\n",
       "        vertical-align: top;\n",
       "    }\n",
       "\n",
       "    .dataframe thead th {\n",
       "        text-align: right;\n",
       "    }\n",
       "</style>\n",
       "<table border=\"1\" class=\"dataframe\">\n",
       "  <thead>\n",
       "    <tr style=\"text-align: right;\">\n",
       "      <th></th>\n",
       "      <th>institute_type_id</th>\n",
       "      <th>institute_type_name</th>\n",
       "      <th>institute_type_name_en</th>\n",
       "    </tr>\n",
       "  </thead>\n",
       "  <tbody>\n",
       "    <tr>\n",
       "      <th>0</th>\n",
       "      <td>1</td>\n",
       "      <td>স্কুল</td>\n",
       "      <td>SCHOOL</td>\n",
       "    </tr>\n",
       "    <tr>\n",
       "      <th>1</th>\n",
       "      <td>2</td>\n",
       "      <td>স্কুল এন্ড কলেজ</td>\n",
       "      <td>SCHOOL AND COLLEGE</td>\n",
       "    </tr>\n",
       "    <tr>\n",
       "      <th>2</th>\n",
       "      <td>3</td>\n",
       "      <td>কলেজ</td>\n",
       "      <td>COLLEGE</td>\n",
       "    </tr>\n",
       "    <tr>\n",
       "      <th>3</th>\n",
       "      <td>4</td>\n",
       "      <td>মাদ্রাসা</td>\n",
       "      <td>MADRASHA</td>\n",
       "    </tr>\n",
       "    <tr>\n",
       "      <th>4</th>\n",
       "      <td>5</td>\n",
       "      <td>কওমী মাদ্রাসা</td>\n",
       "      <td>QAOMI MADRASHA</td>\n",
       "    </tr>\n",
       "  </tbody>\n",
       "</table>\n",
       "</div>"
      ],
      "text/plain": [
       "   institute_type_id institute_type_name institute_type_name_en\n",
       "0                  1               স্কুল                 SCHOOL\n",
       "1                  2     স্কুল এন্ড কলেজ     SCHOOL AND COLLEGE\n",
       "2                  3                কলেজ                COLLEGE\n",
       "3                  4            মাদ্রাসা               MADRASHA\n",
       "4                  5       কওমী মাদ্রাসা         QAOMI MADRASHA"
      ]
     },
     "execution_count": 229,
     "metadata": {},
     "output_type": "execute_result"
    }
   ],
   "source": [
    "institute_type.head()"
   ]
  },
  {
   "cell_type": "code",
   "execution_count": 230,
   "id": "2d1aacf5",
   "metadata": {},
   "outputs": [
    {
     "data": {
      "application/vnd.microsoft.datawrangler.viewer.v0+json": {
       "columns": [
        {
         "name": "index",
         "rawType": "int64",
         "type": "integer"
        },
        {
         "name": "higest_level_id",
         "rawType": "int64",
         "type": "integer"
        },
        {
         "name": "highest_level_name",
         "rawType": "object",
         "type": "string"
        }
       ],
       "ref": "9a3e5083-881a-4419-a319-798e1e9b55f0",
       "rows": [
        [
         "0",
         "1",
         "নিম্ন মাধ্যমিক "
        ],
        [
         "1",
         "2",
         "মাধ্যমিক"
        ],
        [
         "2",
         "3",
         "উচ্চ মাধ্যমিক"
        ],
        [
         "3",
         "16",
         "ডিপ্লোমা"
        ],
        [
         "4",
         "4",
         "স্নাতক"
        ],
        [
         "5",
         "5",
         "স্নাতকোত্তর"
        ],
        [
         "6",
         "6",
         "দাখিল"
        ],
        [
         "7",
         "7",
         "আলিম"
        ],
        [
         "8",
         "8",
         "ফাযিল"
        ],
        [
         "9",
         "9",
         "কামিল"
        ],
        [
         "10",
         "10",
         "হিফজুল কুরআন"
        ],
        [
         "11",
         "12",
         "আল-মারহালাতুল মুতাওয়াসসিতাহ"
        ],
        [
         "12",
         "13",
         "আল-মারহালাতুল সানাবিয়াতুল’ উলাইয়া"
        ],
        [
         "13",
         "14",
         "মারহালাতুল ফযীলাত"
        ],
        [
         "14",
         "15",
         "মারহালাতুল তাকমিল"
        ]
       ],
       "shape": {
        "columns": 2,
        "rows": 15
       }
      },
      "text/html": [
       "<div>\n",
       "<style scoped>\n",
       "    .dataframe tbody tr th:only-of-type {\n",
       "        vertical-align: middle;\n",
       "    }\n",
       "\n",
       "    .dataframe tbody tr th {\n",
       "        vertical-align: top;\n",
       "    }\n",
       "\n",
       "    .dataframe thead th {\n",
       "        text-align: right;\n",
       "    }\n",
       "</style>\n",
       "<table border=\"1\" class=\"dataframe\">\n",
       "  <thead>\n",
       "    <tr style=\"text-align: right;\">\n",
       "      <th></th>\n",
       "      <th>higest_level_id</th>\n",
       "      <th>highest_level_name</th>\n",
       "    </tr>\n",
       "  </thead>\n",
       "  <tbody>\n",
       "    <tr>\n",
       "      <th>0</th>\n",
       "      <td>1</td>\n",
       "      <td>নিম্ন মাধ্যমিক</td>\n",
       "    </tr>\n",
       "    <tr>\n",
       "      <th>1</th>\n",
       "      <td>2</td>\n",
       "      <td>মাধ্যমিক</td>\n",
       "    </tr>\n",
       "    <tr>\n",
       "      <th>2</th>\n",
       "      <td>3</td>\n",
       "      <td>উচ্চ মাধ্যমিক</td>\n",
       "    </tr>\n",
       "    <tr>\n",
       "      <th>3</th>\n",
       "      <td>16</td>\n",
       "      <td>ডিপ্লোমা</td>\n",
       "    </tr>\n",
       "    <tr>\n",
       "      <th>4</th>\n",
       "      <td>4</td>\n",
       "      <td>স্নাতক</td>\n",
       "    </tr>\n",
       "    <tr>\n",
       "      <th>5</th>\n",
       "      <td>5</td>\n",
       "      <td>স্নাতকোত্তর</td>\n",
       "    </tr>\n",
       "    <tr>\n",
       "      <th>6</th>\n",
       "      <td>6</td>\n",
       "      <td>দাখিল</td>\n",
       "    </tr>\n",
       "    <tr>\n",
       "      <th>7</th>\n",
       "      <td>7</td>\n",
       "      <td>আলিম</td>\n",
       "    </tr>\n",
       "    <tr>\n",
       "      <th>8</th>\n",
       "      <td>8</td>\n",
       "      <td>ফাযিল</td>\n",
       "    </tr>\n",
       "    <tr>\n",
       "      <th>9</th>\n",
       "      <td>9</td>\n",
       "      <td>কামিল</td>\n",
       "    </tr>\n",
       "    <tr>\n",
       "      <th>10</th>\n",
       "      <td>10</td>\n",
       "      <td>হিফজুল কুরআন</td>\n",
       "    </tr>\n",
       "    <tr>\n",
       "      <th>11</th>\n",
       "      <td>12</td>\n",
       "      <td>আল-মারহালাতুল মুতাওয়াসসিতাহ</td>\n",
       "    </tr>\n",
       "    <tr>\n",
       "      <th>12</th>\n",
       "      <td>13</td>\n",
       "      <td>আল-মারহালাতুল সানাবিয়াতুল’ উলাইয়া</td>\n",
       "    </tr>\n",
       "    <tr>\n",
       "      <th>13</th>\n",
       "      <td>14</td>\n",
       "      <td>মারহালাতুল ফযীলাত</td>\n",
       "    </tr>\n",
       "    <tr>\n",
       "      <th>14</th>\n",
       "      <td>15</td>\n",
       "      <td>মারহালাতুল তাকমিল</td>\n",
       "    </tr>\n",
       "  </tbody>\n",
       "</table>\n",
       "</div>"
      ],
      "text/plain": [
       "    higest_level_id                 highest_level_name\n",
       "0                 1                    নিম্ন মাধ্যমিক \n",
       "1                 2                           মাধ্যমিক\n",
       "2                 3                      উচ্চ মাধ্যমিক\n",
       "3                16                           ডিপ্লোমা\n",
       "4                 4                             স্নাতক\n",
       "5                 5                        স্নাতকোত্তর\n",
       "6                 6                              দাখিল\n",
       "7                 7                               আলিম\n",
       "8                 8                              ফাযিল\n",
       "9                 9                              কামিল\n",
       "10               10                       হিফজুল কুরআন\n",
       "11               12        আল-মারহালাতুল মুতাওয়াসসিতাহ\n",
       "12               13  আল-মারহালাতুল সানাবিয়াতুল’ উলাইয়া\n",
       "13               14                  মারহালাতুল ফযীলাত\n",
       "14               15                  মারহালাতুল তাকমিল"
      ]
     },
     "execution_count": 230,
     "metadata": {},
     "output_type": "execute_result"
    }
   ],
   "source": [
    "highest_levels.head(20)"
   ]
  },
  {
   "cell_type": "code",
   "execution_count": 231,
   "id": "83e81877",
   "metadata": {},
   "outputs": [],
   "source": [
    "merged = pd.merge(merged, institute_type, left_on=merged.institution_type.name, right_on=institute_type.institute_type_id.name, how='inner', suffixes=('', '_institution_type'))"
   ]
  },
  {
   "cell_type": "code",
   "execution_count": 232,
   "id": "49e3dc24",
   "metadata": {},
   "outputs": [],
   "source": [
    "merged = pd.merge(merged, compliance1, on='eiin', suffixes=('', '_cmp1'))"
   ]
  },
  {
   "cell_type": "code",
   "execution_count": 233,
   "id": "cd35c216",
   "metadata": {},
   "outputs": [],
   "source": [
    "merged = merged[merged['maximum_level'].isin([10,12,13,14,15])]\n",
    "#merged = merged[merged['institute_type_id']==5]"
   ]
  },
  {
   "cell_type": "code",
   "execution_count": 234,
   "id": "9d5a439f",
   "metadata": {},
   "outputs": [],
   "source": [
    "eleven_col_name = merged['total_students_eleven'].name\n",
    "twelve_col_name = merged['total_students_twelve'].name\n",
    "df_valid_qaomi = merged[\n",
    "    (merged.total_students_six > 0) |\n",
    "    (merged.total_students_eight > 0) |\n",
    "    (merged.total_students_nine > 0) |\n",
    "    (merged.total_students_ten > 0) |\n",
    "    (merged[eleven_col_name] > 0) |\n",
    "    (merged[twelve_col_name] > 0)\n",
    "]"
   ]
  },
  {
   "cell_type": "code",
   "execution_count": 235,
   "id": "ef4b4e55",
   "metadata": {},
   "outputs": [
    {
     "data": {
      "application/vnd.microsoft.datawrangler.viewer.v0+json": {
       "columns": [
        {
         "name": "index",
         "rawType": "int64",
         "type": "integer"
        },
        {
         "name": "id",
         "rawType": "int64",
         "type": "integer"
        },
        {
         "name": "institution_name_bangla",
         "rawType": "object",
         "type": "string"
        },
        {
         "name": "institution_name_english",
         "rawType": "object",
         "type": "string"
        },
        {
         "name": "address_village_holding",
         "rawType": "object",
         "type": "string"
        },
        {
         "name": "address_road",
         "rawType": "object",
         "type": "string"
        },
        {
         "name": "address_post_office",
         "rawType": "object",
         "type": "string"
        },
        {
         "name": "address_post_code",
         "rawType": "object",
         "type": "string"
        },
        {
         "name": "[union]",
         "rawType": "float64",
         "type": "float"
        },
        {
         "name": "address_ward",
         "rawType": "float64",
         "type": "float"
        },
        {
         "name": "address_thana",
         "rawType": "float64",
         "type": "float"
        },
        {
         "name": "address_district",
         "rawType": "float64",
         "type": "float"
        },
        {
         "name": "address_division",
         "rawType": "float64",
         "type": "float"
        },
        {
         "name": "mobile_number",
         "rawType": "object",
         "type": "string"
        },
        {
         "name": "picture",
         "rawType": "object",
         "type": "string"
        },
        {
         "name": "latitude",
         "rawType": "float64",
         "type": "float"
        },
        {
         "name": "longitude",
         "rawType": "float64",
         "type": "float"
        },
        {
         "name": "ownership_type",
         "rawType": "object",
         "type": "string"
        },
        {
         "name": "is_owned_land",
         "rawType": "object",
         "type": "unknown"
        },
        {
         "name": "has_deed",
         "rawType": "object",
         "type": "unknown"
        },
        {
         "name": "has_mutation",
         "rawType": "object",
         "type": "unknown"
        },
        {
         "name": "pays_taxes",
         "rawType": "object",
         "type": "unknown"
        },
        {
         "name": "academic_activities_running",
         "rawType": "object",
         "type": "unknown"
        },
        {
         "name": "eiin_yes_no",
         "rawType": "float64",
         "type": "float"
        },
        {
         "name": "eiin",
         "rawType": "object",
         "type": "string"
        },
        {
         "name": "non_eiin_id",
         "rawType": "float64",
         "type": "float"
        },
        {
         "name": "horizontal_accuracy",
         "rawType": "float64",
         "type": "float"
        },
        {
         "name": "vertical_accuracy",
         "rawType": "float64",
         "type": "float"
        },
        {
         "name": "position_time",
         "rawType": "float64",
         "type": "float"
        },
        {
         "name": "inst_category",
         "rawType": "int64",
         "type": "integer"
        },
        {
         "name": "establishment_date",
         "rawType": "object",
         "type": "string"
        },
        {
         "name": "union_ward",
         "rawType": "object",
         "type": "unknown"
        },
        {
         "name": "municipility",
         "rawType": "object",
         "type": "unknown"
        },
        {
         "name": "municipility_ward",
         "rawType": "float64",
         "type": "float"
        },
        {
         "name": "union",
         "rawType": "object",
         "type": "unknown"
        },
        {
         "name": "city_corporation",
         "rawType": "object",
         "type": "unknown"
        },
        {
         "name": "city_corporation_ward",
         "rawType": "float64",
         "type": "float"
        },
        {
         "name": "ward_type",
         "rawType": "object",
         "type": "unknown"
        },
        {
         "name": "total_land_area",
         "rawType": "float64",
         "type": "float"
        },
        {
         "name": "submitted",
         "rawType": "object",
         "type": "unknown"
        },
        {
         "name": "submitted_by",
         "rawType": "float64",
         "type": "float"
        },
        {
         "name": "forwarded_by_useo",
         "rawType": "float64",
         "type": "float"
        },
        {
         "name": "forwarded_by_deo",
         "rawType": "float64",
         "type": "float"
        },
        {
         "name": "active_status",
         "rawType": "float64",
         "type": "float"
        },
        {
         "name": "active_status_comment",
         "rawType": "object",
         "type": "unknown"
        },
        {
         "name": "stopped",
         "rawType": "float64",
         "type": "float"
        },
        {
         "name": "db_source",
         "rawType": "object",
         "type": "string"
        },
        {
         "name": "submitted_at",
         "rawType": "object",
         "type": "string"
        },
        {
         "name": "submitted_app_version",
         "rawType": "object",
         "type": "string"
        },
        {
         "name": "comments",
         "rawType": "object",
         "type": "unknown"
        },
        {
         "name": "forward_back_deo_msg",
         "rawType": "object",
         "type": "unknown"
        },
        {
         "name": "forward_back_useo_msg",
         "rawType": "object",
         "type": "unknown"
        },
        {
         "name": "id_type_and_level",
         "rawType": "int64",
         "type": "integer"
        },
        {
         "name": "institution_type",
         "rawType": "int64",
         "type": "integer"
        },
        {
         "name": "maximum_level",
         "rawType": "float64",
         "type": "float"
        },
        {
         "name": "student_type",
         "rawType": "float64",
         "type": "float"
        },
        {
         "name": "approval_status",
         "rawType": "float64",
         "type": "float"
        },
        {
         "name": "management_type",
         "rawType": "float64",
         "type": "float"
        },
        {
         "name": "mpo_status",
         "rawType": "float64",
         "type": "float"
        },
        {
         "name": "has_technical_attachment",
         "rawType": "object",
         "type": "unknown"
        },
        {
         "name": "technical_type",
         "rawType": "float64",
         "type": "float"
        },
        {
         "name": "teaching_medium_bangla",
         "rawType": "object",
         "type": "unknown"
        },
        {
         "name": "teaching_medium_english",
         "rawType": "object",
         "type": "unknown"
        },
        {
         "name": "teaching_medium_english_version",
         "rawType": "object",
         "type": "unknown"
        },
        {
         "name": "teaching_medium_arabic",
         "rawType": "object",
         "type": "unknown"
        },
        {
         "name": "shifts_operated",
         "rawType": "float64",
         "type": "float"
        },
        {
         "name": "has_build_approval",
         "rawType": "object",
         "type": "unknown"
        },
        {
         "name": "has_teaching_approval",
         "rawType": "object",
         "type": "unknown"
        },
        {
         "name": "has_full_approval",
         "rawType": "object",
         "type": "unknown"
        },
        {
         "name": "has_no_approval",
         "rawType": "object",
         "type": "unknown"
        },
        {
         "name": "institute_type_id",
         "rawType": "int64",
         "type": "integer"
        },
        {
         "name": "institute_type_name",
         "rawType": "object",
         "type": "string"
        },
        {
         "name": "institute_type_name_en",
         "rawType": "object",
         "type": "string"
        },
        {
         "name": "id_cmp1",
         "rawType": "int64",
         "type": "integer"
        },
        {
         "name": "teachers_count_total",
         "rawType": "float64",
         "type": "float"
        },
        {
         "name": "teachers_count_female",
         "rawType": "float64",
         "type": "float"
        },
        {
         "name": "staff_count_total",
         "rawType": "float64",
         "type": "float"
        },
        {
         "name": "staff_count_female",
         "rawType": "float64",
         "type": "float"
        },
        {
         "name": "trained_teachers",
         "rawType": "float64",
         "type": "float"
        },
        {
         "name": "total_students",
         "rawType": "float64",
         "type": "float"
        },
        {
         "name": "total_female_students",
         "rawType": "float64",
         "type": "float"
        },
        {
         "name": "has_six_grade",
         "rawType": "object",
         "type": "unknown"
        },
        {
         "name": "total_seats_six",
         "rawType": "float64",
         "type": "float"
        },
        {
         "name": "total_students_six",
         "rawType": "float64",
         "type": "float"
        },
        {
         "name": "female_students_six",
         "rawType": "float64",
         "type": "float"
        },
        {
         "name": "has_seven_grade",
         "rawType": "object",
         "type": "unknown"
        },
        {
         "name": "total_seats_seven",
         "rawType": "float64",
         "type": "float"
        },
        {
         "name": "total_students_seven",
         "rawType": "float64",
         "type": "float"
        },
        {
         "name": "female_students_seven",
         "rawType": "float64",
         "type": "float"
        },
        {
         "name": "has_eight_grade",
         "rawType": "object",
         "type": "unknown"
        },
        {
         "name": "total_seats_eight",
         "rawType": "float64",
         "type": "float"
        },
        {
         "name": "total_students_eight",
         "rawType": "float64",
         "type": "float"
        },
        {
         "name": "female_students_eight",
         "rawType": "float64",
         "type": "float"
        },
        {
         "name": "has_nine_grade",
         "rawType": "object",
         "type": "unknown"
        },
        {
         "name": "total_seats_nine",
         "rawType": "float64",
         "type": "float"
        },
        {
         "name": "total_students_nine",
         "rawType": "float64",
         "type": "float"
        },
        {
         "name": "female_students_nine",
         "rawType": "float64",
         "type": "float"
        },
        {
         "name": "has_ten_grade",
         "rawType": "object",
         "type": "unknown"
        },
        {
         "name": "total_seats_ten",
         "rawType": "float64",
         "type": "float"
        },
        {
         "name": "total_students_ten",
         "rawType": "float64",
         "type": "float"
        },
        {
         "name": "female_students_ten",
         "rawType": "float64",
         "type": "float"
        },
        {
         "name": "has_eleven_grade",
         "rawType": "object",
         "type": "unknown"
        },
        {
         "name": "total_seats_eleven",
         "rawType": "float64",
         "type": "float"
        },
        {
         "name": "total_students_eleven",
         "rawType": "float64",
         "type": "float"
        },
        {
         "name": "female_students_eleven",
         "rawType": "float64",
         "type": "float"
        },
        {
         "name": "has_twelve_grade",
         "rawType": "object",
         "type": "unknown"
        },
        {
         "name": "total_seats_twelve",
         "rawType": "float64",
         "type": "float"
        },
        {
         "name": "total_students_twelve",
         "rawType": "float64",
         "type": "float"
        },
        {
         "name": "female_students_twelve",
         "rawType": "float64",
         "type": "float"
        },
        {
         "name": "technical_teacher_count_total",
         "rawType": "float64",
         "type": "float"
        },
        {
         "name": "technical_teacher_count_female",
         "rawType": "float64",
         "type": "float"
        },
        {
         "name": "technical_staff_count_total",
         "rawType": "float64",
         "type": "float"
        },
        {
         "name": "technical_staff_count_female",
         "rawType": "float64",
         "type": "float"
        },
        {
         "name": "technical_trained_teachers",
         "rawType": "float64",
         "type": "float"
        },
        {
         "name": "technical_ict_teachers",
         "rawType": "float64",
         "type": "float"
        },
        {
         "name": "technical_total_male_students",
         "rawType": "float64",
         "type": "float"
        },
        {
         "name": "technical_total_female_students",
         "rawType": "float64",
         "type": "float"
        },
        {
         "name": "technical_total_seats",
         "rawType": "float64",
         "type": "float"
        },
        {
         "name": "technical_total_students",
         "rawType": "float64",
         "type": "float"
        },
        {
         "name": "total_seats_part_1",
         "rawType": "float64",
         "type": "float"
        },
        {
         "name": "total_students_part_1",
         "rawType": "float64",
         "type": "float"
        },
        {
         "name": "female_students_part1",
         "rawType": "float64",
         "type": "float"
        },
        {
         "name": "total_seats_part_2",
         "rawType": "float64",
         "type": "float"
        },
        {
         "name": "total_students_part_2",
         "rawType": "float64",
         "type": "float"
        },
        {
         "name": "female_students_part2",
         "rawType": "float64",
         "type": "float"
        },
        {
         "name": "total_seats_part_3",
         "rawType": "float64",
         "type": "float"
        },
        {
         "name": "total_students_part_3",
         "rawType": "float64",
         "type": "float"
        },
        {
         "name": "female_students_part3",
         "rawType": "float64",
         "type": "float"
        },
        {
         "name": "total_seats_part_4",
         "rawType": "float64",
         "type": "float"
        },
        {
         "name": "total_students_part_4",
         "rawType": "float64",
         "type": "float"
        },
        {
         "name": "female_students_part4",
         "rawType": "float64",
         "type": "float"
        },
        {
         "name": "total_seats_part_5",
         "rawType": "float64",
         "type": "float"
        },
        {
         "name": "total_students_part_5",
         "rawType": "float64",
         "type": "float"
        },
        {
         "name": "female_students_part5",
         "rawType": "float64",
         "type": "float"
        },
        {
         "name": "total_seats_part_6",
         "rawType": "float64",
         "type": "float"
        },
        {
         "name": "total_students_part_6",
         "rawType": "float64",
         "type": "float"
        },
        {
         "name": "female_students_part6",
         "rawType": "float64",
         "type": "float"
        },
        {
         "name": "total_seats_part_7",
         "rawType": "float64",
         "type": "float"
        },
        {
         "name": "total_students_part_7",
         "rawType": "float64",
         "type": "float"
        },
        {
         "name": "female_students_part7",
         "rawType": "float64",
         "type": "float"
        },
        {
         "name": "total_seats_part_8",
         "rawType": "float64",
         "type": "float"
        },
        {
         "name": "total_students_part_8",
         "rawType": "float64",
         "type": "float"
        },
        {
         "name": "female_students_part8",
         "rawType": "float64",
         "type": "float"
        },
        {
         "name": "female_students_part_1",
         "rawType": "float64",
         "type": "float"
        },
        {
         "name": "female_students_part_2",
         "rawType": "float64",
         "type": "float"
        },
        {
         "name": "female_students_part_3",
         "rawType": "float64",
         "type": "float"
        },
        {
         "name": "female_students_part_4",
         "rawType": "float64",
         "type": "float"
        },
        {
         "name": "female_students_part_5",
         "rawType": "float64",
         "type": "float"
        },
        {
         "name": "female_students_part_6",
         "rawType": "float64",
         "type": "float"
        },
        {
         "name": "female_students_part_7",
         "rawType": "float64",
         "type": "float"
        },
        {
         "name": "female_students_part_8",
         "rawType": "float64",
         "type": "float"
        }
       ],
       "ref": "31124dcd-6a24-4682-89ec-2eb4217f3207",
       "rows": [
        [
         "18031",
         "206476",
         "ঠাকুরকাঠি, চেচুয়াখোলা, ভুলবাড়িয়া গলগলিয়া আদর্শ জুনিয়র হাই স্কুল",
         "T.C.B. GOLGOLIA IDEAL JUNIOR SCHOOL",
         "GOLGOLIA",
         "BAGHERPARA TO DOLGA",
         "BAGHERPARA",
         "7470",
         null,
         null,
         "32.0",
         "24.0",
         "5.0",
         "01309115593",
         "115593_20250824_081653.jpg",
         "23.23248",
         "89.3812533",
         "OWN",
         "False",
         "True",
         "True",
         "True",
         "True",
         null,
         "115593",
         null,
         "1.600000023841858",
         "3.700000047683716",
         null,
         "1",
         "01-01-2000",
         "3",
         null,
         null,
         "DHOKOLA",
         null,
         null,
         "True",
         "75.0",
         "True",
         "2703.0",
         "1.0",
         "1.0",
         null,
         null,
         "0.0",
         "ESURVEY",
         "2025-08-24 08:16:52.457",
         "2.3.0",
         null,
         null,
         null,
         "31487",
         "1",
         "10.0",
         "3.0",
         null,
         "2.0",
         "2.0",
         "False",
         null,
         "True",
         null,
         null,
         null,
         "1.0",
         null,
         "True",
         "True",
         null,
         "1",
         "স্কুল",
         "SCHOOL",
         "31457",
         "8.0",
         "2.0",
         "6.0",
         "1.0",
         "3.0",
         "104.0",
         "16.0",
         "True",
         "35.0",
         "35.0",
         "5.0",
         "True",
         "30.0",
         "30.0",
         "3.0",
         "True",
         "39.0",
         "39.0",
         "8.0",
         null,
         null,
         null,
         null,
         null,
         null,
         null,
         null,
         null,
         null,
         null,
         null,
         null,
         null,
         null,
         null,
         null,
         null,
         null,
         null,
         null,
         null,
         null,
         null,
         null,
         null,
         null,
         null,
         null,
         null,
         null,
         null,
         null,
         null,
         null,
         null,
         null,
         null,
         null,
         null,
         null,
         null,
         null,
         null,
         null,
         null,
         null,
         null,
         null,
         null,
         null,
         null,
         null,
         null,
         null,
         null,
         null,
         null
        ],
        [
         "31159",
         "219945",
         "রসুলপুর মাধ্যমিক বিদ্যালয়।",
         "RASULPUR SECONDARY SCHOOL",
         "RASULPUR",
         "MAZOR ZAMAN",
         "ROSULPOR",
         "9400",
         null,
         null,
         "492.0",
         "59.0",
         "5.0",
         "01712333639",
         "118811_20250825_085335.jpg",
         "22.7301971",
         "89.068072",
         "OWN",
         "False",
         "True",
         "True",
         "True",
         "True",
         null,
         "118811",
         null,
         "1.659999966621399",
         "1.5823612213134766",
         null,
         "1",
         "01-01-1988",
         null,
         "SATKHIRA  POURASHABA",
         "9.0",
         null,
         null,
         null,
         "True",
         "80.0",
         "True",
         "2855.0",
         "1.0",
         null,
         null,
         null,
         "0.0",
         "ESURVEY",
         "2025-08-25 08:53:34.503",
         "2.3.0",
         null,
         null,
         null,
         "35075",
         "1",
         "13.0",
         "3.0",
         null,
         "2.0",
         "1.0",
         "False",
         null,
         "True",
         null,
         null,
         null,
         "1.0",
         null,
         null,
         "True",
         null,
         "1",
         "স্কুল",
         "SCHOOL",
         "35045",
         "19.0",
         "7.0",
         "6.0",
         "1.0",
         "18.0",
         "486.0",
         "269.0",
         "True",
         "165.0",
         "100.0",
         "58.0",
         "True",
         "140.0",
         "122.0",
         "70.0",
         "True",
         "140.0",
         "98.0",
         "50.0",
         "True",
         "140.0",
         "74.0",
         "39.0",
         "True",
         "140.0",
         "92.0",
         "52.0",
         null,
         null,
         null,
         null,
         null,
         null,
         null,
         null,
         null,
         null,
         null,
         null,
         null,
         null,
         null,
         null,
         null,
         null,
         null,
         null,
         null,
         null,
         null,
         null,
         null,
         null,
         null,
         null,
         null,
         null,
         null,
         null,
         null,
         null,
         null,
         null,
         null,
         null,
         null,
         null,
         null,
         null,
         null,
         null,
         null,
         null,
         null,
         null,
         null,
         null
        ],
        [
         "35332",
         "224252",
         "দৌলতপুর কলেজ (দিবা-নৈশ)",
         "DAULATPUR COLLEGE (DAY-NIGHT)",
         "102/DAY NIGHT COLLAGE . SHARIF AMJAD HOSSAIN ROAD",
         "2",
         "G.P.O",
         "9202",
         null,
         null,
         "142.0",
         "28.0",
         "5.0",
         "01712658311",
         "116953_20250901_102919.jpg",
         "22.8663519",
         "89.5246474",
         "OWN",
         "False",
         "True",
         "True",
         "True",
         "True",
         null,
         "116953",
         null,
         "11.425000190734863",
         "1.0",
         null,
         "1",
         "07-01-1969",
         null,
         null,
         null,
         null,
         "Khulna city corporation",
         "5.0",
         "True",
         "200.0",
         "True",
         "5255.0",
         null,
         null,
         null,
         null,
         "0.0",
         "ESURVEY",
         "2025-09-01 10:29:18.627",
         "2.4.2",
         null,
         null,
         null,
         "46358",
         "2",
         "14.0",
         "3.0",
         null,
         "2.0",
         "1.0",
         "True",
         "3.0",
         "True",
         null,
         null,
         null,
         "1.0",
         null,
         null,
         "True",
         null,
         "2",
         "স্কুল এন্ড কলেজ",
         "SCHOOL AND COLLEGE",
         "46329",
         "67.0",
         "34.0",
         "25.0",
         "11.0",
         "0.0",
         "496.0",
         "161.0",
         null,
         null,
         null,
         null,
         null,
         null,
         null,
         null,
         null,
         null,
         null,
         null,
         null,
         null,
         null,
         null,
         null,
         null,
         null,
         null,
         "True",
         "705.0",
         "240.0",
         "77.0",
         "True",
         "705.0",
         "256.0",
         "84.0",
         "6.0",
         "3.0",
         "1.0",
         "1.0",
         "4.0",
         "4.0",
         null,
         "62.0",
         "400.0",
         "249.0",
         null,
         null,
         null,
         null,
         null,
         null,
         null,
         null,
         null,
         null,
         null,
         null,
         null,
         null,
         null,
         null,
         null,
         null,
         null,
         null,
         null,
         null,
         null,
         null,
         null,
         null,
         null,
         null,
         null,
         null,
         null,
         null
        ],
        [
         "36009",
         "225868",
         "ভোলানাথপুর দারুল উলুম মাদরাসা",
         "VHOLANATHPUR DARULULOOM MADRASHA",
         "VHOLANATHPUR.BETAGI.BARGUNA",
         "Vholanathpur Kheyaghat Road",
         "Betagi",
         "8740",
         null,
         null,
         "69.0",
         "4.0",
         "2.0",
         "01715624686",
         "100447002_20250831_150728.jpg",
         "22.41196",
         "90.1913402",
         "OWN",
         "False",
         "True",
         "False",
         "True",
         "True",
         null,
         "100447002",
         null,
         "3.7899999618530273",
         "1.470224380493164",
         null,
         "2",
         "01-01-2001",
         "5",
         null,
         null,
         "2 No. Betagi",
         null,
         null,
         "True",
         "100.0",
         "True",
         "5002.0",
         "1.0",
         null,
         null,
         null,
         "0.0",
         "non-eiin",
         "2025-08-31 15:07:28.177",
         "2.4.2",
         null,
         null,
         null,
         "39799",
         "4",
         "10.0",
         "3.0",
         null,
         "2.0",
         "2.0",
         "False",
         null,
         "True",
         null,
         null,
         "True",
         "1.0",
         "True",
         null,
         null,
         "False",
         "4",
         "মাদ্রাসা",
         "MADRASHA",
         "39769",
         "13.0",
         "0.0",
         "4.0",
         "0.0",
         "0.0",
         "32.0",
         "0.0",
         "True",
         "50.0",
         "9.0",
         "0.0",
         "True",
         "50.0",
         "7.0",
         "0.0",
         "True",
         "50.0",
         "6.0",
         "0.0",
         "True",
         "50.0",
         "4.0",
         "0.0",
         "True",
         "50.0",
         "6.0",
         "0.0",
         null,
         null,
         null,
         null,
         null,
         null,
         null,
         null,
         null,
         null,
         null,
         null,
         null,
         null,
         null,
         null,
         null,
         null,
         null,
         null,
         null,
         null,
         null,
         null,
         null,
         null,
         null,
         null,
         null,
         null,
         null,
         null,
         null,
         null,
         null,
         null,
         null,
         null,
         null,
         null,
         null,
         null,
         null,
         null,
         null,
         null,
         null,
         null,
         null,
         null
        ],
        [
         "36013",
         "225873",
         "লক্ষীখোলা দারুল উলুম ইসহাকিয়া মাদ্রাসা ও এতিমখানা",
         "LAXMIKHOLA DARUL ULUM ISHAKIA MADRASA & ATIMKHANA",
         "LAXMIKHOLA",
         "LAXMIKHOLA",
         "LAXMIKHOLA",
         "9270",
         null,
         null,
         "131.0",
         "28.0",
         "5.0",
         "01965910650",
         "404717004_20250908_060443.jpg",
         "22.6102799",
         "89.4680505",
         "OWN",
         "False",
         "True",
         "False",
         "False",
         "True",
         null,
         "404717004",
         null,
         "6.5",
         "10.0",
         null,
         "2",
         "01-01-1968",
         "4",
         null,
         null,
         "PANKHALI",
         null,
         null,
         "True",
         "65.0",
         "True",
         "5480.0",
         null,
         null,
         null,
         null,
         "0.0",
         "non-eiin",
         "2025-09-08 06:04:39.793",
         "2.4.1",
         null,
         null,
         null,
         "42391",
         "5",
         "12.0",
         "1.0",
         null,
         "2.0",
         "2.0",
         "False",
         null,
         "True",
         "False",
         "False",
         "True",
         "1.0",
         "False",
         "False",
         "False",
         "True",
         "5",
         "কওমী মাদ্রাসা",
         "QAOMI MADRASHA",
         "42362",
         "8.0",
         "0.0",
         "2.0",
         "1.0",
         "0.0",
         null,
         null,
         "True",
         "20.0",
         "12.0",
         "0.0",
         "True",
         "20.0",
         "14.0",
         "0.0",
         "True",
         "20.0",
         "10.0",
         "0.0",
         "False",
         null,
         null,
         null,
         "False",
         null,
         null,
         null,
         "False",
         null,
         null,
         null,
         "False",
         null,
         null,
         null,
         null,
         null,
         null,
         null,
         null,
         null,
         null,
         null,
         null,
         null,
         null,
         null,
         null,
         null,
         null,
         null,
         null,
         null,
         null,
         null,
         null,
         null,
         null,
         null,
         null,
         null,
         null,
         null,
         null,
         null,
         null,
         null,
         null,
         null,
         null,
         null,
         null,
         null,
         null,
         null,
         null,
         null
        ]
       ],
       "shape": {
        "columns": 150,
        "rows": 5
       }
      },
      "text/html": [
       "<div>\n",
       "<style scoped>\n",
       "    .dataframe tbody tr th:only-of-type {\n",
       "        vertical-align: middle;\n",
       "    }\n",
       "\n",
       "    .dataframe tbody tr th {\n",
       "        vertical-align: top;\n",
       "    }\n",
       "\n",
       "    .dataframe thead th {\n",
       "        text-align: right;\n",
       "    }\n",
       "</style>\n",
       "<table border=\"1\" class=\"dataframe\">\n",
       "  <thead>\n",
       "    <tr style=\"text-align: right;\">\n",
       "      <th></th>\n",
       "      <th>id</th>\n",
       "      <th>institution_name_bangla</th>\n",
       "      <th>institution_name_english</th>\n",
       "      <th>address_village_holding</th>\n",
       "      <th>address_road</th>\n",
       "      <th>address_post_office</th>\n",
       "      <th>address_post_code</th>\n",
       "      <th>[union]</th>\n",
       "      <th>address_ward</th>\n",
       "      <th>address_thana</th>\n",
       "      <th>...</th>\n",
       "      <th>total_students_part_8</th>\n",
       "      <th>female_students_part8</th>\n",
       "      <th>female_students_part_1</th>\n",
       "      <th>female_students_part_2</th>\n",
       "      <th>female_students_part_3</th>\n",
       "      <th>female_students_part_4</th>\n",
       "      <th>female_students_part_5</th>\n",
       "      <th>female_students_part_6</th>\n",
       "      <th>female_students_part_7</th>\n",
       "      <th>female_students_part_8</th>\n",
       "    </tr>\n",
       "  </thead>\n",
       "  <tbody>\n",
       "    <tr>\n",
       "      <th>18031</th>\n",
       "      <td>206476</td>\n",
       "      <td>ঠাকুরকাঠি, চেচুয়াখোলা, ভুলবাড়িয়া গলগলিয়া আদর্শ...</td>\n",
       "      <td>T.C.B. GOLGOLIA IDEAL JUNIOR SCHOOL</td>\n",
       "      <td>GOLGOLIA</td>\n",
       "      <td>BAGHERPARA TO DOLGA</td>\n",
       "      <td>BAGHERPARA</td>\n",
       "      <td>7470</td>\n",
       "      <td>NaN</td>\n",
       "      <td>NaN</td>\n",
       "      <td>32.0</td>\n",
       "      <td>...</td>\n",
       "      <td>NaN</td>\n",
       "      <td>NaN</td>\n",
       "      <td>NaN</td>\n",
       "      <td>NaN</td>\n",
       "      <td>NaN</td>\n",
       "      <td>NaN</td>\n",
       "      <td>NaN</td>\n",
       "      <td>NaN</td>\n",
       "      <td>NaN</td>\n",
       "      <td>NaN</td>\n",
       "    </tr>\n",
       "    <tr>\n",
       "      <th>31159</th>\n",
       "      <td>219945</td>\n",
       "      <td>রসুলপুর মাধ্যমিক বিদ্যালয়।</td>\n",
       "      <td>RASULPUR SECONDARY SCHOOL</td>\n",
       "      <td>RASULPUR</td>\n",
       "      <td>MAZOR ZAMAN</td>\n",
       "      <td>ROSULPOR</td>\n",
       "      <td>9400</td>\n",
       "      <td>NaN</td>\n",
       "      <td>NaN</td>\n",
       "      <td>492.0</td>\n",
       "      <td>...</td>\n",
       "      <td>NaN</td>\n",
       "      <td>NaN</td>\n",
       "      <td>NaN</td>\n",
       "      <td>NaN</td>\n",
       "      <td>NaN</td>\n",
       "      <td>NaN</td>\n",
       "      <td>NaN</td>\n",
       "      <td>NaN</td>\n",
       "      <td>NaN</td>\n",
       "      <td>NaN</td>\n",
       "    </tr>\n",
       "    <tr>\n",
       "      <th>35332</th>\n",
       "      <td>224252</td>\n",
       "      <td>দৌলতপুর কলেজ (দিবা-নৈশ)</td>\n",
       "      <td>DAULATPUR COLLEGE (DAY-NIGHT)</td>\n",
       "      <td>102/DAY NIGHT COLLAGE . SHARIF AMJAD HOSSAIN ROAD</td>\n",
       "      <td>2</td>\n",
       "      <td>G.P.O</td>\n",
       "      <td>9202</td>\n",
       "      <td>NaN</td>\n",
       "      <td>NaN</td>\n",
       "      <td>142.0</td>\n",
       "      <td>...</td>\n",
       "      <td>NaN</td>\n",
       "      <td>NaN</td>\n",
       "      <td>NaN</td>\n",
       "      <td>NaN</td>\n",
       "      <td>NaN</td>\n",
       "      <td>NaN</td>\n",
       "      <td>NaN</td>\n",
       "      <td>NaN</td>\n",
       "      <td>NaN</td>\n",
       "      <td>NaN</td>\n",
       "    </tr>\n",
       "    <tr>\n",
       "      <th>36009</th>\n",
       "      <td>225868</td>\n",
       "      <td>ভোলানাথপুর দারুল উলুম মাদরাসা</td>\n",
       "      <td>VHOLANATHPUR DARULULOOM MADRASHA</td>\n",
       "      <td>VHOLANATHPUR.BETAGI.BARGUNA</td>\n",
       "      <td>Vholanathpur Kheyaghat Road</td>\n",
       "      <td>Betagi</td>\n",
       "      <td>8740</td>\n",
       "      <td>NaN</td>\n",
       "      <td>NaN</td>\n",
       "      <td>69.0</td>\n",
       "      <td>...</td>\n",
       "      <td>NaN</td>\n",
       "      <td>NaN</td>\n",
       "      <td>NaN</td>\n",
       "      <td>NaN</td>\n",
       "      <td>NaN</td>\n",
       "      <td>NaN</td>\n",
       "      <td>NaN</td>\n",
       "      <td>NaN</td>\n",
       "      <td>NaN</td>\n",
       "      <td>NaN</td>\n",
       "    </tr>\n",
       "    <tr>\n",
       "      <th>36013</th>\n",
       "      <td>225873</td>\n",
       "      <td>লক্ষীখোলা দারুল উলুম ইসহাকিয়া মাদ্রাসা ও এতিমখানা</td>\n",
       "      <td>LAXMIKHOLA DARUL ULUM ISHAKIA MADRASA &amp; ATIMKHANA</td>\n",
       "      <td>LAXMIKHOLA</td>\n",
       "      <td>LAXMIKHOLA</td>\n",
       "      <td>LAXMIKHOLA</td>\n",
       "      <td>9270</td>\n",
       "      <td>NaN</td>\n",
       "      <td>NaN</td>\n",
       "      <td>131.0</td>\n",
       "      <td>...</td>\n",
       "      <td>NaN</td>\n",
       "      <td>NaN</td>\n",
       "      <td>NaN</td>\n",
       "      <td>NaN</td>\n",
       "      <td>NaN</td>\n",
       "      <td>NaN</td>\n",
       "      <td>NaN</td>\n",
       "      <td>NaN</td>\n",
       "      <td>NaN</td>\n",
       "      <td>NaN</td>\n",
       "    </tr>\n",
       "  </tbody>\n",
       "</table>\n",
       "<p>5 rows × 150 columns</p>\n",
       "</div>"
      ],
      "text/plain": [
       "           id                            institution_name_bangla  \\\n",
       "18031  206476  ঠাকুরকাঠি, চেচুয়াখোলা, ভুলবাড়িয়া গলগলিয়া আদর্শ...   \n",
       "31159  219945                         রসুলপুর মাধ্যমিক বিদ্যালয়।   \n",
       "35332  224252                            দৌলতপুর কলেজ (দিবা-নৈশ)   \n",
       "36009  225868                      ভোলানাথপুর দারুল উলুম মাদরাসা   \n",
       "36013  225873  লক্ষীখোলা দারুল উলুম ইসহাকিয়া মাদ্রাসা ও এতিমখানা   \n",
       "\n",
       "                                institution_name_english  \\\n",
       "18031                T.C.B. GOLGOLIA IDEAL JUNIOR SCHOOL   \n",
       "31159                          RASULPUR SECONDARY SCHOOL   \n",
       "35332                      DAULATPUR COLLEGE (DAY-NIGHT)   \n",
       "36009                   VHOLANATHPUR DARULULOOM MADRASHA   \n",
       "36013  LAXMIKHOLA DARUL ULUM ISHAKIA MADRASA & ATIMKHANA   \n",
       "\n",
       "                                 address_village_holding  \\\n",
       "18031                                           GOLGOLIA   \n",
       "31159                                           RASULPUR   \n",
       "35332  102/DAY NIGHT COLLAGE . SHARIF AMJAD HOSSAIN ROAD   \n",
       "36009                        VHOLANATHPUR.BETAGI.BARGUNA   \n",
       "36013                                         LAXMIKHOLA   \n",
       "\n",
       "                      address_road address_post_office address_post_code  \\\n",
       "18031          BAGHERPARA TO DOLGA          BAGHERPARA              7470   \n",
       "31159                  MAZOR ZAMAN            ROSULPOR              9400   \n",
       "35332                            2               G.P.O              9202   \n",
       "36009  Vholanathpur Kheyaghat Road              Betagi              8740   \n",
       "36013                   LAXMIKHOLA          LAXMIKHOLA              9270   \n",
       "\n",
       "       [union]  address_ward  address_thana  ...  total_students_part_8  \\\n",
       "18031      NaN           NaN           32.0  ...                    NaN   \n",
       "31159      NaN           NaN          492.0  ...                    NaN   \n",
       "35332      NaN           NaN          142.0  ...                    NaN   \n",
       "36009      NaN           NaN           69.0  ...                    NaN   \n",
       "36013      NaN           NaN          131.0  ...                    NaN   \n",
       "\n",
       "       female_students_part8 female_students_part_1 female_students_part_2  \\\n",
       "18031                    NaN                    NaN                    NaN   \n",
       "31159                    NaN                    NaN                    NaN   \n",
       "35332                    NaN                    NaN                    NaN   \n",
       "36009                    NaN                    NaN                    NaN   \n",
       "36013                    NaN                    NaN                    NaN   \n",
       "\n",
       "       female_students_part_3  female_students_part_4 female_students_part_5  \\\n",
       "18031                     NaN                     NaN                    NaN   \n",
       "31159                     NaN                     NaN                    NaN   \n",
       "35332                     NaN                     NaN                    NaN   \n",
       "36009                     NaN                     NaN                    NaN   \n",
       "36013                     NaN                     NaN                    NaN   \n",
       "\n",
       "      female_students_part_6 female_students_part_7 female_students_part_8  \n",
       "18031                    NaN                    NaN                    NaN  \n",
       "31159                    NaN                    NaN                    NaN  \n",
       "35332                    NaN                    NaN                    NaN  \n",
       "36009                    NaN                    NaN                    NaN  \n",
       "36013                    NaN                    NaN                    NaN  \n",
       "\n",
       "[5 rows x 150 columns]"
      ]
     },
     "execution_count": 235,
     "metadata": {},
     "output_type": "execute_result"
    }
   ],
   "source": [
    "df_valid_qaomi.head()"
   ]
  },
  {
   "cell_type": "code",
   "execution_count": 236,
   "id": "0f33afb8",
   "metadata": {},
   "outputs": [],
   "source": [
    "df_valid_qaomi = pd.merge(df_valid_qaomi, highest_levels, left_on=df_valid_qaomi.maximum_level, right_on=highest_levels.higest_level_id, how='inner', suffixes=('', '_highest_level'))"
   ]
  },
  {
   "cell_type": "code",
   "execution_count": 237,
   "id": "689e8612",
   "metadata": {},
   "outputs": [],
   "source": [
    "highest_level_name_col = df_valid_qaomi['highest_level_name'].name\n",
    "\n",
    "df_institution_count_by_level = (\n",
    "    df_valid_qaomi\n",
    "    .groupby(highest_level_name_col)\n",
    "    .size()\n",
    "    .reset_index(name='total_institution')\n",
    ")"
   ]
  },
  {
   "cell_type": "code",
   "execution_count": 238,
   "id": "b59f93f9",
   "metadata": {},
   "outputs": [
    {
     "data": {
      "application/vnd.microsoft.datawrangler.viewer.v0+json": {
       "columns": [
        {
         "name": "index",
         "rawType": "int64",
         "type": "integer"
        },
        {
         "name": "highest_level_name",
         "rawType": "object",
         "type": "string"
        },
        {
         "name": "total_institution",
         "rawType": "int64",
         "type": "integer"
        }
       ],
       "ref": "e21701d4-6867-4b57-820b-e9fbb995c170",
       "rows": [
        [
         "0",
         "আল-মারহালাতুল মুতাওয়াসসিতাহ",
         "1451"
        ],
        [
         "1",
         "আল-মারহালাতুল সানাবিয়াতুল’ উলাইয়া",
         "1027"
        ],
        [
         "2",
         "মারহালাতুল তাকমিল",
         "1067"
        ],
        [
         "3",
         "মারহালাতুল ফযীলাত",
         "736"
        ],
        [
         "4",
         "হিফজুল কুরআন",
         "442"
        ]
       ],
       "shape": {
        "columns": 2,
        "rows": 5
       }
      },
      "text/html": [
       "<div>\n",
       "<style scoped>\n",
       "    .dataframe tbody tr th:only-of-type {\n",
       "        vertical-align: middle;\n",
       "    }\n",
       "\n",
       "    .dataframe tbody tr th {\n",
       "        vertical-align: top;\n",
       "    }\n",
       "\n",
       "    .dataframe thead th {\n",
       "        text-align: right;\n",
       "    }\n",
       "</style>\n",
       "<table border=\"1\" class=\"dataframe\">\n",
       "  <thead>\n",
       "    <tr style=\"text-align: right;\">\n",
       "      <th></th>\n",
       "      <th>highest_level_name</th>\n",
       "      <th>total_institution</th>\n",
       "    </tr>\n",
       "  </thead>\n",
       "  <tbody>\n",
       "    <tr>\n",
       "      <th>0</th>\n",
       "      <td>আল-মারহালাতুল মুতাওয়াসসিতাহ</td>\n",
       "      <td>1451</td>\n",
       "    </tr>\n",
       "    <tr>\n",
       "      <th>1</th>\n",
       "      <td>আল-মারহালাতুল সানাবিয়াতুল’ উলাইয়া</td>\n",
       "      <td>1027</td>\n",
       "    </tr>\n",
       "    <tr>\n",
       "      <th>2</th>\n",
       "      <td>মারহালাতুল তাকমিল</td>\n",
       "      <td>1067</td>\n",
       "    </tr>\n",
       "    <tr>\n",
       "      <th>3</th>\n",
       "      <td>মারহালাতুল ফযীলাত</td>\n",
       "      <td>736</td>\n",
       "    </tr>\n",
       "    <tr>\n",
       "      <th>4</th>\n",
       "      <td>হিফজুল কুরআন</td>\n",
       "      <td>442</td>\n",
       "    </tr>\n",
       "  </tbody>\n",
       "</table>\n",
       "</div>"
      ],
      "text/plain": [
       "                  highest_level_name  total_institution\n",
       "0        আল-মারহালাতুল মুতাওয়াসসিতাহ               1451\n",
       "1  আল-মারহালাতুল সানাবিয়াতুল’ উলাইয়া               1027\n",
       "2                  মারহালাতুল তাকমিল               1067\n",
       "3                  মারহালাতুল ফযীলাত                736\n",
       "4                       হিফজুল কুরআন                442"
      ]
     },
     "execution_count": 238,
     "metadata": {},
     "output_type": "execute_result"
    }
   ],
   "source": [
    "df_institution_count_by_level.head()"
   ]
  },
  {
   "cell_type": "code",
   "execution_count": 239,
   "id": "28435e82",
   "metadata": {},
   "outputs": [],
   "source": [
    "total_teachers_col = df_valid_qaomi['teachers_count_total'].name\n",
    "\n",
    "df_teachers_count_by_level = (\n",
    "    df_valid_qaomi\n",
    "    .groupby(highest_level_name_col)[total_teachers_col]\n",
    "    .sum()\n",
    "    .astype(int)\n",
    "    .reset_index(name='total_teachers')\n",
    ")"
   ]
  },
  {
   "cell_type": "code",
   "execution_count": 240,
   "id": "df95fee1",
   "metadata": {},
   "outputs": [
    {
     "data": {
      "application/vnd.microsoft.datawrangler.viewer.v0+json": {
       "columns": [
        {
         "name": "index",
         "rawType": "int64",
         "type": "integer"
        },
        {
         "name": "highest_level_name",
         "rawType": "object",
         "type": "string"
        },
        {
         "name": "total_teachers",
         "rawType": "int64",
         "type": "integer"
        }
       ],
       "ref": "5a63d9af-8573-4298-980e-3a21f792d360",
       "rows": [
        [
         "0",
         "আল-মারহালাতুল মুতাওয়াসসিতাহ",
         "12096"
        ],
        [
         "1",
         "আল-মারহালাতুল সানাবিয়াতুল’ উলাইয়া",
         "11242"
        ],
        [
         "2",
         "মারহালাতুল তাকমিল",
         "22114"
        ],
        [
         "3",
         "মারহালাতুল ফযীলাত",
         "10941"
        ],
        [
         "4",
         "হিফজুল কুরআন",
         "2980"
        ]
       ],
       "shape": {
        "columns": 2,
        "rows": 5
       }
      },
      "text/html": [
       "<div>\n",
       "<style scoped>\n",
       "    .dataframe tbody tr th:only-of-type {\n",
       "        vertical-align: middle;\n",
       "    }\n",
       "\n",
       "    .dataframe tbody tr th {\n",
       "        vertical-align: top;\n",
       "    }\n",
       "\n",
       "    .dataframe thead th {\n",
       "        text-align: right;\n",
       "    }\n",
       "</style>\n",
       "<table border=\"1\" class=\"dataframe\">\n",
       "  <thead>\n",
       "    <tr style=\"text-align: right;\">\n",
       "      <th></th>\n",
       "      <th>highest_level_name</th>\n",
       "      <th>total_teachers</th>\n",
       "    </tr>\n",
       "  </thead>\n",
       "  <tbody>\n",
       "    <tr>\n",
       "      <th>0</th>\n",
       "      <td>আল-মারহালাতুল মুতাওয়াসসিতাহ</td>\n",
       "      <td>12096</td>\n",
       "    </tr>\n",
       "    <tr>\n",
       "      <th>1</th>\n",
       "      <td>আল-মারহালাতুল সানাবিয়াতুল’ উলাইয়া</td>\n",
       "      <td>11242</td>\n",
       "    </tr>\n",
       "    <tr>\n",
       "      <th>2</th>\n",
       "      <td>মারহালাতুল তাকমিল</td>\n",
       "      <td>22114</td>\n",
       "    </tr>\n",
       "    <tr>\n",
       "      <th>3</th>\n",
       "      <td>মারহালাতুল ফযীলাত</td>\n",
       "      <td>10941</td>\n",
       "    </tr>\n",
       "    <tr>\n",
       "      <th>4</th>\n",
       "      <td>হিফজুল কুরআন</td>\n",
       "      <td>2980</td>\n",
       "    </tr>\n",
       "  </tbody>\n",
       "</table>\n",
       "</div>"
      ],
      "text/plain": [
       "                  highest_level_name  total_teachers\n",
       "0        আল-মারহালাতুল মুতাওয়াসসিতাহ           12096\n",
       "1  আল-মারহালাতুল সানাবিয়াতুল’ উলাইয়া           11242\n",
       "2                  মারহালাতুল তাকমিল           22114\n",
       "3                  মারহালাতুল ফযীলাত           10941\n",
       "4                       হিফজুল কুরআন            2980"
      ]
     },
     "execution_count": 240,
     "metadata": {},
     "output_type": "execute_result"
    }
   ],
   "source": [
    "df_teachers_count_by_level.head()"
   ]
  },
  {
   "cell_type": "code",
   "execution_count": 241,
   "id": "d5d7eddf",
   "metadata": {},
   "outputs": [],
   "source": [
    "total_students_col = df_valid_qaomi['total_students'].name\n",
    "\n",
    "df_students_count_by_level = (\n",
    "    df_valid_qaomi\n",
    "    .groupby(highest_level_name_col)[total_students_col]\n",
    "    .sum()\n",
    "    .astype(int)\n",
    "    .reset_index(name='total_students')\n",
    ")"
   ]
  },
  {
   "cell_type": "code",
   "execution_count": 242,
   "id": "1fff3f81",
   "metadata": {},
   "outputs": [
    {
     "data": {
      "application/vnd.microsoft.datawrangler.viewer.v0+json": {
       "columns": [
        {
         "name": "index",
         "rawType": "int64",
         "type": "integer"
        },
        {
         "name": "highest_level_name",
         "rawType": "object",
         "type": "string"
        },
        {
         "name": "total_students",
         "rawType": "int64",
         "type": "integer"
        }
       ],
       "ref": "3c12aced-99c7-43f2-9015-d939d02baa7d",
       "rows": [
        [
         "0",
         "আল-মারহালাতুল মুতাওয়াসসিতাহ",
         "72313"
        ],
        [
         "1",
         "আল-মারহালাতুল সানাবিয়াতুল’ উলাইয়া",
         "75316"
        ],
        [
         "2",
         "মারহালাতুল তাকমিল",
         "193250"
        ],
        [
         "3",
         "মারহালাতুল ফযীলাত",
         "78637"
        ],
        [
         "4",
         "হিফজুল কুরআন",
         "28811"
        ]
       ],
       "shape": {
        "columns": 2,
        "rows": 5
       }
      },
      "text/html": [
       "<div>\n",
       "<style scoped>\n",
       "    .dataframe tbody tr th:only-of-type {\n",
       "        vertical-align: middle;\n",
       "    }\n",
       "\n",
       "    .dataframe tbody tr th {\n",
       "        vertical-align: top;\n",
       "    }\n",
       "\n",
       "    .dataframe thead th {\n",
       "        text-align: right;\n",
       "    }\n",
       "</style>\n",
       "<table border=\"1\" class=\"dataframe\">\n",
       "  <thead>\n",
       "    <tr style=\"text-align: right;\">\n",
       "      <th></th>\n",
       "      <th>highest_level_name</th>\n",
       "      <th>total_students</th>\n",
       "    </tr>\n",
       "  </thead>\n",
       "  <tbody>\n",
       "    <tr>\n",
       "      <th>0</th>\n",
       "      <td>আল-মারহালাতুল মুতাওয়াসসিতাহ</td>\n",
       "      <td>72313</td>\n",
       "    </tr>\n",
       "    <tr>\n",
       "      <th>1</th>\n",
       "      <td>আল-মারহালাতুল সানাবিয়াতুল’ উলাইয়া</td>\n",
       "      <td>75316</td>\n",
       "    </tr>\n",
       "    <tr>\n",
       "      <th>2</th>\n",
       "      <td>মারহালাতুল তাকমিল</td>\n",
       "      <td>193250</td>\n",
       "    </tr>\n",
       "    <tr>\n",
       "      <th>3</th>\n",
       "      <td>মারহালাতুল ফযীলাত</td>\n",
       "      <td>78637</td>\n",
       "    </tr>\n",
       "    <tr>\n",
       "      <th>4</th>\n",
       "      <td>হিফজুল কুরআন</td>\n",
       "      <td>28811</td>\n",
       "    </tr>\n",
       "  </tbody>\n",
       "</table>\n",
       "</div>"
      ],
      "text/plain": [
       "                  highest_level_name  total_students\n",
       "0        আল-মারহালাতুল মুতাওয়াসসিতাহ           72313\n",
       "1  আল-মারহালাতুল সানাবিয়াতুল’ উলাইয়া           75316\n",
       "2                  মারহালাতুল তাকমিল          193250\n",
       "3                  মারহালাতুল ফযীলাত           78637\n",
       "4                       হিফজুল কুরআন           28811"
      ]
     },
     "execution_count": 242,
     "metadata": {},
     "output_type": "execute_result"
    }
   ],
   "source": [
    "df_students_count_by_level.head()"
   ]
  },
  {
   "cell_type": "code",
   "execution_count": 243,
   "id": "09a6a83c",
   "metadata": {},
   "outputs": [],
   "source": [
    "df_qaomi_combined = pd.merge(df_institution_count_by_level, df_teachers_count_by_level, on=df_institution_count_by_level.highest_level_name, suffixes=('', '_teachers'))"
   ]
  },
  {
   "cell_type": "code",
   "execution_count": 244,
   "id": "eefea3ff",
   "metadata": {},
   "outputs": [],
   "source": [
    "df_qaomi_combined = pd.merge(df_qaomi_combined, df_students_count_by_level, left_on=df_qaomi_combined.highest_level_name.name, right_on=df_students_count_by_level.highest_level_name.name, how='inner', suffixes=('', '_students'))"
   ]
  },
  {
   "cell_type": "code",
   "execution_count": 245,
   "id": "db1d1c8c",
   "metadata": {},
   "outputs": [
    {
     "data": {
      "application/vnd.microsoft.datawrangler.viewer.v0+json": {
       "columns": [
        {
         "name": "index",
         "rawType": "int64",
         "type": "integer"
        },
        {
         "name": "key_0",
         "rawType": "object",
         "type": "string"
        },
        {
         "name": "highest_level_name",
         "rawType": "object",
         "type": "string"
        },
        {
         "name": "total_institution",
         "rawType": "int64",
         "type": "integer"
        },
        {
         "name": "highest_level_name_teachers",
         "rawType": "object",
         "type": "string"
        },
        {
         "name": "total_teachers",
         "rawType": "int64",
         "type": "integer"
        },
        {
         "name": "total_students",
         "rawType": "int64",
         "type": "integer"
        }
       ],
       "ref": "3a3db617-da4d-4341-925c-0cd1623ddf53",
       "rows": [
        [
         "0",
         "আল-মারহালাতুল মুতাওয়াসসিতাহ",
         "আল-মারহালাতুল মুতাওয়াসসিতাহ",
         "1451",
         "আল-মারহালাতুল মুতাওয়াসসিতাহ",
         "12096",
         "72313"
        ],
        [
         "1",
         "আল-মারহালাতুল সানাবিয়াতুল’ উলাইয়া",
         "আল-মারহালাতুল সানাবিয়াতুল’ উলাইয়া",
         "1027",
         "আল-মারহালাতুল সানাবিয়াতুল’ উলাইয়া",
         "11242",
         "75316"
        ],
        [
         "2",
         "মারহালাতুল তাকমিল",
         "মারহালাতুল তাকমিল",
         "1067",
         "মারহালাতুল তাকমিল",
         "22114",
         "193250"
        ],
        [
         "3",
         "মারহালাতুল ফযীলাত",
         "মারহালাতুল ফযীলাত",
         "736",
         "মারহালাতুল ফযীলাত",
         "10941",
         "78637"
        ],
        [
         "4",
         "হিফজুল কুরআন",
         "হিফজুল কুরআন",
         "442",
         "হিফজুল কুরআন",
         "2980",
         "28811"
        ]
       ],
       "shape": {
        "columns": 6,
        "rows": 5
       }
      },
      "text/html": [
       "<div>\n",
       "<style scoped>\n",
       "    .dataframe tbody tr th:only-of-type {\n",
       "        vertical-align: middle;\n",
       "    }\n",
       "\n",
       "    .dataframe tbody tr th {\n",
       "        vertical-align: top;\n",
       "    }\n",
       "\n",
       "    .dataframe thead th {\n",
       "        text-align: right;\n",
       "    }\n",
       "</style>\n",
       "<table border=\"1\" class=\"dataframe\">\n",
       "  <thead>\n",
       "    <tr style=\"text-align: right;\">\n",
       "      <th></th>\n",
       "      <th>key_0</th>\n",
       "      <th>highest_level_name</th>\n",
       "      <th>total_institution</th>\n",
       "      <th>highest_level_name_teachers</th>\n",
       "      <th>total_teachers</th>\n",
       "      <th>total_students</th>\n",
       "    </tr>\n",
       "  </thead>\n",
       "  <tbody>\n",
       "    <tr>\n",
       "      <th>0</th>\n",
       "      <td>আল-মারহালাতুল মুতাওয়াসসিতাহ</td>\n",
       "      <td>আল-মারহালাতুল মুতাওয়াসসিতাহ</td>\n",
       "      <td>1451</td>\n",
       "      <td>আল-মারহালাতুল মুতাওয়াসসিতাহ</td>\n",
       "      <td>12096</td>\n",
       "      <td>72313</td>\n",
       "    </tr>\n",
       "    <tr>\n",
       "      <th>1</th>\n",
       "      <td>আল-মারহালাতুল সানাবিয়াতুল’ উলাইয়া</td>\n",
       "      <td>আল-মারহালাতুল সানাবিয়াতুল’ উলাইয়া</td>\n",
       "      <td>1027</td>\n",
       "      <td>আল-মারহালাতুল সানাবিয়াতুল’ উলাইয়া</td>\n",
       "      <td>11242</td>\n",
       "      <td>75316</td>\n",
       "    </tr>\n",
       "    <tr>\n",
       "      <th>2</th>\n",
       "      <td>মারহালাতুল তাকমিল</td>\n",
       "      <td>মারহালাতুল তাকমিল</td>\n",
       "      <td>1067</td>\n",
       "      <td>মারহালাতুল তাকমিল</td>\n",
       "      <td>22114</td>\n",
       "      <td>193250</td>\n",
       "    </tr>\n",
       "    <tr>\n",
       "      <th>3</th>\n",
       "      <td>মারহালাতুল ফযীলাত</td>\n",
       "      <td>মারহালাতুল ফযীলাত</td>\n",
       "      <td>736</td>\n",
       "      <td>মারহালাতুল ফযীলাত</td>\n",
       "      <td>10941</td>\n",
       "      <td>78637</td>\n",
       "    </tr>\n",
       "    <tr>\n",
       "      <th>4</th>\n",
       "      <td>হিফজুল কুরআন</td>\n",
       "      <td>হিফজুল কুরআন</td>\n",
       "      <td>442</td>\n",
       "      <td>হিফজুল কুরআন</td>\n",
       "      <td>2980</td>\n",
       "      <td>28811</td>\n",
       "    </tr>\n",
       "  </tbody>\n",
       "</table>\n",
       "</div>"
      ],
      "text/plain": [
       "                               key_0                 highest_level_name  \\\n",
       "0        আল-মারহালাতুল মুতাওয়াসসিতাহ        আল-মারহালাতুল মুতাওয়াসসিতাহ   \n",
       "1  আল-মারহালাতুল সানাবিয়াতুল’ উলাইয়া  আল-মারহালাতুল সানাবিয়াতুল’ উলাইয়া   \n",
       "2                  মারহালাতুল তাকমিল                  মারহালাতুল তাকমিল   \n",
       "3                  মারহালাতুল ফযীলাত                  মারহালাতুল ফযীলাত   \n",
       "4                       হিফজুল কুরআন                       হিফজুল কুরআন   \n",
       "\n",
       "   total_institution        highest_level_name_teachers  total_teachers  \\\n",
       "0               1451        আল-মারহালাতুল মুতাওয়াসসিতাহ           12096   \n",
       "1               1027  আল-মারহালাতুল সানাবিয়াতুল’ উলাইয়া           11242   \n",
       "2               1067                  মারহালাতুল তাকমিল           22114   \n",
       "3                736                  মারহালাতুল ফযীলাত           10941   \n",
       "4                442                       হিফজুল কুরআন            2980   \n",
       "\n",
       "   total_students  \n",
       "0           72313  \n",
       "1           75316  \n",
       "2          193250  \n",
       "3           78637  \n",
       "4           28811  "
      ]
     },
     "execution_count": 245,
     "metadata": {},
     "output_type": "execute_result"
    }
   ],
   "source": [
    "df_qaomi_combined.head()"
   ]
  },
  {
   "cell_type": "code",
   "execution_count": 246,
   "id": "84cc7bee",
   "metadata": {},
   "outputs": [],
   "source": [
    "df_qaomi_combined.to_excel('output/quaomi-report.xlsx', index=False)"
   ]
  }
 ],
 "metadata": {
  "kernelspec": {
   "display_name": "Python 3",
   "language": "python",
   "name": "python3"
  },
  "language_info": {
   "codemirror_mode": {
    "name": "ipython",
    "version": 3
   },
   "file_extension": ".py",
   "mimetype": "text/x-python",
   "name": "python",
   "nbconvert_exporter": "python",
   "pygments_lexer": "ipython3",
   "version": "3.13.7"
  }
 },
 "nbformat": 4,
 "nbformat_minor": 5
}
