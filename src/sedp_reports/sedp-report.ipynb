{
 "cells": [
  {
   "cell_type": "code",
   "execution_count": 5,
   "id": "a1f47374",
   "metadata": {},
   "outputs": [
    {
     "name": "stderr",
     "output_type": "stream",
     "text": [
      "Access is denied.\n"
     ]
    },
    {
     "name": "stderr",
     "output_type": "stream",
     "text": [
      "Access is denied.\n"
     ]
    }
   ],
   "source": [
    "!pip install pandas\n",
    "!pip install openpyxl"
   ]
  },
  {
   "cell_type": "code",
   "execution_count": 6,
   "id": "4f808e45",
   "metadata": {},
   "outputs": [],
   "source": [
    "import pandas as pd"
   ]
  },
  {
   "cell_type": "code",
   "execution_count": null,
   "id": "d09444a8",
   "metadata": {},
   "outputs": [],
   "source": [
    "general_information = pd.read_excel('data/general_information_bkp.xlsx')\n",
    "type_and_level = pd.read_excel('data/type_and_level_bk.xlsx')\n",
    "geographical_facilities = pd.read_excel('data/geographical_facilities_bkp.xlsx')\n",
    "buildings_and_library = pd.read_excel('data/buildings_and_library.xlsx')\n",
    "buildings = pd.read_excel('data/buildings_bkp.xlsx')\n",
    "compliance1 = pd.read_excel('data/compliance_1_bkp.xlsx')\n",
    "compliance2 = pd.read_excel('data/compliance_2_bkp.xlsx')\n",
    "compliance3 = pd.read_excel('data/compliance_3_bkp.xlsx')\n",
    "compliance4 = pd.read_excel('data/compliance_4_bkp.xlsx')\n"
   ]
  },
  {
   "cell_type": "code",
   "execution_count": 8,
   "id": "e5206366",
   "metadata": {},
   "outputs": [],
   "source": [
    "TYPE_SCHOOL = 1\n",
    "TYPE_SCHOOL_AND_COLLEGE = 2\n",
    "TYPE_COLELGE = 3\n",
    "TYPE_MADRASHA = 4"
   ]
  },
  {
   "cell_type": "code",
   "execution_count": null,
   "id": "da9b9fe1",
   "metadata": {},
   "outputs": [],
   "source": [
    "eiin_institutions = general_information[general_information['']]"
   ]
  },
  {
   "cell_type": "code",
   "execution_count": null,
   "id": "bba91602",
   "metadata": {},
   "outputs": [],
   "source": [
    "pbgsi_institutes = compliance2[(compliance2['pbgsi_scheme']==1)]\n",
    "\n",
    "total_pgbsi_institutes = pbgsi_institutes.count()"
   ]
  },
  {
   "cell_type": "code",
   "execution_count": 10,
   "id": "4847d640",
   "metadata": {},
   "outputs": [],
   "source": [
    "general_information_pbgsi = pd.merge(general_information, pbgsi_institutes, on=\"eiin\", how=\"left\")"
   ]
  },
  {
   "cell_type": "code",
   "execution_count": 11,
   "id": "e1387d70",
   "metadata": {},
   "outputs": [],
   "source": [
    "type_and_level_secondary_school_secondary = type_and_level[type_and_level['institution_type']==TYPE_SCHOOL]"
   ]
  },
  {
   "cell_type": "code",
   "execution_count": 12,
   "id": "c8bd1d53",
   "metadata": {},
   "outputs": [],
   "source": [
    "general_information_pbgsi_secondary = pd.merge(general_information_pbgsi, type_and_level_secondary_school_secondary, on = \"eiin\", how=\"left\")"
   ]
  },
  {
   "cell_type": "code",
   "execution_count": 13,
   "id": "6b6dab6f",
   "metadata": {},
   "outputs": [],
   "source": [
    "total_secondary_school_pbgsi = general_information_pbgsi_secondary.count()"
   ]
  },
  {
   "cell_type": "code",
   "execution_count": 14,
   "id": "b258ba36",
   "metadata": {},
   "outputs": [],
   "source": [
    "type_and_level_secondary_school_and_college = type_and_level[(type_and_level['institution_type']==TYPE_SCHOOL_AND_COLLEGE) | type_and_level['institution_type']==TYPE_COLELGE  ]"
   ]
  },
  {
   "cell_type": "code",
   "execution_count": 15,
   "id": "6b57a034",
   "metadata": {},
   "outputs": [],
   "source": [
    "general_information_pbgsi_school_and_college = pd.merge(general_information_pbgsi, type_and_level_secondary_school_and_college, on='eiin', how='left')"
   ]
  },
  {
   "cell_type": "code",
   "execution_count": 16,
   "id": "14154157",
   "metadata": {},
   "outputs": [],
   "source": [
    "total_school_and_college = general_information_pbgsi_school_and_college.count()"
   ]
  },
  {
   "cell_type": "code",
   "execution_count": 17,
   "id": "f91fa45e",
   "metadata": {},
   "outputs": [],
   "source": [
    "type_and_level_madrasha = type_and_level[type_and_level['institution_type']==TYPE_MADRASHA]"
   ]
  },
  {
   "cell_type": "code",
   "execution_count": 18,
   "id": "8b2ea6a3",
   "metadata": {},
   "outputs": [],
   "source": [
    "general_information_pbgsi_madrasha = pd.merge(general_information_pbgsi, type_and_level_madrasha, on='eiin', how='left')"
   ]
  },
  {
   "cell_type": "code",
   "execution_count": 19,
   "id": "aeec1d2f",
   "metadata": {},
   "outputs": [],
   "source": [
    "total_madrasha = general_information_pbgsi_madrasha.count()"
   ]
  },
  {
   "cell_type": "code",
   "execution_count": 21,
   "id": "0ad26c0c",
   "metadata": {},
   "outputs": [],
   "source": [
    "import openpyxl\n",
    "from openpyxl.utils import get_column_letter"
   ]
  },
  {
   "cell_type": "code",
   "execution_count": null,
   "id": "fb37b8e8",
   "metadata": {},
   "outputs": [],
   "source": [
    "wb = openpyxl.Workbook()\n",
    "ws = wb.active\n",
    "\n",
    "ws['A1'] = 'Type of Institute'\n",
    "ws.merge_cells('A1:A2')\n",
    "\n",
    "ws ['B1'] = 'Received Grant'\n",
    "ws.merge_cells('B1:C1')\n",
    "\n",
    "ws['D1'] = 'Refunded Grant'\n",
    "ws.merge_cells('D1:E1')\n",
    "\n",
    "ws['B2'] = 'Number of Institute'\n",
    "ws['C2'] = 'Percentage (%)'\n",
    "\n",
    "ws['D2']= 'Number of Institute'\n",
    "ws['E2'] = 'Percentage (%)'\n",
    "\n"
   ]
  }
 ],
 "metadata": {
  "kernelspec": {
   "display_name": "base",
   "language": "python",
   "name": "python3"
  },
  "language_info": {
   "codemirror_mode": {
    "name": "ipython",
    "version": 3
   },
   "file_extension": ".py",
   "mimetype": "text/x-python",
   "name": "python",
   "nbconvert_exporter": "python",
   "pygments_lexer": "ipython3",
   "version": "3.13.5"
  }
 },
 "nbformat": 4,
 "nbformat_minor": 5
}
