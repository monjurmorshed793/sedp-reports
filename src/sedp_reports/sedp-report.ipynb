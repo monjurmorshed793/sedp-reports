{
 "cells": [
  {
   "cell_type": "code",
   "execution_count": 23,
   "id": "a1f47374",
   "metadata": {},
   "outputs": [
    {
     "name": "stdout",
     "output_type": "stream",
     "text": [
      "Defaulting to user installation because normal site-packages is not writeable\n",
      "Requirement already satisfied: pandas in c:\\users\\monju\\appdata\\local\\packages\\pythonsoftwarefoundation.python.3.13_qbz5n2kfra8p0\\localcache\\local-packages\\python313\\site-packages (2.3.2)\n",
      "Requirement already satisfied: numpy>=1.26.0 in c:\\users\\monju\\appdata\\local\\packages\\pythonsoftwarefoundation.python.3.13_qbz5n2kfra8p0\\localcache\\local-packages\\python313\\site-packages (from pandas) (2.3.2)\n",
      "Requirement already satisfied: python-dateutil>=2.8.2 in c:\\users\\monju\\appdata\\local\\packages\\pythonsoftwarefoundation.python.3.13_qbz5n2kfra8p0\\localcache\\local-packages\\python313\\site-packages (from pandas) (2.9.0.post0)\n",
      "Requirement already satisfied: pytz>=2020.1 in c:\\users\\monju\\appdata\\local\\packages\\pythonsoftwarefoundation.python.3.13_qbz5n2kfra8p0\\localcache\\local-packages\\python313\\site-packages (from pandas) (2025.2)\n",
      "Requirement already satisfied: tzdata>=2022.7 in c:\\users\\monju\\appdata\\local\\packages\\pythonsoftwarefoundation.python.3.13_qbz5n2kfra8p0\\localcache\\local-packages\\python313\\site-packages (from pandas) (2025.2)\n",
      "Requirement already satisfied: six>=1.5 in c:\\users\\monju\\appdata\\local\\packages\\pythonsoftwarefoundation.python.3.13_qbz5n2kfra8p0\\localcache\\local-packages\\python313\\site-packages (from python-dateutil>=2.8.2->pandas) (1.17.0)\n",
      "Defaulting to user installation because normal site-packages is not writeable\n",
      "Requirement already satisfied: openpyxl in c:\\users\\monju\\appdata\\local\\packages\\pythonsoftwarefoundation.python.3.13_qbz5n2kfra8p0\\localcache\\local-packages\\python313\\site-packages (3.1.5)\n",
      "Requirement already satisfied: et-xmlfile in c:\\users\\monju\\appdata\\local\\packages\\pythonsoftwarefoundation.python.3.13_qbz5n2kfra8p0\\localcache\\local-packages\\python313\\site-packages (from openpyxl) (2.0.0)\n"
     ]
    }
   ],
   "source": [
    "!pip install pandas\n",
    "!pip install openpyxl"
   ]
  },
  {
   "cell_type": "code",
   "execution_count": 24,
   "id": "4f808e45",
   "metadata": {},
   "outputs": [],
   "source": [
    "import pandas as pd"
   ]
  },
  {
   "cell_type": "code",
   "execution_count": 25,
   "id": "d09444a8",
   "metadata": {},
   "outputs": [],
   "source": [
    "general_information = pd.read_excel('data/general_information_bkp.xlsx')\n",
    "type_and_level = pd.read_excel('data/type_and_level_bk.xlsx')\n",
    "geographical_facilities = pd.read_excel('data/geographical_facilities_bkp.xlsx')\n",
    "buildings_and_library = pd.read_excel('data/buildings_and_library.xlsx')\n",
    "buildings = pd.read_excel('data/buildings_bkp.xlsx')\n",
    "compliance1 = pd.read_excel('data/compliance_1_bkp.xlsx')\n",
    "compliance2 = pd.read_excel('data/compliance_2_bkp.xlsx')\n",
    "compliance3 = pd.read_excel('data/compliance_3_bkp.xlsx')\n",
    "compliance4 = pd.read_excel('data/compliance_4_bkp.xlsx')\n"
   ]
  },
  {
   "cell_type": "code",
   "execution_count": 35,
   "id": "e5206366",
   "metadata": {},
   "outputs": [],
   "source": [
    "TYPE_SCHOOL = 1\n",
    "TYPE_SCHOOL_AND_COLLEGE = 2\n",
    "TYPE_COLELGE = 3\n",
    "TYPE_MADRASHA = 4"
   ]
  },
  {
   "cell_type": "code",
   "execution_count": 36,
   "id": "bba91602",
   "metadata": {},
   "outputs": [],
   "source": [
    "pbgsi_institutes = compliance2[(compliance2['pbgsi_scheme']==1)]\n",
    "\n",
    "total_institutes = pbgsi_institutes.count()"
   ]
  },
  {
   "cell_type": "code",
   "execution_count": 37,
   "id": "4847d640",
   "metadata": {},
   "outputs": [],
   "source": [
    "general_information_pbgsi = pd.merge(general_information, pbgsi_institutes, on=\"eiin\", how=\"left\")"
   ]
  },
  {
   "cell_type": "code",
   "execution_count": 38,
   "id": "e1387d70",
   "metadata": {},
   "outputs": [],
   "source": [
    "type_and_level_secondary_school_secondary = type_and_level[type_and_level['institution_type']==TYPE_SCHOOL]"
   ]
  },
  {
   "cell_type": "code",
   "execution_count": 39,
   "id": "c8bd1d53",
   "metadata": {},
   "outputs": [],
   "source": [
    "general_information_pbgsi_secondary = pd.merge(general_information_pbgsi, type_and_level_secondary_school_secondary, on = \"eiin\", how=\"left\")"
   ]
  },
  {
   "cell_type": "code",
   "execution_count": 40,
   "id": "6b6dab6f",
   "metadata": {},
   "outputs": [],
   "source": [
    "total_secondary_school_pbgsi = general_information_pbgsi_secondary.count()"
   ]
  },
  {
   "cell_type": "code",
   "execution_count": 41,
   "id": "b258ba36",
   "metadata": {},
   "outputs": [],
   "source": [
    "type_and_level_secondary_school_and_college = type_and_level[(type_and_level['institution_type']==TYPE_SCHOOL_AND_COLLEGE) | type_and_level['institution_type']==TYPE_COLELGE  ]"
   ]
  },
  {
   "cell_type": "code",
   "execution_count": 42,
   "id": "6b57a034",
   "metadata": {},
   "outputs": [],
   "source": [
    "general_information_pbgsi_school_and_college = pd.merge(general_information_pbgsi, type_and_level_secondary_school_and_college, on='eiin', how='left')"
   ]
  },
  {
   "cell_type": "code",
   "execution_count": 43,
   "id": "14154157",
   "metadata": {},
   "outputs": [],
   "source": [
    "total_school_and_college = general_information_pbgsi_school_and_college.count()"
   ]
  },
  {
   "cell_type": "code",
   "execution_count": 45,
   "id": "f91fa45e",
   "metadata": {},
   "outputs": [],
   "source": [
    "type_and_level_madrasha = type_and_level[type_and_level['institution_type']==TYPE_MADRASHA]"
   ]
  },
  {
   "cell_type": "code",
   "execution_count": 46,
   "id": "8b2ea6a3",
   "metadata": {},
   "outputs": [],
   "source": [
    "general_information_pbgsi_madrasha = pd.merge(general_information_pbgsi, type_and_level_madrasha, on='eiin', how='left')"
   ]
  },
  {
   "cell_type": "code",
   "execution_count": 47,
   "id": "aeec1d2f",
   "metadata": {},
   "outputs": [],
   "source": [
    "total_madrasha = general_information_pbgsi_madrasha.count()"
   ]
  }
 ],
 "metadata": {
  "kernelspec": {
   "display_name": "Python 3",
   "language": "python",
   "name": "python3"
  },
  "language_info": {
   "codemirror_mode": {
    "name": "ipython",
    "version": 3
   },
   "file_extension": ".py",
   "mimetype": "text/x-python",
   "name": "python",
   "nbconvert_exporter": "python",
   "pygments_lexer": "ipython3",
   "version": "3.13.7"
  }
 },
 "nbformat": 4,
 "nbformat_minor": 5
}
