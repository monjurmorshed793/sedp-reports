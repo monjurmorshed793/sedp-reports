{
 "cells": [
  {
   "cell_type": "code",
   "execution_count": 1,
   "id": "a1f47374",
   "metadata": {},
   "outputs": [
    {
     "name": "stderr",
     "output_type": "stream",
     "text": [
      "Access is denied.\n",
      "Access is denied.\n"
     ]
    }
   ],
   "source": [
    "!pip install pandas\n",
    "!pip install openpyxl"
   ]
  },
  {
   "cell_type": "code",
   "execution_count": 2,
   "id": "4f808e45",
   "metadata": {},
   "outputs": [],
   "source": [
    "import pandas as pd"
   ]
  },
  {
   "cell_type": "code",
   "execution_count": 3,
   "id": "d09444a8",
   "metadata": {},
   "outputs": [],
   "source": [
    "general_information = pd.read_excel('data/general_information_bkp.xlsx')\n",
    "type_and_level = pd.read_excel('data/type_and_level_bk.xlsx')\n",
    "geographical_facilities = pd.read_excel('data/geographical_facilities_bkp.xlsx')\n",
    "buildings_and_library = pd.read_excel('data/buildings_and_library.xlsx')\n",
    "buildings = pd.read_excel('data/buildings_bkp.xlsx')\n",
    "compliance1 = pd.read_excel('data/compliance_1_bkp.xlsx')\n",
    "compliance2 = pd.read_excel('data/compliance_2_bkp.xlsx')\n",
    "compliance3 = pd.read_excel('data/compliance_3_bkp.xlsx')\n",
    "compliance4 = pd.read_excel('data/compliance_4_bkp.xlsx')\n"
   ]
  },
  {
   "cell_type": "code",
   "execution_count": 171,
   "id": "dd8ed01f",
   "metadata": {},
   "outputs": [],
   "source": [
    "general_information = general_information[general_information['submitted']==1]"
   ]
  },
  {
   "cell_type": "code",
   "execution_count": 196,
   "id": "e5206366",
   "metadata": {},
   "outputs": [],
   "source": [
    "TYPE_SCHOOL = 1\n",
    "TYPE_SCHOOL_AND_COLLEGE = 2\n",
    "TYPE_COLELGE = 3\n",
    "TYPE_MADRASHA = 4"
   ]
  },
  {
   "cell_type": "code",
   "execution_count": 216,
   "id": "617b4b8b",
   "metadata": {},
   "outputs": [],
   "source": [
    "from enum import Enum\n",
    "\n",
    "class InstitutionType(Enum):\n",
    "    SCHOOL = 1\n",
    "    SCHOOL_AND_COLLEGE = 2\n",
    "    MADRASHA = 3"
   ]
  },
  {
   "cell_type": "code",
   "execution_count": 217,
   "id": "d06f00ab",
   "metadata": {},
   "outputs": [],
   "source": [
    "from typing import Dict\n",
    "institute_type_map_total_institution: Dict[int, int] = {}\n",
    "institute_type_map_total_funded_institution: Dict[int, int] = {}\n",
    "institute_type_map_total_refunded_institution: Dict[int, int] = {}"
   ]
  },
  {
   "cell_type": "code",
   "execution_count": 218,
   "id": "da9b9fe1",
   "metadata": {},
   "outputs": [],
   "source": [
    "merged_eiin_institutes = pd.merge(general_information, type_and_level, on='eiin', how='inner')"
   ]
  },
  {
   "cell_type": "code",
   "execution_count": 246,
   "id": "462843bf",
   "metadata": {},
   "outputs": [],
   "source": [
    "df_total_schools = merged_eiin_institutes[merged_eiin_institutes['institution_type']==TYPE_SCHOOL]\n",
    "df_total_school_and_college= merged_eiin_institutes[merged_eiin_institutes['institution_type'].isin([TYPE_SCHOOL_AND_COLLEGE, TYPE_COLELGE])]\n",
    "df_total_madrasha = merged_eiin_institutes[merged_eiin_institutes['institution_type']== TYPE_MADRASHA]"
   ]
  },
  {
   "cell_type": "code",
   "execution_count": 247,
   "id": "57b491de",
   "metadata": {},
   "outputs": [],
   "source": [
    "institute_type_map_total_institution[InstitutionType.SCHOOL.value] = df_total_schools.shape[0]\n",
    "institute_type_map_total_institution[InstitutionType.SCHOOL_AND_COLLEGE.value] = df_total_school_and_college.shape[0]\n",
    "institute_type_map_total_institution[InstitutionType.MADRASHA.value] = df_total_madrasha.shape[0]"
   ]
  },
  {
   "cell_type": "code",
   "execution_count": 248,
   "id": "bba91602",
   "metadata": {},
   "outputs": [],
   "source": [
    "pbgsi_institutes = compliance2[(compliance2['pbgsi_scheme']==1)]\n",
    "\n",
    "total_pgbsi_institutes = pbgsi_institutes.shape[0]"
   ]
  },
  {
   "cell_type": "code",
   "execution_count": 249,
   "id": "4847d640",
   "metadata": {},
   "outputs": [],
   "source": [
    "merged_general_information_pgbsi = pd.merge(general_information, pbgsi_institutes, on=\"eiin\", how=\"inner\")"
   ]
  },
  {
   "cell_type": "code",
   "execution_count": 250,
   "id": "e1387d70",
   "metadata": {},
   "outputs": [],
   "source": [
    "df_type_and_level_secondary_school = type_and_level[type_and_level['institution_type']==TYPE_SCHOOL]"
   ]
  },
  {
   "cell_type": "code",
   "execution_count": 251,
   "id": "c8bd1d53",
   "metadata": {},
   "outputs": [],
   "source": [
    "merged_general_information_pgbsi_secondary = pd.merge(merged_general_information_pgbsi, df_type_and_level_secondary_school, on = \"eiin\", how=\"inner\")"
   ]
  },
  {
   "cell_type": "code",
   "execution_count": 252,
   "id": "6b6dab6f",
   "metadata": {},
   "outputs": [],
   "source": [
    "total_secondary_school_pbgsi = merged_general_information_pgbsi_secondary.shape[0]\n",
    "institute_type_map_total_funded_institution[InstitutionType.SCHOOL.value] = total_secondary_school_pbgsi"
   ]
  },
  {
   "cell_type": "code",
   "execution_count": 253,
   "id": "b258ba36",
   "metadata": {},
   "outputs": [],
   "source": [
    "df_type_and_level_secondary_school_and_college = type_and_level[type_and_level[\"institution_type\"].isin([TYPE_SCHOOL_AND_COLLEGE, TYPE_COLELGE]) ]"
   ]
  },
  {
   "cell_type": "code",
   "execution_count": 254,
   "id": "6b57a034",
   "metadata": {},
   "outputs": [],
   "source": [
    "merged_general_information_pgbsi_school_and_college = pd.merge(merged_general_information_pgbsi, df_type_and_level_secondary_school_and_college, on='eiin', how='inner')"
   ]
  },
  {
   "cell_type": "code",
   "execution_count": 255,
   "id": "14154157",
   "metadata": {},
   "outputs": [],
   "source": [
    "total_school_and_college = merged_general_information_pgbsi_school_and_college.shape[0]\n",
    "institute_type_map_total_funded_institution[InstitutionType.SCHOOL_AND_COLLEGE.value] = total_school_and_college"
   ]
  },
  {
   "cell_type": "code",
   "execution_count": 256,
   "id": "f91fa45e",
   "metadata": {},
   "outputs": [],
   "source": [
    "df_type_and_level_madrasha = type_and_level[type_and_level['institution_type']==TYPE_MADRASHA]"
   ]
  },
  {
   "cell_type": "code",
   "execution_count": 257,
   "id": "8b2ea6a3",
   "metadata": {},
   "outputs": [],
   "source": [
    "merged_general_information_pgbsi_madrasha = pd.merge(merged_general_information_pgbsi, df_type_and_level_madrasha, on='eiin', how='inner')"
   ]
  },
  {
   "cell_type": "code",
   "execution_count": 258,
   "id": "aeec1d2f",
   "metadata": {},
   "outputs": [],
   "source": [
    "total_madrasha = merged_general_information_pgbsi_madrasha.shape[0]\n",
    "institute_type_map_total_funded_institution[InstitutionType.MADRASHA.value] = total_madrasha"
   ]
  },
  {
   "cell_type": "code",
   "execution_count": 259,
   "id": "0ad26c0c",
   "metadata": {},
   "outputs": [],
   "source": [
    "import openpyxl\n",
    "from openpyxl.utils import get_column_letter,get_column_letter\n",
    "from openpyxl.styles import Alignment, Border, Side"
   ]
  },
  {
   "cell_type": "code",
   "execution_count": 260,
   "id": "efd55244",
   "metadata": {},
   "outputs": [
    {
     "name": "stdout",
     "output_type": "stream",
     "text": [
      "{1: 5565, 2: 618, 3: 2021}\n"
     ]
    }
   ],
   "source": [
    "print(institute_type_map_total_funded_institution)"
   ]
  },
  {
   "cell_type": "code",
   "execution_count": 261,
   "id": "fb37b8e8",
   "metadata": {},
   "outputs": [
    {
     "name": "stdout",
     "output_type": "stream",
     "text": [
      "institute type: SCHOOL\n",
      "institution type value: 1\n",
      "total funded count: 5565\n",
      "total institution count: 24733\n",
      "institute type: SCHOOL_AND_COLLEGE\n",
      "institution type value: 2\n",
      "total funded count: 618\n",
      "total institution count: 6086\n",
      "institute type: MADRASHA\n",
      "institution type value: 3\n",
      "total funded count: 2021\n",
      "total institution count: 11193\n"
     ]
    }
   ],
   "source": [
    "wb = openpyxl.Workbook()\n",
    "ws = wb.active\n",
    "\n",
    "ws['A1'] = 'Type of Institute'\n",
    "ws.merge_cells('A1:A2')\n",
    "\n",
    "ws ['B1'] = 'Received Grant'\n",
    "ws.merge_cells('B1:C1')\n",
    "\n",
    "ws['D1'] = 'Refunded Grant'\n",
    "ws.merge_cells('D1:E1')\n",
    "\n",
    "ws['B2'] = 'Number of Institute'\n",
    "ws['C2'] = 'Percentage (%)'\n",
    "\n",
    "ws['D2']= 'Number of Institute'\n",
    "ws['E2'] = 'Percentage (%)'\n",
    "\n",
    "row_num = 3\n",
    "\n",
    "for inst_type in InstitutionType:\n",
    "    institution_type_cell = \"A\"+str(row_num)\n",
    "    ws[institution_type_cell] = inst_type.name\n",
    "\n",
    "    print(\"institute type: \"+inst_type.name)\n",
    "    print(\"institution type value: \"+str(inst_type.value))\n",
    "\n",
    "    total_funded_institution_count = institute_type_map_total_funded_institution.get(inst_type.value, 0)\n",
    "    print(\"total funded count: \"+str(total_funded_institution_count))\n",
    "    total_funded_instititon_count_cell = \"B\"+str(row_num)\n",
    "    ws[total_funded_instititon_count_cell] = str(total_funded_institution_count)\n",
    "\n",
    "    total_institution_count = institute_type_map_total_institution.get(inst_type.value)\n",
    "    print(\"total institution count: \"+str(total_institution_count))\n",
    "    total_fund_percentage:float = 0.0 if total_funded_institution_count==0 else  total_funded_institution_count/total_institution_count\n",
    "    total_fund_percentage_cell = \"C\"+str(row_num)\n",
    "    ws[total_fund_percentage_cell] = str(total_fund_percentage)\n",
    "\n",
    "    row_num+=1\n",
    "\n",
    "center_alignment = Alignment(horizontal='center', vertical='center')\n",
    "thin_border = Border(\n",
    "    left=Side(style='thin'),\n",
    "    right=Side(style='thin'),\n",
    "    top=Side(style='thin'),\n",
    "    bottom=Side(style='thin')\n",
    ")\n",
    "\n",
    "for row in ws.iter_rows():\n",
    "    for cell in row:\n",
    "        cell.alignment = center_alignment\n",
    "        cell.border = thin_border\n",
    "\n",
    "for column_cells in ws.columns:\n",
    "    length = max(len(str(cell.value)) if cell.value is not None else 0 for cell in column_cells)\n",
    "    column_letter = get_column_letter(column_cells[0].column)\n",
    "    ws.column_dimensions[column_letter].width = length + 2  # Add some padding\n",
    "    \n",
    "wb.save('output/table_1_number_of_institutes_having_grand_and_refund.xlsx')"
   ]
  }
 ],
 "metadata": {
  "kernelspec": {
   "display_name": "base",
   "language": "python",
   "name": "python3"
  },
  "language_info": {
   "codemirror_mode": {
    "name": "ipython",
    "version": 3
   },
   "file_extension": ".py",
   "mimetype": "text/x-python",
   "name": "python",
   "nbconvert_exporter": "python",
   "pygments_lexer": "ipython3",
   "version": "3.13.5"
  }
 },
 "nbformat": 4,
 "nbformat_minor": 5
}
