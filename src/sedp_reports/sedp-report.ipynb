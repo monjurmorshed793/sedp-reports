{
 "cells": [
  {
   "cell_type": "code",
   "execution_count": 28,
   "id": "a1f47374",
   "metadata": {
    "ExecuteTime": {
     "end_time": "2025-09-15T09:36:23.983735Z",
     "start_time": "2025-09-15T09:36:21.389606Z"
    }
   },
   "outputs": [
    {
     "name": "stdout",
     "output_type": "stream",
     "text": [
      "Defaulting to user installation because normal site-packages is not writeable\n",
      "Requirement already satisfied: pandas in c:\\users\\monju\\appdata\\local\\packages\\pythonsoftwarefoundation.python.3.13_qbz5n2kfra8p0\\localcache\\local-packages\\python313\\site-packages (2.3.2)\n",
      "Requirement already satisfied: numpy>=1.26.0 in c:\\users\\monju\\appdata\\local\\packages\\pythonsoftwarefoundation.python.3.13_qbz5n2kfra8p0\\localcache\\local-packages\\python313\\site-packages (from pandas) (2.3.2)\n",
      "Requirement already satisfied: python-dateutil>=2.8.2 in c:\\users\\monju\\appdata\\local\\packages\\pythonsoftwarefoundation.python.3.13_qbz5n2kfra8p0\\localcache\\local-packages\\python313\\site-packages (from pandas) (2.9.0.post0)\n",
      "Requirement already satisfied: pytz>=2020.1 in c:\\users\\monju\\appdata\\local\\packages\\pythonsoftwarefoundation.python.3.13_qbz5n2kfra8p0\\localcache\\local-packages\\python313\\site-packages (from pandas) (2025.2)\n",
      "Requirement already satisfied: tzdata>=2022.7 in c:\\users\\monju\\appdata\\local\\packages\\pythonsoftwarefoundation.python.3.13_qbz5n2kfra8p0\\localcache\\local-packages\\python313\\site-packages (from pandas) (2025.2)\n",
      "Requirement already satisfied: six>=1.5 in c:\\users\\monju\\appdata\\local\\packages\\pythonsoftwarefoundation.python.3.13_qbz5n2kfra8p0\\localcache\\local-packages\\python313\\site-packages (from python-dateutil>=2.8.2->pandas) (1.17.0)\n",
      "Defaulting to user installation because normal site-packages is not writeable\n",
      "Requirement already satisfied: openpyxl in c:\\users\\monju\\appdata\\local\\packages\\pythonsoftwarefoundation.python.3.13_qbz5n2kfra8p0\\localcache\\local-packages\\python313\\site-packages (3.1.5)\n",
      "Requirement already satisfied: et-xmlfile in c:\\users\\monju\\appdata\\local\\packages\\pythonsoftwarefoundation.python.3.13_qbz5n2kfra8p0\\localcache\\local-packages\\python313\\site-packages (from openpyxl) (2.0.0)\n"
     ]
    }
   ],
   "source": [
    "!pip install pandas\n",
    "!pip install openpyxl"
   ]
  },
  {
   "cell_type": "code",
   "execution_count": 29,
   "id": "4f808e45",
   "metadata": {
    "ExecuteTime": {
     "end_time": "2025-09-15T09:36:24.004029Z",
     "start_time": "2025-09-15T09:36:23.999277Z"
    }
   },
   "outputs": [],
   "source": [
    "import pandas as pd"
   ]
  },
  {
   "cell_type": "code",
   "execution_count": 30,
   "id": "d09444a8",
   "metadata": {
    "ExecuteTime": {
     "end_time": "2025-09-15T09:36:25.852828Z",
     "start_time": "2025-09-15T09:36:24.014922Z"
    }
   },
   "outputs": [],
   "source": [
    "general_information = pd.read_csv('data/general_information_bkp.csv', low_memory=False)\n",
    "type_and_level = pd.read_csv('data/type_and_level_bk.csv', low_memory=False)\n",
    "geographical_facilities = pd.read_csv('data/geographical_facilities_bkp.csv', low_memory=False)\n",
    "buildings_and_library = pd.read_csv('data/buildings_and_library.csv', low_memory=False)\n",
    "compliance1 = pd.read_csv('data/compliance_1_bkp.csv', low_memory=False)\n",
    "compliance2 = pd.read_csv('data/compliance_2_bkp.csv', low_memory=False)\n",
    "compliance3 = pd.read_csv('data/compliance_3_bkp.csv', low_memory=False)\n",
    "compliance4 = pd.read_csv('data/compliance_4_bkp.csv', low_memory=False)\n",
    "divisions = pd.read_csv('data/divisions_bkp.csv', low_memory=False)\n",
    "districts = pd.read_csv('data/districts_bkp.csv', low_memory=False)\n",
    "thanas = pd.read_csv('data/thanas_bkp.csv', low_memory=False)\n",
    "pbgsi_institutions = pd.read_csv('data/pbgsi_7000_ins_bkp.csv', low_memory=False)\n",
    "institute_type = pd.read_csv('configs/institution_type.csv', low_memory=False)\n",
    "student_type = pd.read_csv('configs/student_types.csv', low_memory=False)\n",
    "divisions = pd.read_csv('data/divisions_bkp.csv', low_memory=False)\n",
    "districts = pd.read_csv('data/districts_bkp.csv', low_memory=False)\n",
    "thanas = pd.read_csv('data/thanas_bkp.csv', low_memory=False)\n",
    "approval_status = pd.read_csv('configs/approval_status.csv', low_memory=False)\n",
    "boards = pd.read_csv('configs/boards.csv', low_memory=False)\n",
    "boundary_types = pd.read_csv('configs/boundary_type.csv', low_memory=False)\n",
    "emis_submission_types = pd.read_csv('configs/emis_submission_types.csv', low_memory=False)\n",
    "fiscal_years = pd.read_csv('configs/fiscal_years.csv', low_memory=False)\n",
    "geographical_location_types = pd.read_csv('configs/geographical_locations_type.csv', low_memory=False)\n",
    "highest_levels = pd.read_csv('configs/higest_levels.csv',low_memory=False)\n",
    "management_type = pd.read_csv('configs/management_types.csv', low_memory=False)\n",
    "mpo_status = pd.read_csv('configs/mpo_status.csv', low_memory=False)\n",
    "ownership_types = pd.read_csv('configs/ownership_type.csv', low_memory=False)\n",
    "pass_rate_types = pd.read_csv('configs/pass_rate_type.csv', low_memory=False)\n",
    "sexual_harassment_committee_activity_type = pd.read_csv('configs/sexual_harassment_committee_activity_type.csv', low_memory=False)\n",
    "students_attendance_types = pd.read_csv('configs/students_attendance_type.csv', low_memory=False)\n",
    "teachers_attendance_types = pd.read_csv('configs/teachers_attendance_type.csv', low_memory=False)\n",
    "technical_types = pd.read_csv('configs/technical_type.csv', low_memory=False)\n",
    "ward_type = pd.read_csv('configs/ward_type.csv', low_memory=False)"
   ]
  },
  {
   "cell_type": "code",
   "execution_count": 31,
   "id": "dd8ed01f",
   "metadata": {
    "ExecuteTime": {
     "end_time": "2025-09-15T09:36:25.946968Z",
     "start_time": "2025-09-15T09:36:25.920Z"
    }
   },
   "outputs": [],
   "source": [
    "df_general_information_submitted = general_information[general_information['submitted']==1]"
   ]
  },
  {
   "cell_type": "code",
   "execution_count": 32,
   "id": "2231cd7fb238c7a7",
   "metadata": {
    "ExecuteTime": {
     "end_time": "2025-09-15T09:36:28.368210Z",
     "start_time": "2025-09-15T09:36:25.954422Z"
    }
   },
   "outputs": [],
   "source": [
    "df_merged = pd.merge(df_general_information_submitted, type_and_level, on='eiin', how='inner', suffixes=('', '_type_and_level'))\n",
    "general_info_institution_type_col_name = df_merged['institution_type'].name\n",
    "institution_type_name_col = institute_type['institute_type_id'].name\n",
    "df_merged = pd.merge(df_merged, institute_type, left_on=general_info_institution_type_col_name, right_on=institution_type_name_col, how='inner', suffixes=('', '_institution_type'))\n",
    "df_merged = pd.merge(df_merged, divisions, left_on='address_division',   right_on='division_id', how='inner', suffixes=('', '_divisions'))\n",
    "df_merged = pd.merge(df_merged, districts, left_on='address_district',   right_on='district_id', how='inner', suffixes=('', '_districts'))\n",
    "df_merged = pd.merge(df_merged, thanas, left_on='address_thana',   right_on='thana_id', how='inner', suffixes=('', '_thanas'))\n",
    "df_merged = pd.merge(df_merged, geographical_facilities, on='eiin', how='inner', suffixes=('', '_geographical_facilities'))\n",
    "df_merged = pd.merge(df_merged, buildings_and_library, on='eiin', how='inner', suffixes=('', '_buildings_and_library'))\n",
    "df_merged = pd.merge(df_merged, compliance1, on='eiin', how='inner', suffixes=('','_compliance1'))\n",
    "df_merged = pd.merge(df_merged, compliance2, on='eiin', how='inner', suffixes=('', '_compliance2'))\n",
    "df_merged = pd.merge(df_merged, compliance3, on='eiin', how='inner', suffixes=('', '_compliance3'))\n",
    "df_merged = pd.merge(df_merged, compliance4, on='eiin', how='inner', suffixes=('', '_compliance4'))\n",
    "df_merged = pd.merge(df_merged, student_type, left_on=df_merged.student_type.name, right_on=student_type.student_type_id, suffixes=('', '_student_type'))"
   ]
  },
  {
   "cell_type": "code",
   "execution_count": 33,
   "id": "985ef13a",
   "metadata": {},
   "outputs": [],
   "source": [
    "pbgsi_institutions['EIIN'] = pbgsi_institutions['EIIN'].astype(str)"
   ]
  },
  {
   "cell_type": "code",
   "execution_count": 34,
   "id": "12cbc075",
   "metadata": {
    "ExecuteTime": {
     "end_time": "2025-09-15T09:36:28.438766Z",
     "start_time": "2025-09-15T09:36:28.429569Z"
    }
   },
   "outputs": [],
   "source": [
    "INSTITUTION_TYPES_ORDER = ['SCHOOL', 'SCHOOL AND COLLEGE', 'MADRASHA']"
   ]
  },
  {
   "cell_type": "code",
   "execution_count": 35,
   "id": "28e98e57",
   "metadata": {
    "ExecuteTime": {
     "end_time": "2025-09-15T09:36:28.481744Z",
     "start_time": "2025-09-15T09:36:28.447904Z"
    }
   },
   "outputs": [],
   "source": [
    "df_merged['generalized_institution_type'] = df_merged['institute_type_name_en']"
   ]
  },
  {
   "cell_type": "code",
   "execution_count": 36,
   "id": "6b392792",
   "metadata": {
    "ExecuteTime": {
     "end_time": "2025-09-15T09:36:28.498114Z",
     "start_time": "2025-09-15T09:36:28.490315Z"
    }
   },
   "outputs": [],
   "source": [
    "df_merged['generalized_institution_type'] = df_merged['generalized_institution_type'].replace('COLLEGE', 'SCHOOL AND COLLEGE')"
   ]
  },
  {
   "attachments": {
    "8b6a922c-b82b-4c62-aed4-385c96fa218c.png": {
     "image/png": "[encoded data removed]"
    },
    "c5737ad1-285e-4d5c-882a-1958fcdced25.png": {
     "image/png": "[encoded data removed]"
    },
    "f464f125-61f4-4cae-8e62-966b6db00adb.png": {
     "image/png": "[encoded data removed]"
    }
   },
   "cell_type": "markdown",
   "id": "e218efa6f0cc6ca5",
   "metadata": {},
   "source": [
    "### Table 1: Number of Secondary Institutions Having Management Accountability Grant and refunded the grant by Type of institution"
   ]
  },
  {
   "cell_type": "code",
   "execution_count": 37,
   "id": "faec1370",
   "metadata": {
    "ExecuteTime": {
     "end_time": "2025-09-15T09:36:28.528760Z",
     "start_time": "2025-09-15T09:36:28.510536Z"
    }
   },
   "outputs": [
    {
     "data": {
      "application/vnd.microsoft.datawrangler.viewer.v0+json": {
       "columns": [
        {
         "name": "index",
         "rawType": "int64",
         "type": "integer"
        },
        {
         "name": "id",
         "rawType": "int64",
         "type": "integer"
        },
        {
         "name": "institution_name_bangla",
         "rawType": "object",
         "type": "string"
        },
        {
         "name": "institution_name_english",
         "rawType": "object",
         "type": "string"
        },
        {
         "name": "address_village_holding",
         "rawType": "object",
         "type": "string"
        },
        {
         "name": "address_road",
         "rawType": "object",
         "type": "string"
        },
        {
         "name": "address_post_office",
         "rawType": "object",
         "type": "string"
        },
        {
         "name": "address_post_code",
         "rawType": "object",
         "type": "string"
        },
        {
         "name": "[union]",
         "rawType": "float64",
         "type": "float"
        },
        {
         "name": "address_ward",
         "rawType": "float64",
         "type": "float"
        },
        {
         "name": "address_thana",
         "rawType": "float64",
         "type": "float"
        },
        {
         "name": "address_district",
         "rawType": "float64",
         "type": "float"
        },
        {
         "name": "address_division",
         "rawType": "float64",
         "type": "float"
        },
        {
         "name": "mobile_number",
         "rawType": "object",
         "type": "string"
        },
        {
         "name": "picture",
         "rawType": "object",
         "type": "string"
        },
        {
         "name": "latitude",
         "rawType": "float64",
         "type": "float"
        },
        {
         "name": "longitude",
         "rawType": "float64",
         "type": "float"
        },
        {
         "name": "ownership_type",
         "rawType": "object",
         "type": "string"
        },
        {
         "name": "is_owned_land",
         "rawType": "object",
         "type": "unknown"
        },
        {
         "name": "has_deed",
         "rawType": "object",
         "type": "unknown"
        },
        {
         "name": "has_mutation",
         "rawType": "object",
         "type": "unknown"
        },
        {
         "name": "pays_taxes",
         "rawType": "object",
         "type": "unknown"
        },
        {
         "name": "academic_activities_running",
         "rawType": "object",
         "type": "unknown"
        },
        {
         "name": "eiin_yes_no",
         "rawType": "float64",
         "type": "float"
        },
        {
         "name": "eiin",
         "rawType": "object",
         "type": "string"
        },
        {
         "name": "non_eiin_id",
         "rawType": "float64",
         "type": "float"
        },
        {
         "name": "horizontal_accuracy",
         "rawType": "float64",
         "type": "float"
        },
        {
         "name": "vertical_accuracy",
         "rawType": "float64",
         "type": "float"
        },
        {
         "name": "position_time",
         "rawType": "float64",
         "type": "float"
        },
        {
         "name": "inst_category",
         "rawType": "int64",
         "type": "integer"
        },
        {
         "name": "establishment_date",
         "rawType": "object",
         "type": "string"
        },
        {
         "name": "union_ward",
         "rawType": "object",
         "type": "unknown"
        },
        {
         "name": "municipility",
         "rawType": "object",
         "type": "unknown"
        },
        {
         "name": "municipility_ward",
         "rawType": "float64",
         "type": "float"
        },
        {
         "name": "union",
         "rawType": "object",
         "type": "unknown"
        },
        {
         "name": "city_corporation",
         "rawType": "object",
         "type": "unknown"
        },
        {
         "name": "city_corporation_ward",
         "rawType": "float64",
         "type": "float"
        },
        {
         "name": "ward_type",
         "rawType": "object",
         "type": "unknown"
        },
        {
         "name": "total_land_area",
         "rawType": "float64",
         "type": "float"
        },
        {
         "name": "submitted",
         "rawType": "object",
         "type": "unknown"
        },
        {
         "name": "submitted_by",
         "rawType": "float64",
         "type": "float"
        },
        {
         "name": "forwarded_by_useo",
         "rawType": "float64",
         "type": "float"
        },
        {
         "name": "forwarded_by_deo",
         "rawType": "float64",
         "type": "float"
        },
        {
         "name": "active_status",
         "rawType": "float64",
         "type": "float"
        },
        {
         "name": "active_status_comment",
         "rawType": "object",
         "type": "unknown"
        },
        {
         "name": "stopped",
         "rawType": "float64",
         "type": "float"
        },
        {
         "name": "db_source",
         "rawType": "object",
         "type": "string"
        },
        {
         "name": "submitted_at",
         "rawType": "object",
         "type": "string"
        },
        {
         "name": "submitted_app_version",
         "rawType": "object",
         "type": "string"
        },
        {
         "name": "comments",
         "rawType": "object",
         "type": "unknown"
        },
        {
         "name": "forward_back_deo_msg",
         "rawType": "object",
         "type": "unknown"
        },
        {
         "name": "forward_back_useo_msg",
         "rawType": "object",
         "type": "unknown"
        },
        {
         "name": "id_type_and_level",
         "rawType": "int64",
         "type": "integer"
        },
        {
         "name": "institution_type",
         "rawType": "int64",
         "type": "integer"
        },
        {
         "name": "maximum_level",
         "rawType": "float64",
         "type": "float"
        },
        {
         "name": "student_type",
         "rawType": "float64",
         "type": "float"
        },
        {
         "name": "approval_status",
         "rawType": "float64",
         "type": "float"
        },
        {
         "name": "management_type",
         "rawType": "float64",
         "type": "float"
        },
        {
         "name": "mpo_status",
         "rawType": "float64",
         "type": "float"
        },
        {
         "name": "has_technical_attachment",
         "rawType": "object",
         "type": "unknown"
        },
        {
         "name": "technical_type",
         "rawType": "float64",
         "type": "float"
        },
        {
         "name": "teaching_medium_bangla",
         "rawType": "object",
         "type": "unknown"
        },
        {
         "name": "teaching_medium_english",
         "rawType": "object",
         "type": "unknown"
        },
        {
         "name": "teaching_medium_english_version",
         "rawType": "object",
         "type": "unknown"
        },
        {
         "name": "teaching_medium_arabic",
         "rawType": "object",
         "type": "unknown"
        },
        {
         "name": "shifts_operated",
         "rawType": "float64",
         "type": "float"
        },
        {
         "name": "has_build_approval",
         "rawType": "object",
         "type": "unknown"
        },
        {
         "name": "has_teaching_approval",
         "rawType": "object",
         "type": "unknown"
        },
        {
         "name": "has_full_approval",
         "rawType": "object",
         "type": "unknown"
        },
        {
         "name": "has_no_approval",
         "rawType": "object",
         "type": "unknown"
        },
        {
         "name": "institute_type_id",
         "rawType": "int64",
         "type": "integer"
        },
        {
         "name": "institute_type_name",
         "rawType": "object",
         "type": "string"
        },
        {
         "name": "institute_type_name_en",
         "rawType": "object",
         "type": "string"
        },
        {
         "name": "division_id",
         "rawType": "int64",
         "type": "integer"
        },
        {
         "name": "division_id_legacy",
         "rawType": "float64",
         "type": "float"
        },
        {
         "name": "division_name",
         "rawType": "object",
         "type": "string"
        },
        {
         "name": "division_name_bn",
         "rawType": "object",
         "type": "string"
        },
        {
         "name": "division_code",
         "rawType": "int64",
         "type": "integer"
        },
        {
         "name": "district_id",
         "rawType": "int64",
         "type": "integer"
        },
        {
         "name": "district_id_legacy",
         "rawType": "float64",
         "type": "float"
        },
        {
         "name": "district_name",
         "rawType": "object",
         "type": "string"
        },
        {
         "name": "district_name_bn",
         "rawType": "object",
         "type": "string"
        },
        {
         "name": "division_id_districts",
         "rawType": "int64",
         "type": "integer"
        },
        {
         "name": "district_code",
         "rawType": "float64",
         "type": "float"
        },
        {
         "name": "thana_id",
         "rawType": "int64",
         "type": "integer"
        },
        {
         "name": "thana_code",
         "rawType": "float64",
         "type": "float"
        },
        {
         "name": "thana_id_legacy",
         "rawType": "float64",
         "type": "float"
        },
        {
         "name": "thana_name",
         "rawType": "object",
         "type": "string"
        },
        {
         "name": "thana_name_bn",
         "rawType": "object",
         "type": "string"
        },
        {
         "name": "district_id_thanas",
         "rawType": "int64",
         "type": "integer"
        },
        {
         "name": "city_corp",
         "rawType": "object",
         "type": "unknown"
        },
        {
         "name": "id_geographical_facilities",
         "rawType": "int64",
         "type": "integer"
        },
        {
         "name": "geographical_position",
         "rawType": "float64",
         "type": "float"
        },
        {
         "name": "has_student_toilet",
         "rawType": "object",
         "type": "unknown"
        },
        {
         "name": "total_toilet_for_boys",
         "rawType": "float64",
         "type": "float"
        },
        {
         "name": "total_toilet_for_girls",
         "rawType": "float64",
         "type": "float"
        },
        {
         "name": "total_toilet_for_special_needs",
         "rawType": "float64",
         "type": "float"
        },
        {
         "name": "has_teacher_toilet",
         "rawType": "object",
         "type": "unknown"
        },
        {
         "name": "total_toilet_for_male_teachers",
         "rawType": "float64",
         "type": "float"
        },
        {
         "name": "total_toilet_for_female_teachers",
         "rawType": "float64",
         "type": "float"
        },
        {
         "name": "total_toilet_for_commons",
         "rawType": "float64",
         "type": "float"
        },
        {
         "name": "has_wash_block",
         "rawType": "object",
         "type": "unknown"
        },
        {
         "name": "total_wash_block_for_boys",
         "rawType": "float64",
         "type": "float"
        },
        {
         "name": "total_wash_block_for_girls",
         "rawType": "float64",
         "type": "float"
        },
        {
         "name": "total_wash_block_for_girls_with_napkin_facility",
         "rawType": "float64",
         "type": "float"
        },
        {
         "name": "total_wash_block_for_male_teachers",
         "rawType": "float64",
         "type": "float"
        },
        {
         "name": "total_wash_block_for_female_teachers",
         "rawType": "float64",
         "type": "float"
        },
        {
         "name": "total_wash_block_for_commons",
         "rawType": "float64",
         "type": "float"
        },
        {
         "name": "has_common_room",
         "rawType": "object",
         "type": "unknown"
        },
        {
         "name": "total_common_room_for_boys",
         "rawType": "float64",
         "type": "float"
        },
        {
         "name": "total_common_room_for_girls",
         "rawType": "float64",
         "type": "float"
        },
        {
         "name": "has_pta",
         "rawType": "object",
         "type": "unknown"
        },
        {
         "name": "has_fast_aid_box",
         "rawType": "object",
         "type": "unknown"
        },
        {
         "name": "conducts_cleaning_program",
         "rawType": "object",
         "type": "unknown"
        },
        {
         "name": "cleaning_program_number",
         "rawType": "float64",
         "type": "float"
        },
        {
         "name": "has_playground",
         "rawType": "object",
         "type": "unknown"
        },
        {
         "name": "conducts_assembly",
         "rawType": "object",
         "type": "unknown"
        },
        {
         "name": "celebrates_national_days",
         "rawType": "object",
         "type": "unknown"
        },
        {
         "name": "has_shahid_minar",
         "rawType": "object",
         "type": "unknown"
        },
        {
         "name": "conducts_co_curricular_activities",
         "rawType": "object",
         "type": "unknown"
        },
        {
         "name": "annual_cultural_program",
         "rawType": "object",
         "type": "unknown"
        },
        {
         "name": "bncc",
         "rawType": "object",
         "type": "unknown"
        },
        {
         "name": "scout",
         "rawType": "object",
         "type": "unknown"
        },
        {
         "name": "girls_guide",
         "rawType": "object",
         "type": "unknown"
        },
        {
         "name": "rover",
         "rawType": "object",
         "type": "unknown"
        },
        {
         "name": "annual_sports",
         "rawType": "object",
         "type": "unknown"
        },
        {
         "name": "debate",
         "rawType": "object",
         "type": "unknown"
        },
        {
         "name": "conducts_awareness_programs",
         "rawType": "object",
         "type": "unknown"
        },
        {
         "name": "baalyabibaha_rodh",
         "rawType": "object",
         "type": "unknown"
        },
        {
         "name": "evtijing_protirodh",
         "rawType": "object",
         "type": "unknown"
        },
        {
         "name": "madok_birodhi_karyakram",
         "rawType": "object",
         "type": "unknown"
        },
        {
         "name": "sontrash_birodhi_karyakram",
         "rawType": "object",
         "type": "unknown"
        },
        {
         "name": "jangibad_domon_karyakram",
         "rawType": "object",
         "type": "unknown"
        },
        {
         "name": "nirapod_shorok_chai_karyakram",
         "rawType": "object",
         "type": "unknown"
        },
        {
         "name": "community_interaction",
         "rawType": "object",
         "type": "unknown"
        },
        {
         "name": "acid_nikkhep_protirudh",
         "rawType": "object",
         "type": "unknown"
        },
        {
         "name": "booling_protirudh",
         "rawType": "object",
         "type": "unknown"
        },
        {
         "name": "has_boundary_wall",
         "rawType": "object",
         "type": "unknown"
        },
        {
         "name": "boundary_type",
         "rawType": "float64",
         "type": "float"
        },
        {
         "name": "has_safe_water",
         "rawType": "object",
         "type": "unknown"
        },
        {
         "name": "tubewell",
         "rawType": "object",
         "type": "unknown"
        },
        {
         "name": "deep_tubewell",
         "rawType": "object",
         "type": "unknown"
        },
        {
         "name": "supply_water",
         "rawType": "object",
         "type": "unknown"
        },
        {
         "name": "tap_water",
         "rawType": "object",
         "type": "unknown"
        },
        {
         "name": "rain_water",
         "rawType": "object",
         "type": "unknown"
        },
        {
         "name": "purifying_plant",
         "rawType": "object",
         "type": "unknown"
        },
        {
         "name": "fountain",
         "rawType": "object",
         "type": "unknown"
        },
        {
         "name": "well",
         "rawType": "object",
         "type": "unknown"
        },
        {
         "name": "has_ramp_for_disabled",
         "rawType": "object",
         "type": "unknown"
        },
        {
         "name": "sports_field",
         "rawType": "object",
         "type": "unknown"
        },
        {
         "name": "garden",
         "rawType": "object",
         "type": "unknown"
        },
        {
         "name": "open_space",
         "rawType": "object",
         "type": "unknown"
        },
        {
         "name": "enclosed_with_plants",
         "rawType": "object",
         "type": "unknown"
        },
        {
         "name": "few_plants",
         "rawType": "object",
         "type": "unknown"
        },
        {
         "name": "no_plants",
         "rawType": "object",
         "type": "unknown"
        },
        {
         "name": "pond_or_waterbody",
         "rawType": "object",
         "type": "unknown"
        },
        {
         "name": "has_electricity",
         "rawType": "object",
         "type": "unknown"
        },
        {
         "name": "national_grid",
         "rawType": "object",
         "type": "unknown"
        },
        {
         "name": "generator",
         "rawType": "object",
         "type": "unknown"
        },
        {
         "name": "solar",
         "rawType": "object",
         "type": "unknown"
        },
        {
         "name": "has_boundary_marked_wall",
         "rawType": "object",
         "type": "unknown"
        },
        {
         "name": "has_pond",
         "rawType": "object",
         "type": "unknown"
        },
        {
         "name": "has_temporary_wall",
         "rawType": "object",
         "type": "unknown"
        },
        {
         "name": "has_permanent_wall",
         "rawType": "object",
         "type": "unknown"
        },
        {
         "name": "has_partial_wall",
         "rawType": "object",
         "type": "unknown"
        },
        {
         "name": "has_natural_wall",
         "rawType": "object",
         "type": "unknown"
        },
        {
         "name": "was_flooded",
         "rawType": "object",
         "type": "unknown"
        },
        {
         "name": "flooded_year",
         "rawType": "float64",
         "type": "float"
        },
        {
         "name": "days_closed_for_flood",
         "rawType": "float64",
         "type": "float"
        },
        {
         "name": "id_buildings_and_library",
         "rawType": "int64",
         "type": "integer"
        },
        {
         "name": "new_building_space_available",
         "rawType": "object",
         "type": "unknown"
        },
        {
         "name": "new_building_space_amount",
         "rawType": "float64",
         "type": "float"
        },
        {
         "name": "normal_class_room_count",
         "rawType": "float64",
         "type": "float"
        },
        {
         "name": "multimedia_auditorium_room_count",
         "rawType": "float64",
         "type": "float"
        },
        {
         "name": "multimedia_class_room_count",
         "rawType": "float64",
         "type": "float"
        },
        {
         "name": "multimedia_interactive_class_room_count",
         "rawType": "float64",
         "type": "float"
        },
        {
         "name": "headmaster_room_count",
         "rawType": "float64",
         "type": "float"
        },
        {
         "name": "office_room_count",
         "rawType": "float64",
         "type": "float"
        },
        {
         "name": "science_lab_count",
         "rawType": "float64",
         "type": "float"
        },
        {
         "name": "boys_common_room_count",
         "rawType": "float64",
         "type": "float"
        },
        {
         "name": "girls_common_room_count",
         "rawType": "float64",
         "type": "float"
        },
        {
         "name": "teacher_common_room_count",
         "rawType": "float64",
         "type": "float"
        },
        {
         "name": "hostel_count",
         "rawType": "float64",
         "type": "float"
        },
        {
         "name": "auditorium_count",
         "rawType": "float64",
         "type": "float"
        },
        {
         "name": "educational_materials_room_count",
         "rawType": "float64",
         "type": "float"
        },
        {
         "name": "smart_board_tv_room_count",
         "rawType": "float64",
         "type": "float"
        },
        {
         "name": "ict_lab_count",
         "rawType": "float64",
         "type": "float"
        },
        {
         "name": "library_present",
         "rawType": "object",
         "type": "unknown"
        },
        {
         "name": "book_count",
         "rawType": "float64",
         "type": "float"
        },
        {
         "name": "has_assistant_librarian",
         "rawType": "object",
         "type": "unknown"
        },
        {
         "name": "has_assistant_library_related_teacher",
         "rawType": "object",
         "type": "unknown"
        },
        {
         "name": "has_ict_lab",
         "rawType": "object",
         "type": "unknown"
        },
        {
         "name": "working_desktop_count",
         "rawType": "float64",
         "type": "float"
        },
        {
         "name": "working_laptop_count",
         "rawType": "float64",
         "type": "float"
        },
        {
         "name": "non_lab_desktop_count",
         "rawType": "float64",
         "type": "float"
        },
        {
         "name": "non_lab_laptop_count",
         "rawType": "float64",
         "type": "float"
        },
        {
         "name": "has_ict_teacher",
         "rawType": "object",
         "type": "unknown"
        },
        {
         "name": "ict_teacher_count",
         "rawType": "float64",
         "type": "float"
        },
        {
         "name": "has_ict_capable_teacher",
         "rawType": "object",
         "type": "unknown"
        },
        {
         "name": "internet_used_for_teaching",
         "rawType": "object",
         "type": "unknown"
        },
        {
         "name": "is_exam_center",
         "rawType": "object",
         "type": "unknown"
        },
        {
         "name": "public_exam_center",
         "rawType": "object",
         "type": "string"
        },
        {
         "name": "is_registered_in_other_institute",
         "rawType": "object",
         "type": "unknown"
        },
        {
         "name": "total_registered_in_other_institute",
         "rawType": "float64",
         "type": "float"
        },
        {
         "name": "has_internet",
         "rawType": "object",
         "type": "unknown"
        },
        {
         "name": "broadband",
         "rawType": "object",
         "type": "unknown"
        },
        {
         "name": "wifi",
         "rawType": "object",
         "type": "unknown"
        },
        {
         "name": "modem",
         "rawType": "object",
         "type": "unknown"
        },
        {
         "name": "mobile_hot_spot",
         "rawType": "object",
         "type": "unknown"
        },
        {
         "name": "total_building_number",
         "rawType": "float64",
         "type": "float"
        },
        {
         "name": "id_compliance1",
         "rawType": "int64",
         "type": "integer"
        },
        {
         "name": "teachers_count_total",
         "rawType": "float64",
         "type": "float"
        },
        {
         "name": "teachers_count_female",
         "rawType": "float64",
         "type": "float"
        },
        {
         "name": "staff_count_total",
         "rawType": "float64",
         "type": "float"
        },
        {
         "name": "staff_count_female",
         "rawType": "float64",
         "type": "float"
        },
        {
         "name": "trained_teachers",
         "rawType": "float64",
         "type": "float"
        },
        {
         "name": "total_students",
         "rawType": "float64",
         "type": "float"
        },
        {
         "name": "total_female_students",
         "rawType": "float64",
         "type": "float"
        },
        {
         "name": "has_six_grade",
         "rawType": "object",
         "type": "unknown"
        },
        {
         "name": "total_seats_six",
         "rawType": "float64",
         "type": "float"
        },
        {
         "name": "total_students_six",
         "rawType": "float64",
         "type": "float"
        },
        {
         "name": "female_students_six",
         "rawType": "float64",
         "type": "float"
        },
        {
         "name": "has_seven_grade",
         "rawType": "object",
         "type": "unknown"
        },
        {
         "name": "total_seats_seven",
         "rawType": "float64",
         "type": "float"
        },
        {
         "name": "total_students_seven",
         "rawType": "float64",
         "type": "float"
        },
        {
         "name": "female_students_seven",
         "rawType": "float64",
         "type": "float"
        },
        {
         "name": "has_eight_grade",
         "rawType": "object",
         "type": "unknown"
        },
        {
         "name": "total_seats_eight",
         "rawType": "float64",
         "type": "float"
        },
        {
         "name": "total_students_eight",
         "rawType": "float64",
         "type": "float"
        },
        {
         "name": "female_students_eight",
         "rawType": "float64",
         "type": "float"
        },
        {
         "name": "has_nine_grade",
         "rawType": "object",
         "type": "unknown"
        },
        {
         "name": "total_seats_nine",
         "rawType": "float64",
         "type": "float"
        },
        {
         "name": "total_students_nine",
         "rawType": "float64",
         "type": "float"
        },
        {
         "name": "female_students_nine",
         "rawType": "float64",
         "type": "float"
        },
        {
         "name": "has_ten_grade",
         "rawType": "object",
         "type": "unknown"
        },
        {
         "name": "total_seats_ten",
         "rawType": "float64",
         "type": "float"
        },
        {
         "name": "total_students_ten",
         "rawType": "float64",
         "type": "float"
        },
        {
         "name": "female_students_ten",
         "rawType": "float64",
         "type": "float"
        },
        {
         "name": "has_eleven_grade",
         "rawType": "object",
         "type": "unknown"
        },
        {
         "name": "total_seats_eleven",
         "rawType": "float64",
         "type": "float"
        },
        {
         "name": "total_students_eleven",
         "rawType": "float64",
         "type": "float"
        },
        {
         "name": "female_students_eleven",
         "rawType": "float64",
         "type": "float"
        },
        {
         "name": "has_twelve_grade",
         "rawType": "object",
         "type": "unknown"
        },
        {
         "name": "total_seats_twelve",
         "rawType": "float64",
         "type": "float"
        },
        {
         "name": "total_students_twelve",
         "rawType": "float64",
         "type": "float"
        },
        {
         "name": "female_students_twelve",
         "rawType": "float64",
         "type": "float"
        },
        {
         "name": "technical_teacher_count_total",
         "rawType": "float64",
         "type": "float"
        },
        {
         "name": "technical_teacher_count_female",
         "rawType": "float64",
         "type": "float"
        },
        {
         "name": "technical_staff_count_total",
         "rawType": "float64",
         "type": "float"
        },
        {
         "name": "technical_staff_count_female",
         "rawType": "float64",
         "type": "float"
        },
        {
         "name": "technical_trained_teachers",
         "rawType": "float64",
         "type": "float"
        },
        {
         "name": "technical_ict_teachers",
         "rawType": "float64",
         "type": "float"
        },
        {
         "name": "technical_total_male_students",
         "rawType": "float64",
         "type": "float"
        },
        {
         "name": "technical_total_female_students",
         "rawType": "float64",
         "type": "float"
        },
        {
         "name": "technical_total_seats",
         "rawType": "float64",
         "type": "float"
        },
        {
         "name": "technical_total_students",
         "rawType": "float64",
         "type": "float"
        },
        {
         "name": "total_seats_part_1",
         "rawType": "float64",
         "type": "float"
        },
        {
         "name": "total_students_part_1",
         "rawType": "float64",
         "type": "float"
        },
        {
         "name": "female_students_part1",
         "rawType": "float64",
         "type": "float"
        },
        {
         "name": "total_seats_part_2",
         "rawType": "float64",
         "type": "float"
        },
        {
         "name": "total_students_part_2",
         "rawType": "float64",
         "type": "float"
        },
        {
         "name": "female_students_part2",
         "rawType": "float64",
         "type": "float"
        },
        {
         "name": "total_seats_part_3",
         "rawType": "float64",
         "type": "float"
        },
        {
         "name": "total_students_part_3",
         "rawType": "float64",
         "type": "float"
        },
        {
         "name": "female_students_part3",
         "rawType": "float64",
         "type": "float"
        },
        {
         "name": "total_seats_part_4",
         "rawType": "float64",
         "type": "float"
        },
        {
         "name": "total_students_part_4",
         "rawType": "float64",
         "type": "float"
        },
        {
         "name": "female_students_part4",
         "rawType": "float64",
         "type": "float"
        },
        {
         "name": "total_seats_part_5",
         "rawType": "float64",
         "type": "float"
        },
        {
         "name": "total_students_part_5",
         "rawType": "float64",
         "type": "float"
        },
        {
         "name": "female_students_part5",
         "rawType": "float64",
         "type": "float"
        },
        {
         "name": "total_seats_part_6",
         "rawType": "float64",
         "type": "float"
        },
        {
         "name": "total_students_part_6",
         "rawType": "float64",
         "type": "float"
        },
        {
         "name": "female_students_part6",
         "rawType": "float64",
         "type": "float"
        },
        {
         "name": "total_seats_part_7",
         "rawType": "float64",
         "type": "float"
        },
        {
         "name": "total_students_part_7",
         "rawType": "float64",
         "type": "float"
        },
        {
         "name": "female_students_part7",
         "rawType": "float64",
         "type": "float"
        },
        {
         "name": "total_seats_part_8",
         "rawType": "float64",
         "type": "float"
        },
        {
         "name": "total_students_part_8",
         "rawType": "float64",
         "type": "float"
        },
        {
         "name": "female_students_part8",
         "rawType": "float64",
         "type": "float"
        },
        {
         "name": "female_students_part_1",
         "rawType": "float64",
         "type": "float"
        },
        {
         "name": "female_students_part_2",
         "rawType": "float64",
         "type": "float"
        },
        {
         "name": "female_students_part_3",
         "rawType": "float64",
         "type": "float"
        },
        {
         "name": "female_students_part_4",
         "rawType": "float64",
         "type": "float"
        },
        {
         "name": "female_students_part_5",
         "rawType": "float64",
         "type": "float"
        },
        {
         "name": "female_students_part_6",
         "rawType": "float64",
         "type": "float"
        },
        {
         "name": "female_students_part_7",
         "rawType": "float64",
         "type": "float"
        },
        {
         "name": "female_students_part_8",
         "rawType": "float64",
         "type": "float"
        },
        {
         "name": "id_compliance2",
         "rawType": "int64",
         "type": "integer"
        },
        {
         "name": "pbgsi_scheme",
         "rawType": "bool",
         "type": "boolean"
        },
        {
         "name": "pbsci_fiscal_year",
         "rawType": "object",
         "type": "unknown"
        },
        {
         "name": "functional_smc_mmc_gb",
         "rawType": "object",
         "type": "unknown"
        },
        {
         "name": "meetings_2022",
         "rawType": "float64",
         "type": "float"
        },
        {
         "name": "meetings_2023",
         "rawType": "float64",
         "type": "float"
        },
        {
         "name": "annual_budget_approved",
         "rawType": "object",
         "type": "unknown"
        },
        {
         "name": "public_participation",
         "rawType": "object",
         "type": "unknown"
        },
        {
         "name": "academic_initiatives",
         "rawType": "object",
         "type": "unknown"
        },
        {
         "name": "responsibilities_completed",
         "rawType": "object",
         "type": "unknown"
        },
        {
         "name": "functional_pta",
         "rawType": "object",
         "type": "unknown"
        },
        {
         "name": "pta_meetings_2022",
         "rawType": "float64",
         "type": "float"
        },
        {
         "name": "pta_meetings_2023",
         "rawType": "float64",
         "type": "float"
        },
        {
         "name": "pta_public_participation",
         "rawType": "object",
         "type": "unknown"
        },
        {
         "name": "cleanliness_involvement",
         "rawType": "object",
         "type": "unknown"
        },
        {
         "name": "smag_mmag_gb_discussion",
         "rawType": "object",
         "type": "unknown"
        },
        {
         "name": "smag_mmag_gb_resolution",
         "rawType": "object",
         "type": "unknown"
        },
        {
         "name": "sexual_harassment_committee",
         "rawType": "object",
         "type": "unknown"
        },
        {
         "name": "committee_regular_work",
         "rawType": "object",
         "type": "unknown"
        },
        {
         "name": "annual_social_audit",
         "rawType": "float64",
         "type": "float"
        },
        {
         "name": "audit_observations_displayed",
         "rawType": "object",
         "type": "unknown"
        },
        {
         "name": "eims_submission_timely",
         "rawType": "object",
         "type": "unknown"
        },
        {
         "name": "board",
         "rawType": "object",
         "type": "unknown"
        },
        {
         "name": "ssc_2021_total_students",
         "rawType": "float64",
         "type": "float"
        },
        {
         "name": "ssc_2021_passed_students",
         "rawType": "float64",
         "type": "float"
        },
        {
         "name": "ssc_board_2021_pass_rate",
         "rawType": "float64",
         "type": "float"
        },
        {
         "name": "ssc_2022_total_students",
         "rawType": "float64",
         "type": "float"
        },
        {
         "name": "ssc_2022_passed_students",
         "rawType": "float64",
         "type": "float"
        },
        {
         "name": "ssc_board_2022_pass_rate",
         "rawType": "float64",
         "type": "float"
        },
        {
         "name": "hsc_2021_total_students",
         "rawType": "float64",
         "type": "float"
        },
        {
         "name": "hsc_2021_passed_students",
         "rawType": "float64",
         "type": "float"
        },
        {
         "name": "hsc_board_2021_pass_rate",
         "rawType": "float64",
         "type": "float"
        },
        {
         "name": "hsc_2022_total_students",
         "rawType": "float64",
         "type": "float"
        },
        {
         "name": "hsc_2022_passed_students",
         "rawType": "float64",
         "type": "float"
        },
        {
         "name": "hsc_board_2022_pass_rate",
         "rawType": "float64",
         "type": "float"
        },
        {
         "name": "pass_rate",
         "rawType": "float64",
         "type": "float"
        },
        {
         "name": "students_attendance_2022",
         "rawType": "float64",
         "type": "float"
        },
        {
         "name": "teachers_attendance_2022",
         "rawType": "float64",
         "type": "float"
        },
        {
         "name": "report_card_regularly_stored",
         "rawType": "object",
         "type": "unknown"
        },
        {
         "name": "report_card_displayed",
         "rawType": "object",
         "type": "unknown"
        },
        {
         "name": "report_card_not_regularly_stored",
         "rawType": "object",
         "type": "unknown"
        },
        {
         "name": "separate_washrooms",
         "rawType": "object",
         "type": "unknown"
        },
        {
         "name": "common_room",
         "rawType": "object",
         "type": "unknown"
        },
        {
         "name": "first_aid",
         "rawType": "object",
         "type": "unknown"
        },
        {
         "name": "no_adequate_facilities_washroom",
         "rawType": "object",
         "type": "unknown"
        },
        {
         "name": "clean_environment",
         "rawType": "object",
         "type": "unknown"
        },
        {
         "name": "regular_cleaning_plan",
         "rawType": "object",
         "type": "unknown"
        },
        {
         "name": "student_participation_in_cleaning",
         "rawType": "object",
         "type": "unknown"
        },
        {
         "name": "cleaning_activities",
         "rawType": "object",
         "type": "unknown"
        },
        {
         "name": "martyrs_memorial",
         "rawType": "object",
         "type": "unknown"
        },
        {
         "name": "separate_library",
         "rawType": "object",
         "type": "unknown"
        },
        {
         "name": "liberation_war_corner",
         "rawType": "object",
         "type": "unknown"
        },
        {
         "name": "playground",
         "rawType": "object",
         "type": "unknown"
        },
        {
         "name": "national_anthem_with_parade",
         "rawType": "object",
         "type": "unknown"
        },
        {
         "name": "indoor_national_anthem",
         "rawType": "object",
         "type": "unknown"
        },
        {
         "name": "national_days_celebrated",
         "rawType": "object",
         "type": "unknown"
        },
        {
         "name": "proper_flag_hoisting",
         "rawType": "object",
         "type": "unknown"
        },
        {
         "name": "cultural_competitions",
         "rawType": "object",
         "type": "unknown"
        },
        {
         "name": "bncc_compliance2",
         "rawType": "object",
         "type": "unknown"
        },
        {
         "name": "scout_girls_guide_rover",
         "rawType": "object",
         "type": "unknown"
        },
        {
         "name": "sports_competitions",
         "rawType": "object",
         "type": "unknown"
        },
        {
         "name": "debate_competitions",
         "rawType": "object",
         "type": "unknown"
        },
        {
         "name": "anti_smoking_campaign",
         "rawType": "object",
         "type": "unknown"
        },
        {
         "name": "anti_terrorism_campaign",
         "rawType": "object",
         "type": "unknown"
        },
        {
         "name": "anti_child_marriage_campaign",
         "rawType": "object",
         "type": "unknown"
        },
        {
         "name": "laboratory",
         "rawType": "object",
         "type": "unknown"
        },
        {
         "name": "report_card_published_in_web",
         "rawType": "object",
         "type": "unknown"
        },
        {
         "name": "garden_scope",
         "rawType": "object",
         "type": "unknown"
        },
        {
         "name": "anti_narcotics_campaign",
         "rawType": "object",
         "type": "unknown"
        },
        {
         "name": "tree_plantation_campaign",
         "rawType": "object",
         "type": "unknown"
        },
        {
         "name": "anti_cyber_bullying",
         "rawType": "object",
         "type": "unknown"
        },
        {
         "name": "was_returned",
         "rawType": "object",
         "type": "unknown"
        },
        {
         "name": "id_compliance3",
         "rawType": "int64",
         "type": "integer"
        },
        {
         "name": "smag_purchase_resolution_done",
         "rawType": "object",
         "type": "unknown"
        },
        {
         "name": "smag_expense_distribution_done",
         "rawType": "object",
         "type": "unknown"
        },
        {
         "name": "incentive_teachers_count",
         "rawType": "float64",
         "type": "float"
        },
        {
         "name": "incentive_distributed_as_per_rate",
         "rawType": "object",
         "type": "unknown"
        },
        {
         "name": "committees_formed_for_purchase",
         "rawType": "object",
         "type": "unknown"
        },
        {
         "name": "purchase_completed_through_committees",
         "rawType": "object",
         "type": "unknown"
        },
        {
         "name": "book_list_exists",
         "rawType": "object",
         "type": "unknown"
        },
        {
         "name": "library_books_expense_2023",
         "rawType": "float64",
         "type": "float"
        },
        {
         "name": "facility_expense_for_girls",
         "rawType": "float64",
         "type": "float"
        },
        {
         "name": "smag_assistance_provided_through_committee",
         "rawType": "object",
         "type": "unknown"
        },
        {
         "name": "smag_assistance_provided_to_disadvantaged_students",
         "rawType": "object",
         "type": "unknown"
        },
        {
         "name": "smag_disadvantaged_students_assisted_count",
         "rawType": "float64",
         "type": "float"
        },
        {
         "name": "smag_disadvantaged_students_boys_count",
         "rawType": "float64",
         "type": "float"
        },
        {
         "name": "smag_disadvantaged_students_girls_count",
         "rawType": "float64",
         "type": "float"
        },
        {
         "name": "financial_aid_to_special_needs_students",
         "rawType": "object",
         "type": "unknown"
        },
        {
         "name": "smag_special_needs_students_aid_count",
         "rawType": "float64",
         "type": "float"
        },
        {
         "name": "total_financial_aid_amount_2023",
         "rawType": "float64",
         "type": "float"
        },
        {
         "name": "disabled_friendly_infrastructure_built",
         "rawType": "object",
         "type": "unknown"
        },
        {
         "name": "wheelchair_cost",
         "rawType": "float64",
         "type": "float"
        },
        {
         "name": "crutch_cost",
         "rawType": "float64",
         "type": "float"
        },
        {
         "name": "white_cane_cost",
         "rawType": "float64",
         "type": "float"
        },
        {
         "name": "hearing_aid_cost",
         "rawType": "float64",
         "type": "float"
        },
        {
         "name": "ramp_cost",
         "rawType": "float64",
         "type": "float"
        },
        {
         "name": "other_infrastructure_cost",
         "rawType": "float64",
         "type": "float"
        },
        {
         "name": "stock_register_cashbook_entry",
         "rawType": "object",
         "type": "unknown"
        },
        {
         "name": "got_ubsa_hsca",
         "rawType": "object",
         "type": "unknown"
        },
        {
         "name": "total_ssc_2022_ubsa",
         "rawType": "float64",
         "type": "float"
        },
        {
         "name": "total_ssc_2023_ubsa",
         "rawType": "float64",
         "type": "float"
        },
        {
         "name": "total_hsc_2022_hsca",
         "rawType": "float64",
         "type": "float"
        },
        {
         "name": "total_hsc_2023_hsca",
         "rawType": "float64",
         "type": "float"
        },
        {
         "name": "has_contributed_to_advancement",
         "rawType": "object",
         "type": "unknown"
        },
        {
         "name": "id_compliance4",
         "rawType": "int64",
         "type": "integer"
        },
        {
         "name": "strengthening_reading_habits_scheme_available",
         "rawType": "bool",
         "type": "boolean"
        },
        {
         "name": "trained_organizer_available",
         "rawType": "object",
         "type": "unknown"
        },
        {
         "name": "books_registered",
         "rawType": "object",
         "type": "unknown"
        },
        {
         "name": "materials_received",
         "rawType": "object",
         "type": "unknown"
        },
        {
         "name": "book_shelf_available",
         "rawType": "object",
         "type": "unknown"
        },
        {
         "name": "chairs_and_tables_for_reading",
         "rawType": "object",
         "type": "unknown"
        },
        {
         "name": "book_supply_register_available",
         "rawType": "object",
         "type": "unknown"
        },
        {
         "name": "sixth_grade_members_count",
         "rawType": "float64",
         "type": "float"
        },
        {
         "name": "seventh_grade_members_count",
         "rawType": "float64",
         "type": "float"
        },
        {
         "name": "eighth_grade_members_count",
         "rawType": "float64",
         "type": "float"
        },
        {
         "name": "ninth_grade_members_count",
         "rawType": "float64",
         "type": "float"
        },
        {
         "name": "tenth_grade_members_count",
         "rawType": "float64",
         "type": "float"
        },
        {
         "name": "honorarium_provided",
         "rawType": "object",
         "type": "unknown"
        },
        {
         "name": "visited_by_assistant_managers",
         "rawType": "object",
         "type": "unknown"
        },
        {
         "name": "member_register",
         "rawType": "object",
         "type": "unknown"
        },
        {
         "name": "book_issued",
         "rawType": "object",
         "type": "unknown"
        },
        {
         "name": "sixth_grade_books_issued_count",
         "rawType": "float64",
         "type": "float"
        },
        {
         "name": "sixth_grade_books_received",
         "rawType": "float64",
         "type": "float"
        },
        {
         "name": "seventh_grade_books_issued_count",
         "rawType": "float64",
         "type": "float"
        },
        {
         "name": "seventh_grade_books_received",
         "rawType": "float64",
         "type": "float"
        },
        {
         "name": "eighth_grade_books_issued_count",
         "rawType": "float64",
         "type": "float"
        },
        {
         "name": "eighth_grade_books_received",
         "rawType": "float64",
         "type": "float"
        },
        {
         "name": "ninth_grade_books_issued_count",
         "rawType": "float64",
         "type": "float"
        },
        {
         "name": "ninth_grade_books_received",
         "rawType": "float64",
         "type": "float"
        },
        {
         "name": "tenth_grade_books_issued_count",
         "rawType": "float64",
         "type": "float"
        },
        {
         "name": "tenth_grade_books_received",
         "rawType": "float64",
         "type": "float"
        },
        {
         "name": "manual_distributed",
         "rawType": "object",
         "type": "unknown"
        },
        {
         "name": "distribution_info_sent",
         "rawType": "object",
         "type": "unknown"
        },
        {
         "name": "visited",
         "rawType": "object",
         "type": "unknown"
        },
        {
         "name": "visited_by_monitoring_officer",
         "rawType": "object",
         "type": "unknown"
        },
        {
         "name": "visited_by_scheme_officer",
         "rawType": "object",
         "type": "unknown"
        },
        {
         "name": "visited_by_maushi",
         "rawType": "object",
         "type": "unknown"
        },
        {
         "name": "visited_by_others",
         "rawType": "object",
         "type": "unknown"
        },
        {
         "name": "books_received_on",
         "rawType": "object",
         "type": "unknown"
        },
        {
         "name": "sixth_grade_books_provided",
         "rawType": "float64",
         "type": "float"
        },
        {
         "name": "seventh_grade_books_provided",
         "rawType": "float64",
         "type": "float"
        },
        {
         "name": "eighth_grade_books_provided",
         "rawType": "float64",
         "type": "float"
        },
        {
         "name": "ninth_grade_books_provided",
         "rawType": "float64",
         "type": "float"
        },
        {
         "name": "tenth_grade_books_provided",
         "rawType": "float64",
         "type": "float"
        },
        {
         "name": "student_type_id",
         "rawType": "int64",
         "type": "integer"
        },
        {
         "name": "student_type_name",
         "rawType": "object",
         "type": "string"
        },
        {
         "name": " student_type_name_en",
         "rawType": "object",
         "type": "string"
        },
        {
         "name": "generalized_institution_type",
         "rawType": "object",
         "type": "string"
        }
       ],
       "ref": "097504d5-b66f-4e1a-963c-4725ff9f67fd",
       "rows": [
        [
         "0",
         "187108",
         "জিয়াডাঙ্গা আহমাদিয়া দাখিল মাদ্রাসা",
         "ZIADANGA AHMADIA DAKHIL MADRASHA",
         "ziadanga",
         "0",
         "Magurahat",
         "7400",
         null,
         null,
         "2.0",
         "24.0",
         "5.0",
         "01709253203",
         "115540_20250813_091911.jpg",
         "23.0798518",
         "89.3160308",
         "OWN",
         "False",
         "True",
         "True",
         "True",
         "True",
         null,
         "115540",
         null,
         "5.40500020980835",
         "7.207680702209473",
         null,
         "1",
         "01-01-1995",
         "1",
         null,
         null,
         "1 no prembag",
         null,
         null,
         "True",
         "114.0",
         "True",
         "2701.0",
         "1.0",
         "1.0",
         null,
         null,
         "0.0",
         "ESURVEY",
         "2025-08-13 09:19:10.137",
         "2.0.2",
         null,
         null,
         null,
         "5421",
         "4",
         "6.0",
         "3.0",
         null,
         "2.0",
         "1.0",
         "False",
         null,
         "True",
         null,
         null,
         null,
         "1.0",
         null,
         null,
         "True",
         null,
         "4",
         "মাদ্রাসা",
         "MADRASHA",
         "5",
         "40.0",
         "Khulna",
         "খুলনা",
         "4",
         "24",
         "4041.0",
         "Jashore",
         "যশোর",
         "5",
         "41.0",
         "2",
         "4041.0",
         "404104.0",
         "Abhaynagar",
         "অভয়নগর",
         "24",
         null,
         "5390",
         "1.0",
         "True",
         "1.0",
         "1.0",
         "0.0",
         "True",
         "1.0",
         "1.0",
         "0.0",
         "False",
         null,
         null,
         null,
         null,
         null,
         null,
         "False",
         null,
         null,
         "True",
         "True",
         "True",
         "3.0",
         "True",
         "True",
         "True",
         "True",
         "True",
         "True",
         null,
         null,
         null,
         null,
         "True",
         "True",
         "True",
         "True",
         "True",
         "True",
         null,
         null,
         "True",
         null,
         null,
         null,
         "False",
         null,
         "True",
         "True",
         "True",
         null,
         null,
         null,
         null,
         null,
         null,
         "False",
         "True",
         null,
         "True",
         null,
         "True",
         null,
         null,
         "True",
         "True",
         null,
         null,
         null,
         null,
         null,
         null,
         null,
         null,
         "False",
         null,
         null,
         "5390",
         "True",
         "20.0",
         "11.0",
         "0.0",
         "1.0",
         "0.0",
         "1.0",
         "1.0",
         "0.0",
         "0.0",
         "1.0",
         "1.0",
         "0.0",
         "0.0",
         "0.0",
         "0.0",
         "0.0",
         "False",
         null,
         "False",
         "False",
         "False",
         null,
         null,
         "0.0",
         "1.0",
         "True",
         "1.0",
         null,
         "False",
         "False",
         "Abhaynagar -2 Gajipur roufia",
         "False",
         null,
         "True",
         null,
         null,
         "True",
         null,
         "2.0",
         "5389",
         "11.0",
         "1.0",
         "4.0",
         "1.0",
         "5.0",
         "192.0",
         "86.0",
         "True",
         "50.0",
         "31.0",
         "13.0",
         "True",
         "50.0",
         "31.0",
         "13.0",
         "True",
         "50.0",
         "53.0",
         "26.0",
         "True",
         "50.0",
         "47.0",
         "22.0",
         "True",
         "50.0",
         "30.0",
         "12.0",
         null,
         null,
         null,
         null,
         null,
         null,
         null,
         null,
         null,
         null,
         null,
         null,
         null,
         null,
         null,
         null,
         null,
         null,
         null,
         null,
         null,
         null,
         null,
         null,
         null,
         null,
         null,
         null,
         null,
         null,
         null,
         null,
         null,
         null,
         null,
         null,
         null,
         null,
         null,
         null,
         null,
         null,
         null,
         null,
         null,
         null,
         null,
         null,
         null,
         null,
         "5392",
         "False",
         null,
         null,
         null,
         null,
         null,
         null,
         null,
         null,
         null,
         null,
         null,
         null,
         null,
         null,
         null,
         null,
         null,
         null,
         null,
         null,
         null,
         null,
         null,
         null,
         null,
         null,
         null,
         null,
         null,
         null,
         null,
         null,
         null,
         null,
         null,
         null,
         null,
         null,
         null,
         null,
         null,
         null,
         null,
         null,
         null,
         null,
         null,
         null,
         null,
         null,
         null,
         null,
         null,
         null,
         null,
         null,
         null,
         null,
         null,
         null,
         null,
         null,
         null,
         null,
         null,
         null,
         null,
         null,
         null,
         null,
         "5389",
         null,
         null,
         null,
         null,
         null,
         null,
         null,
         null,
         null,
         null,
         null,
         null,
         null,
         null,
         null,
         null,
         null,
         null,
         null,
         null,
         null,
         null,
         null,
         null,
         null,
         null,
         null,
         null,
         null,
         null,
         null,
         "5404",
         "False",
         null,
         null,
         null,
         null,
         null,
         null,
         null,
         null,
         null,
         null,
         null,
         null,
         null,
         null,
         null,
         null,
         null,
         null,
         null,
         null,
         null,
         null,
         null,
         null,
         null,
         null,
         null,
         null,
         null,
         null,
         null,
         null,
         null,
         null,
         null,
         null,
         null,
         null,
         "3",
         "সহশিক্ষা",
         " Co-education",
         "MADRASHA"
        ],
        [
         "1",
         "187111",
         "বেলকুচি বহুমুখী মহিলা ডিগ্রি কলেজ",
         "BELKUCHI BAHUMAUKHI WOMENS COLLEGE",
         "SHERNAGAR",
         "SIRAJGANJ  ENAYETPUR ROAD",
         "SHOHAGPUR",
         "6741",
         null,
         null,
         "67.0",
         "60.0",
         "6.0",
         "01790944636",
         "128025_20250825_120636.jpg",
         "24.2867983",
         "89.6976067",
         "OWN",
         "False",
         "True",
         "True",
         "True",
         "True",
         null,
         "128025",
         null,
         "2.299999952316284",
         "2.0038177967071533",
         null,
         "1",
         "11-02-1998",
         null,
         "BELKUCHI",
         "7.0",
         null,
         null,
         null,
         "True",
         "144.0",
         "True",
         "3239.0",
         "1.0",
         null,
         null,
         null,
         "0.0",
         "ESURVEY",
         "2025-08-25 12:06:33.080",
         "2.3.0",
         null,
         null,
         null,
         "35837",
         "3",
         "4.0",
         "2.0",
         null,
         "2.0",
         "1.0",
         "False",
         null,
         "True",
         null,
         null,
         null,
         "1.0",
         null,
         null,
         "True",
         null,
         "3",
         "কলেজ",
         "COLLEGE",
         "6",
         "50.0",
         "Rajshahi",
         "রাজশাহী",
         "5",
         "60",
         "5088.0",
         "Sirajganj",
         "সিরাজগঞ্জ",
         "6",
         "88.0",
         "67",
         "5088.0",
         "508811.0",
         "Belkuchi",
         "বেলকুচি",
         "60",
         null,
         "35807",
         "1.0",
         "True",
         "0.0",
         "44.0",
         "7.0",
         "True",
         "5.0",
         "2.0",
         "2.0",
         "True",
         "0.0",
         "1.0",
         "1.0",
         "1.0",
         "1.0",
         "0.0",
         "True",
         "0.0",
         "4.0",
         "True",
         "True",
         "True",
         "6.0",
         "True",
         "True",
         "True",
         "True",
         "True",
         "True",
         null,
         null,
         "True",
         null,
         "True",
         "True",
         "True",
         "True",
         "True",
         "True",
         null,
         null,
         "True",
         null,
         "True",
         "True",
         "True",
         null,
         "True",
         "True",
         null,
         "True",
         "True",
         null,
         null,
         null,
         null,
         "True",
         "True",
         "True",
         "True",
         "False",
         "True",
         null,
         "True",
         "True",
         "True",
         null,
         null,
         null,
         null,
         null,
         "True",
         null,
         null,
         "False",
         null,
         null,
         "36024",
         "True",
         "14.0",
         "44.0",
         "1.0",
         "8.0",
         "0.0",
         "2.0",
         "4.0",
         "6.0",
         "0.0",
         "4.0",
         "2.0",
         "0.0",
         "2.0",
         "3.0",
         "0.0",
         "3.0",
         "True",
         "4000.0",
         "True",
         null,
         "True",
         "30.0",
         "3.0",
         "3.0",
         "0.0",
         "True",
         "1.0",
         null,
         "True",
         "True",
         "BELKUCHI GOVT COLLEGE",
         "False",
         "2000.0",
         "True",
         null,
         "True",
         null,
         null,
         "4.0",
         "35807",
         "29.0",
         "13.0",
         "17.0",
         "4.0",
         "5.0",
         "1018.0",
         "1018.0",
         "True",
         "0.0",
         "0.0",
         "0.0",
         "True",
         "0.0",
         "0.0",
         "0.0",
         "True",
         "0.0",
         "0.0",
         "0.0",
         "True",
         "0.0",
         "0.0",
         "0.0",
         "True",
         "0.0",
         "0.0",
         "0.0",
         "True",
         "700.0",
         "518.0",
         "518.0",
         "True",
         "700.0",
         "500.0",
         "500.0",
         null,
         null,
         null,
         null,
         null,
         null,
         null,
         null,
         null,
         null,
         null,
         null,
         null,
         null,
         null,
         null,
         null,
         null,
         null,
         null,
         null,
         null,
         null,
         null,
         null,
         null,
         null,
         null,
         null,
         null,
         null,
         null,
         null,
         null,
         null,
         null,
         null,
         null,
         null,
         null,
         null,
         null,
         "36322",
         "False",
         null,
         null,
         null,
         null,
         null,
         null,
         null,
         null,
         null,
         null,
         null,
         null,
         null,
         null,
         null,
         null,
         null,
         null,
         null,
         null,
         null,
         null,
         null,
         null,
         null,
         null,
         null,
         null,
         null,
         null,
         null,
         null,
         null,
         null,
         null,
         null,
         null,
         null,
         null,
         null,
         null,
         null,
         null,
         null,
         null,
         null,
         null,
         null,
         null,
         null,
         null,
         null,
         null,
         null,
         null,
         null,
         null,
         null,
         null,
         null,
         null,
         null,
         null,
         null,
         null,
         null,
         null,
         null,
         null,
         null,
         "36381",
         null,
         null,
         null,
         null,
         null,
         null,
         null,
         null,
         null,
         null,
         null,
         null,
         null,
         null,
         null,
         null,
         null,
         null,
         null,
         null,
         null,
         null,
         null,
         null,
         null,
         null,
         null,
         null,
         null,
         null,
         null,
         "35821",
         "False",
         null,
         null,
         null,
         null,
         null,
         null,
         null,
         null,
         null,
         null,
         null,
         null,
         null,
         null,
         null,
         null,
         null,
         null,
         null,
         null,
         null,
         null,
         null,
         null,
         null,
         null,
         null,
         null,
         null,
         null,
         null,
         null,
         null,
         null,
         null,
         null,
         null,
         null,
         "2",
         "মেয়ে",
         " Girl",
         "SCHOOL AND COLLEGE"
        ],
        [
         "2",
         "187112",
         "কালিকাপুর সিদ্দিকীয়া দাখিল মাদ্রাসা",
         "KALIKAPUR SIDDIKIA MADRASHA",
         "KALIKAPUR",
         "BALIADANGA TO TALTOLA ROAD",
         "KALIKAPUR",
         "9440",
         null,
         null,
         "263.0",
         "59.0",
         "5.0",
         "01723912767",
         "118777_20250824_060944.jpg",
         "22.3922241",
         "89.1387687",
         "OWN",
         "False",
         "True",
         "True",
         "True",
         "True",
         null,
         "118777",
         null,
         "3.7899999618530273",
         "2.572690963745117",
         null,
         "1",
         "01-01-1979",
         "02",
         null,
         null,
         "01 NO KRISHNANAGAR",
         null,
         null,
         "True",
         "1.0",
         "True",
         "2846.0",
         "1.0",
         null,
         null,
         null,
         "0.0",
         "ESURVEY",
         "2025-08-24 06:09:43.283",
         "2.3.0",
         null,
         null,
         null,
         "30425",
         "4",
         "6.0",
         "3.0",
         null,
         "2.0",
         "1.0",
         "False",
         null,
         "True",
         null,
         null,
         null,
         "1.0",
         null,
         null,
         "True",
         null,
         "4",
         "মাদ্রাসা",
         "MADRASHA",
         "5",
         "40.0",
         "Khulna",
         "খুলনা",
         "4",
         "59",
         "4087.0",
         "Satkhira",
         "সাতক্ষীরা",
         "5",
         "87.0",
         "263",
         "4087.0",
         "408747.0",
         "Kaliganj",
         "কালীগঞ্জ",
         "59",
         null,
         "30395",
         "1.0",
         "True",
         "2.0",
         "3.0",
         "1.0",
         "True",
         "1.0",
         "1.0",
         "1.0",
         "True",
         "1.0",
         "1.0",
         "1.0",
         "0.0",
         "0.0",
         "1.0",
         "False",
         null,
         null,
         "True",
         "False",
         "True",
         "6.0",
         "True",
         "True",
         "True",
         "False",
         "True",
         "True",
         null,
         "True",
         null,
         null,
         "True",
         "True",
         "True",
         "True",
         "True",
         "True",
         null,
         null,
         "True",
         null,
         null,
         null,
         "False",
         null,
         "True",
         null,
         null,
         null,
         null,
         "True",
         null,
         null,
         null,
         "False",
         "True",
         null,
         "True",
         null,
         "True",
         null,
         null,
         "True",
         "True",
         null,
         null,
         null,
         null,
         null,
         null,
         null,
         null,
         "False",
         null,
         null,
         "30612",
         "True",
         "22.0",
         "10.0",
         "0.0",
         "0.0",
         "0.0",
         "1.0",
         "1.0",
         "0.0",
         "0.0",
         "0.0",
         "0.0",
         "0.0",
         "0.0",
         "0.0",
         "0.0",
         "0.0",
         "False",
         null,
         "False",
         "True",
         "False",
         null,
         null,
         "0.0",
         "1.0",
         "True",
         "1.0",
         null,
         "False",
         "False",
         "Kaliganj Nasrul Ulum Siddikia Dakhil Madrash",
         "False",
         null,
         "True",
         null,
         "True",
         null,
         null,
         "2.0",
         "30395",
         "16.0",
         "2.0",
         "5.0",
         "1.0",
         "6.0",
         "223.0",
         "117.0",
         "True",
         "65.0",
         "63.0",
         "30.0",
         "True",
         "60.0",
         "47.0",
         "30.0",
         "True",
         "60.0",
         "54.0",
         "29.0",
         "True",
         "60.0",
         "34.0",
         "17.0",
         "True",
         "60.0",
         "25.0",
         "11.0",
         null,
         null,
         null,
         null,
         null,
         null,
         null,
         null,
         null,
         null,
         null,
         null,
         null,
         null,
         null,
         null,
         null,
         null,
         null,
         null,
         null,
         null,
         null,
         null,
         null,
         null,
         null,
         null,
         null,
         null,
         null,
         null,
         null,
         null,
         null,
         null,
         null,
         null,
         null,
         null,
         null,
         null,
         null,
         null,
         null,
         null,
         null,
         null,
         null,
         null,
         "30910",
         "False",
         null,
         null,
         null,
         null,
         null,
         null,
         null,
         null,
         null,
         null,
         null,
         null,
         null,
         null,
         null,
         null,
         null,
         null,
         null,
         null,
         null,
         null,
         null,
         null,
         null,
         null,
         null,
         null,
         null,
         null,
         null,
         null,
         null,
         null,
         null,
         null,
         null,
         null,
         null,
         null,
         null,
         null,
         null,
         null,
         null,
         null,
         null,
         null,
         null,
         null,
         null,
         null,
         null,
         null,
         null,
         null,
         null,
         null,
         null,
         null,
         null,
         null,
         null,
         null,
         null,
         null,
         null,
         null,
         null,
         null,
         "30969",
         null,
         null,
         null,
         null,
         null,
         null,
         null,
         null,
         null,
         null,
         null,
         null,
         null,
         null,
         null,
         null,
         null,
         null,
         null,
         null,
         null,
         null,
         null,
         null,
         null,
         null,
         null,
         null,
         null,
         null,
         null,
         "30409",
         "False",
         null,
         null,
         null,
         null,
         null,
         null,
         null,
         null,
         null,
         null,
         null,
         null,
         null,
         null,
         null,
         null,
         null,
         null,
         null,
         null,
         null,
         null,
         null,
         null,
         null,
         null,
         null,
         null,
         null,
         null,
         null,
         null,
         null,
         null,
         null,
         null,
         null,
         null,
         "3",
         "সহশিক্ষা",
         " Co-education",
         "MADRASHA"
        ],
        [
         "3",
         "187114",
         "মিরপুর নিম্ন মাধ্যমিক বিদ্যানিকেতন।",
         "MIRPUR JUNIOR SECONDARY BIDDYA NIKETON",
         "819 (Sultanpur)",
         "Beside Mirpur Football Field",
         "Mirpur",
         "7030",
         null,
         null,
         "356.0",
         "31.0",
         "5.0",
         "01309117855",
         "117855_20250821_093514.jpg",
         "23.9388133",
         "88.996145",
         "OWN",
         "False",
         "True",
         "True",
         "True",
         "True",
         null,
         "117855",
         null,
         "2.8499999046325684",
         "2.16847562789917",
         null,
         "1",
         "01-01-1996",
         null,
         "Mirpur",
         "1.0",
         null,
         null,
         null,
         "True",
         "50.0",
         "True",
         "2804.0",
         null,
         null,
         null,
         null,
         "0.0",
         "ESURVEY",
         "2025-08-21 09:35:13.617",
         "2.3.0",
         null,
         null,
         null,
         "27529",
         "1",
         "1.0",
         "3.0",
         null,
         "2.0",
         "1.0",
         "False",
         null,
         "True",
         null,
         null,
         null,
         "1.0",
         null,
         null,
         "True",
         null,
         "1",
         "স্কুল",
         "SCHOOL",
         "5",
         "40.0",
         "Khulna",
         "খুলনা",
         "4",
         "31",
         "4050.0",
         "Kushtia",
         "কুষ্টিয়া",
         "5",
         "50.0",
         "356",
         "4050.0",
         "405094.0",
         "Mirpur",
         "মিরপুর",
         "31",
         null,
         "27499",
         "1.0",
         "True",
         "3.0",
         "3.0",
         "0.0",
         "True",
         "1.0",
         "1.0",
         "0.0",
         "False",
         null,
         null,
         null,
         null,
         null,
         null,
         "False",
         null,
         null,
         "True",
         "False",
         "True",
         "12.0",
         "True",
         "True",
         "True",
         "False",
         "True",
         "True",
         null,
         null,
         null,
         null,
         "True",
         null,
         "True",
         "True",
         "True",
         "True",
         null,
         null,
         "True",
         null,
         "True",
         "True",
         "True",
         null,
         "True",
         "True",
         "True",
         "False",
         null,
         null,
         null,
         null,
         null,
         "False",
         "True",
         null,
         "True",
         "True",
         "True",
         null,
         null,
         "True",
         "True",
         null,
         null,
         null,
         null,
         null,
         "True",
         null,
         null,
         "False",
         null,
         null,
         "27716",
         "False",
         null,
         "4.0",
         "0.0",
         "0.0",
         "0.0",
         "1.0",
         "1.0",
         "0.0",
         "0.0",
         "0.0",
         "0.0",
         "0.0",
         "0.0",
         "0.0",
         "0.0",
         "0.0",
         "False",
         null,
         "False",
         "False",
         "False",
         null,
         null,
         "0.0",
         "0.0",
         "True",
         "1.0",
         null,
         "False",
         "False",
         "Mirpur Pailot Secondary School (117826)",
         "True",
         "37.0",
         "True",
         null,
         "True",
         null,
         null,
         "2.0",
         "27499",
         "7.0",
         "2.0",
         "5.0",
         "2.0",
         "1.0",
         "163.0",
         "66.0",
         "True",
         "55.0",
         "44.0",
         "14.0",
         "True",
         "65.0",
         "60.0",
         "26.0",
         "True",
         "60.0",
         "59.0",
         "26.0",
         null,
         null,
         null,
         null,
         null,
         null,
         null,
         null,
         null,
         null,
         null,
         null,
         null,
         null,
         null,
         null,
         null,
         null,
         null,
         null,
         null,
         null,
         null,
         null,
         null,
         null,
         null,
         null,
         null,
         null,
         null,
         null,
         null,
         null,
         null,
         null,
         null,
         null,
         null,
         null,
         null,
         null,
         null,
         null,
         null,
         null,
         null,
         null,
         null,
         null,
         null,
         null,
         null,
         null,
         null,
         null,
         null,
         null,
         "28000",
         "False",
         null,
         null,
         null,
         null,
         null,
         null,
         null,
         null,
         null,
         null,
         null,
         null,
         null,
         null,
         null,
         null,
         null,
         null,
         null,
         null,
         null,
         null,
         null,
         null,
         null,
         null,
         null,
         null,
         null,
         null,
         null,
         null,
         null,
         null,
         null,
         null,
         null,
         null,
         null,
         null,
         null,
         null,
         null,
         null,
         null,
         null,
         null,
         null,
         null,
         null,
         null,
         null,
         null,
         null,
         null,
         null,
         null,
         null,
         null,
         null,
         null,
         null,
         null,
         null,
         null,
         null,
         null,
         null,
         null,
         null,
         "28059",
         null,
         null,
         null,
         null,
         null,
         null,
         null,
         null,
         null,
         null,
         null,
         null,
         null,
         null,
         null,
         null,
         null,
         null,
         null,
         null,
         null,
         null,
         null,
         null,
         null,
         null,
         null,
         null,
         null,
         null,
         null,
         "27513",
         "False",
         null,
         null,
         null,
         null,
         null,
         null,
         null,
         null,
         null,
         null,
         null,
         null,
         null,
         null,
         null,
         null,
         null,
         null,
         null,
         null,
         null,
         null,
         null,
         null,
         null,
         null,
         null,
         null,
         null,
         null,
         null,
         null,
         null,
         null,
         null,
         null,
         null,
         null,
         "3",
         "সহশিক্ষা",
         " Co-education",
         "SCHOOL"
        ],
        [
         "4",
         "187115",
         "মোশারফ হোসেন প্রধান কলেজ",
         "MOSHARAF HOSSAIN PRODHAN COLLEGE",
         "AZIZPUR",
         "Azizpur",
         "Kawamari",
         "5540",
         null,
         null,
         "431.0",
         "33.0",
         "8.0",
         "01309138328",
         "138328_20250826_073844.jpg",
         "26.3861948",
         "88.9980101",
         "OWN",
         "False",
         "True",
         "True",
         "True",
         "True",
         null,
         "138328",
         null,
         "3.7899999618530273",
         "4.181642055511475",
         null,
         "1",
         "05-01-2015",
         "7",
         null,
         null,
         "Shreerampur",
         null,
         null,
         "True",
         "150.0",
         "True",
         "3423.0",
         "1.0",
         null,
         null,
         null,
         "0.0",
         "ESURVEY",
         "2025-08-26 07:38:43.310",
         "2.4.1",
         null,
         null,
         null,
         "37678",
         "3",
         "3.0",
         "3.0",
         null,
         "2.0",
         "2.0",
         "False",
         null,
         "True",
         null,
         null,
         null,
         "1.0",
         null,
         "True",
         "True",
         null,
         "3",
         "কলেজ",
         "COLLEGE",
         "8",
         "55.0",
         "Rangpur",
         "রংপুর",
         "7",
         "33",
         "5552.0",
         "Lalmonirhat",
         "লালমনিরহাট",
         "8",
         "52.0",
         "431",
         "5552.0",
         "555270.0",
         "Patgram",
         "পাটগ্রাম",
         "33",
         null,
         "37648",
         "1.0",
         "True",
         "3.0",
         "3.0",
         "0.0",
         "True",
         "2.0",
         "1.0",
         "0.0",
         "False",
         null,
         null,
         null,
         null,
         null,
         null,
         "True",
         "1.0",
         "1.0",
         "False",
         "True",
         "True",
         "3.0",
         "True",
         "True",
         "True",
         "False",
         "True",
         "True",
         null,
         "True",
         null,
         null,
         "True",
         "True",
         "True",
         "True",
         "True",
         "True",
         null,
         null,
         null,
         null,
         "True",
         null,
         "True",
         null,
         "True",
         "True",
         null,
         null,
         "True",
         null,
         null,
         null,
         null,
         "False",
         "True",
         "False",
         "True",
         "True",
         null,
         null,
         null,
         "True",
         "True",
         "True",
         "True",
         "True",
         null,
         null,
         "True",
         null,
         null,
         "False",
         null,
         null,
         "37865",
         "True",
         "35.0",
         "8.0",
         "0.0",
         "0.0",
         "0.0",
         "1.0",
         "1.0",
         "1.0",
         "1.0",
         "1.0",
         "1.0",
         "0.0",
         "0.0",
         "1.0",
         "0.0",
         "0.0",
         "False",
         null,
         "True",
         null,
         "False",
         null,
         null,
         "1.0",
         "1.0",
         "True",
         "1.0",
         null,
         "False",
         "False",
         "710-Patgram 2",
         "False",
         null,
         "True",
         null,
         "True",
         "True",
         "True",
         "4.0",
         "37648",
         "10.0",
         "2.0",
         "8.0",
         "3.0",
         "2.0",
         "141.0",
         "99.0",
         null,
         null,
         null,
         null,
         null,
         null,
         null,
         null,
         null,
         null,
         null,
         null,
         null,
         null,
         null,
         null,
         null,
         null,
         null,
         null,
         "True",
         "400.0",
         "66.0",
         "51.0",
         "True",
         "400.0",
         "75.0",
         "48.0",
         null,
         null,
         null,
         null,
         null,
         null,
         null,
         null,
         null,
         null,
         null,
         null,
         null,
         null,
         null,
         null,
         null,
         null,
         null,
         null,
         null,
         null,
         null,
         null,
         null,
         null,
         null,
         null,
         null,
         null,
         null,
         null,
         null,
         null,
         null,
         null,
         null,
         null,
         null,
         null,
         null,
         null,
         "38163",
         "False",
         null,
         null,
         null,
         null,
         null,
         null,
         null,
         null,
         null,
         null,
         null,
         null,
         null,
         null,
         null,
         null,
         null,
         null,
         null,
         null,
         null,
         null,
         null,
         null,
         null,
         null,
         null,
         null,
         null,
         null,
         null,
         null,
         null,
         null,
         null,
         null,
         null,
         null,
         null,
         null,
         null,
         null,
         null,
         null,
         null,
         null,
         null,
         null,
         null,
         null,
         null,
         null,
         null,
         null,
         null,
         null,
         null,
         null,
         null,
         null,
         null,
         null,
         null,
         null,
         null,
         null,
         null,
         null,
         null,
         null,
         "38222",
         null,
         null,
         null,
         null,
         null,
         null,
         null,
         null,
         null,
         null,
         null,
         null,
         null,
         null,
         null,
         null,
         null,
         null,
         null,
         null,
         null,
         null,
         null,
         null,
         null,
         null,
         null,
         null,
         null,
         null,
         null,
         "37662",
         "False",
         null,
         null,
         null,
         null,
         null,
         null,
         null,
         null,
         null,
         null,
         null,
         null,
         null,
         null,
         null,
         null,
         null,
         null,
         null,
         null,
         null,
         null,
         null,
         null,
         null,
         null,
         null,
         null,
         null,
         null,
         null,
         null,
         null,
         null,
         null,
         null,
         null,
         null,
         "3",
         "সহশিক্ষা",
         " Co-education",
         "SCHOOL AND COLLEGE"
        ]
       ],
       "shape": {
        "columns": 435,
        "rows": 5
       }
      },
      "text/html": [
       "<div>\n",
       "<style scoped>\n",
       "    .dataframe tbody tr th:only-of-type {\n",
       "        vertical-align: middle;\n",
       "    }\n",
       "\n",
       "    .dataframe tbody tr th {\n",
       "        vertical-align: top;\n",
       "    }\n",
       "\n",
       "    .dataframe thead th {\n",
       "        text-align: right;\n",
       "    }\n",
       "</style>\n",
       "<table border=\"1\" class=\"dataframe\">\n",
       "  <thead>\n",
       "    <tr style=\"text-align: right;\">\n",
       "      <th></th>\n",
       "      <th>id</th>\n",
       "      <th>institution_name_bangla</th>\n",
       "      <th>institution_name_english</th>\n",
       "      <th>address_village_holding</th>\n",
       "      <th>address_road</th>\n",
       "      <th>address_post_office</th>\n",
       "      <th>address_post_code</th>\n",
       "      <th>[union]</th>\n",
       "      <th>address_ward</th>\n",
       "      <th>address_thana</th>\n",
       "      <th>...</th>\n",
       "      <th>books_received_on</th>\n",
       "      <th>sixth_grade_books_provided</th>\n",
       "      <th>seventh_grade_books_provided</th>\n",
       "      <th>eighth_grade_books_provided</th>\n",
       "      <th>ninth_grade_books_provided</th>\n",
       "      <th>tenth_grade_books_provided</th>\n",
       "      <th>student_type_id</th>\n",
       "      <th>student_type_name</th>\n",
       "      <th>student_type_name_en</th>\n",
       "      <th>generalized_institution_type</th>\n",
       "    </tr>\n",
       "  </thead>\n",
       "  <tbody>\n",
       "    <tr>\n",
       "      <th>0</th>\n",
       "      <td>187108</td>\n",
       "      <td>জিয়াডাঙ্গা আহমাদিয়া দাখিল মাদ্রাসা</td>\n",
       "      <td>ZIADANGA AHMADIA DAKHIL MADRASHA</td>\n",
       "      <td>ziadanga</td>\n",
       "      <td>0</td>\n",
       "      <td>Magurahat</td>\n",
       "      <td>7400</td>\n",
       "      <td>NaN</td>\n",
       "      <td>NaN</td>\n",
       "      <td>2.0</td>\n",
       "      <td>...</td>\n",
       "      <td>NaN</td>\n",
       "      <td>NaN</td>\n",
       "      <td>NaN</td>\n",
       "      <td>NaN</td>\n",
       "      <td>NaN</td>\n",
       "      <td>NaN</td>\n",
       "      <td>3</td>\n",
       "      <td>সহশিক্ষা</td>\n",
       "      <td>Co-education</td>\n",
       "      <td>MADRASHA</td>\n",
       "    </tr>\n",
       "    <tr>\n",
       "      <th>1</th>\n",
       "      <td>187111</td>\n",
       "      <td>বেলকুচি বহুমুখী মহিলা ডিগ্রি কলেজ</td>\n",
       "      <td>BELKUCHI BAHUMAUKHI WOMENS COLLEGE</td>\n",
       "      <td>SHERNAGAR</td>\n",
       "      <td>SIRAJGANJ  ENAYETPUR ROAD</td>\n",
       "      <td>SHOHAGPUR</td>\n",
       "      <td>6741</td>\n",
       "      <td>NaN</td>\n",
       "      <td>NaN</td>\n",
       "      <td>67.0</td>\n",
       "      <td>...</td>\n",
       "      <td>NaN</td>\n",
       "      <td>NaN</td>\n",
       "      <td>NaN</td>\n",
       "      <td>NaN</td>\n",
       "      <td>NaN</td>\n",
       "      <td>NaN</td>\n",
       "      <td>2</td>\n",
       "      <td>মেয়ে</td>\n",
       "      <td>Girl</td>\n",
       "      <td>SCHOOL AND COLLEGE</td>\n",
       "    </tr>\n",
       "    <tr>\n",
       "      <th>2</th>\n",
       "      <td>187112</td>\n",
       "      <td>কালিকাপুর সিদ্দিকীয়া দাখিল মাদ্রাসা</td>\n",
       "      <td>KALIKAPUR SIDDIKIA MADRASHA</td>\n",
       "      <td>KALIKAPUR</td>\n",
       "      <td>BALIADANGA TO TALTOLA ROAD</td>\n",
       "      <td>KALIKAPUR</td>\n",
       "      <td>9440</td>\n",
       "      <td>NaN</td>\n",
       "      <td>NaN</td>\n",
       "      <td>263.0</td>\n",
       "      <td>...</td>\n",
       "      <td>NaN</td>\n",
       "      <td>NaN</td>\n",
       "      <td>NaN</td>\n",
       "      <td>NaN</td>\n",
       "      <td>NaN</td>\n",
       "      <td>NaN</td>\n",
       "      <td>3</td>\n",
       "      <td>সহশিক্ষা</td>\n",
       "      <td>Co-education</td>\n",
       "      <td>MADRASHA</td>\n",
       "    </tr>\n",
       "    <tr>\n",
       "      <th>3</th>\n",
       "      <td>187114</td>\n",
       "      <td>মিরপুর নিম্ন মাধ্যমিক বিদ্যানিকেতন।</td>\n",
       "      <td>MIRPUR JUNIOR SECONDARY BIDDYA NIKETON</td>\n",
       "      <td>819 (Sultanpur)</td>\n",
       "      <td>Beside Mirpur Football Field</td>\n",
       "      <td>Mirpur</td>\n",
       "      <td>7030</td>\n",
       "      <td>NaN</td>\n",
       "      <td>NaN</td>\n",
       "      <td>356.0</td>\n",
       "      <td>...</td>\n",
       "      <td>NaN</td>\n",
       "      <td>NaN</td>\n",
       "      <td>NaN</td>\n",
       "      <td>NaN</td>\n",
       "      <td>NaN</td>\n",
       "      <td>NaN</td>\n",
       "      <td>3</td>\n",
       "      <td>সহশিক্ষা</td>\n",
       "      <td>Co-education</td>\n",
       "      <td>SCHOOL</td>\n",
       "    </tr>\n",
       "    <tr>\n",
       "      <th>4</th>\n",
       "      <td>187115</td>\n",
       "      <td>মোশারফ হোসেন প্রধান কলেজ</td>\n",
       "      <td>MOSHARAF HOSSAIN PRODHAN COLLEGE</td>\n",
       "      <td>AZIZPUR</td>\n",
       "      <td>Azizpur</td>\n",
       "      <td>Kawamari</td>\n",
       "      <td>5540</td>\n",
       "      <td>NaN</td>\n",
       "      <td>NaN</td>\n",
       "      <td>431.0</td>\n",
       "      <td>...</td>\n",
       "      <td>NaN</td>\n",
       "      <td>NaN</td>\n",
       "      <td>NaN</td>\n",
       "      <td>NaN</td>\n",
       "      <td>NaN</td>\n",
       "      <td>NaN</td>\n",
       "      <td>3</td>\n",
       "      <td>সহশিক্ষা</td>\n",
       "      <td>Co-education</td>\n",
       "      <td>SCHOOL AND COLLEGE</td>\n",
       "    </tr>\n",
       "  </tbody>\n",
       "</table>\n",
       "<p>5 rows × 435 columns</p>\n",
       "</div>"
      ],
      "text/plain": [
       "       id              institution_name_bangla  \\\n",
       "0  187108   জিয়াডাঙ্গা আহমাদিয়া দাখিল মাদ্রাসা   \n",
       "1  187111    বেলকুচি বহুমুখী মহিলা ডিগ্রি কলেজ   \n",
       "2  187112  কালিকাপুর সিদ্দিকীয়া দাখিল মাদ্রাসা   \n",
       "3  187114  মিরপুর নিম্ন মাধ্যমিক বিদ্যানিকেতন।   \n",
       "4  187115             মোশারফ হোসেন প্রধান কলেজ   \n",
       "\n",
       "                 institution_name_english address_village_holding  \\\n",
       "0        ZIADANGA AHMADIA DAKHIL MADRASHA                ziadanga   \n",
       "1      BELKUCHI BAHUMAUKHI WOMENS COLLEGE               SHERNAGAR   \n",
       "2             KALIKAPUR SIDDIKIA MADRASHA               KALIKAPUR   \n",
       "3  MIRPUR JUNIOR SECONDARY BIDDYA NIKETON         819 (Sultanpur)   \n",
       "4        MOSHARAF HOSSAIN PRODHAN COLLEGE                 AZIZPUR   \n",
       "\n",
       "                   address_road address_post_office address_post_code  \\\n",
       "0                             0           Magurahat              7400   \n",
       "1     SIRAJGANJ  ENAYETPUR ROAD           SHOHAGPUR              6741   \n",
       "2    BALIADANGA TO TALTOLA ROAD           KALIKAPUR              9440   \n",
       "3  Beside Mirpur Football Field              Mirpur              7030   \n",
       "4                       Azizpur            Kawamari              5540   \n",
       "\n",
       "   [union]  address_ward  address_thana  ...  books_received_on  \\\n",
       "0      NaN           NaN            2.0  ...                NaN   \n",
       "1      NaN           NaN           67.0  ...                NaN   \n",
       "2      NaN           NaN          263.0  ...                NaN   \n",
       "3      NaN           NaN          356.0  ...                NaN   \n",
       "4      NaN           NaN          431.0  ...                NaN   \n",
       "\n",
       "   sixth_grade_books_provided seventh_grade_books_provided  \\\n",
       "0                         NaN                          NaN   \n",
       "1                         NaN                          NaN   \n",
       "2                         NaN                          NaN   \n",
       "3                         NaN                          NaN   \n",
       "4                         NaN                          NaN   \n",
       "\n",
       "  eighth_grade_books_provided  ninth_grade_books_provided  \\\n",
       "0                         NaN                         NaN   \n",
       "1                         NaN                         NaN   \n",
       "2                         NaN                         NaN   \n",
       "3                         NaN                         NaN   \n",
       "4                         NaN                         NaN   \n",
       "\n",
       "   tenth_grade_books_provided student_type_id student_type_name  \\\n",
       "0                         NaN               3          সহশিক্ষা   \n",
       "1                         NaN               2              মেয়ে   \n",
       "2                         NaN               3          সহশিক্ষা   \n",
       "3                         NaN               3          সহশিক্ষা   \n",
       "4                         NaN               3          সহশিক্ষা   \n",
       "\n",
       "   student_type_name_en generalized_institution_type  \n",
       "0          Co-education                     MADRASHA  \n",
       "1                  Girl           SCHOOL AND COLLEGE  \n",
       "2          Co-education                     MADRASHA  \n",
       "3          Co-education                       SCHOOL  \n",
       "4          Co-education           SCHOOL AND COLLEGE  \n",
       "\n",
       "[5 rows x 435 columns]"
      ]
     },
     "execution_count": 37,
     "metadata": {},
     "output_type": "execute_result"
    }
   ],
   "source": [
    "df_merged.head()"
   ]
  },
  {
   "cell_type": "code",
   "execution_count": 38,
   "id": "88049051",
   "metadata": {
    "ExecuteTime": {
     "end_time": "2025-09-15T09:36:28.771913Z",
     "start_time": "2025-09-15T09:36:28.623085Z"
    }
   },
   "outputs": [],
   "source": [
    "column_generalized_institution_type = df_merged['generalized_institution_type'].name\n",
    "df_total_institution_type_with_count = (\n",
    "    df_merged[df_merged['generalized_institution_type'].isin(['SCHOOL', 'SCHOOL AND COLLEGE', 'MADRASHA'])]\n",
    "    .groupby(column_generalized_institution_type)\n",
    "    .size()\n",
    "    .reindex(INSTITUTION_TYPES_ORDER)\n",
    "    .reset_index(name='total')\n",
    ")"
   ]
  },
  {
   "cell_type": "code",
   "execution_count": 39,
   "id": "65fd5d68",
   "metadata": {
    "ExecuteTime": {
     "end_time": "2025-09-15T09:36:28.886278Z",
     "start_time": "2025-09-15T09:36:28.877035Z"
    }
   },
   "outputs": [
    {
     "data": {
      "application/vnd.microsoft.datawrangler.viewer.v0+json": {
       "columns": [
        {
         "name": "index",
         "rawType": "int64",
         "type": "integer"
        },
        {
         "name": "generalized_institution_type",
         "rawType": "object",
         "type": "string"
        },
        {
         "name": "total",
         "rawType": "int64",
         "type": "integer"
        }
       ],
       "ref": "f69d53bc-f93e-4e12-80c8-de8a87e21908",
       "rows": [
        [
         "0",
         "SCHOOL",
         "25333"
        ],
        [
         "1",
         "SCHOOL AND COLLEGE",
         "6196"
        ],
        [
         "2",
         "MADRASHA",
         "11490"
        ]
       ],
       "shape": {
        "columns": 2,
        "rows": 3
       }
      },
      "text/html": [
       "<div>\n",
       "<style scoped>\n",
       "    .dataframe tbody tr th:only-of-type {\n",
       "        vertical-align: middle;\n",
       "    }\n",
       "\n",
       "    .dataframe tbody tr th {\n",
       "        vertical-align: top;\n",
       "    }\n",
       "\n",
       "    .dataframe thead th {\n",
       "        text-align: right;\n",
       "    }\n",
       "</style>\n",
       "<table border=\"1\" class=\"dataframe\">\n",
       "  <thead>\n",
       "    <tr style=\"text-align: right;\">\n",
       "      <th></th>\n",
       "      <th>generalized_institution_type</th>\n",
       "      <th>total</th>\n",
       "    </tr>\n",
       "  </thead>\n",
       "  <tbody>\n",
       "    <tr>\n",
       "      <th>0</th>\n",
       "      <td>SCHOOL</td>\n",
       "      <td>25333</td>\n",
       "    </tr>\n",
       "    <tr>\n",
       "      <th>1</th>\n",
       "      <td>SCHOOL AND COLLEGE</td>\n",
       "      <td>6196</td>\n",
       "    </tr>\n",
       "    <tr>\n",
       "      <th>2</th>\n",
       "      <td>MADRASHA</td>\n",
       "      <td>11490</td>\n",
       "    </tr>\n",
       "  </tbody>\n",
       "</table>\n",
       "</div>"
      ],
      "text/plain": [
       "  generalized_institution_type  total\n",
       "0                       SCHOOL  25333\n",
       "1           SCHOOL AND COLLEGE   6196\n",
       "2                     MADRASHA  11490"
      ]
     },
     "execution_count": 39,
     "metadata": {},
     "output_type": "execute_result"
    }
   ],
   "source": [
    "df_total_institution_type_with_count.head()"
   ]
  },
  {
   "cell_type": "code",
   "execution_count": 40,
   "id": "989b934e",
   "metadata": {
    "ExecuteTime": {
     "end_time": "2025-09-15T09:36:29.705204Z",
     "start_time": "2025-09-15T09:36:29.661814Z"
    }
   },
   "outputs": [],
   "source": [
    "df_pbgsi_institutions = df_merged[df_merged['pbgsi_scheme']==1]"
   ]
  },
  {
   "cell_type": "code",
   "execution_count": 41,
   "id": "cc13d7d9",
   "metadata": {},
   "outputs": [],
   "source": [
    "df_pbgsi_institutions = pd.merge(df_pbgsi_institutions, pbgsi_institutions, left_on=\"eiin\", right_on=\"EIIN\", how='inner')"
   ]
  },
  {
   "cell_type": "code",
   "execution_count": 42,
   "id": "242a1097",
   "metadata": {
    "ExecuteTime": {
     "end_time": "2025-09-15T09:36:30.187209Z",
     "start_time": "2025-09-15T09:36:30.155256Z"
    }
   },
   "outputs": [],
   "source": [
    "df_total_pbgsi_institution_type_with_count = (\n",
    "    df_pbgsi_institutions[ df_pbgsi_institutions['generalized_institution_type'].isin(['SCHOOL', 'SCHOOL AND COLLEGE', 'MADRASHA'])]\n",
    "    .groupby(column_generalized_institution_type)\n",
    "    .size()\n",
    "    .reindex(INSTITUTION_TYPES_ORDER)\n",
    "    .reset_index(name='total')\n",
    ")"
   ]
  },
  {
   "cell_type": "code",
   "execution_count": 43,
   "id": "9bfb5262",
   "metadata": {
    "ExecuteTime": {
     "end_time": "2025-09-15T09:36:30.227501Z",
     "start_time": "2025-09-15T09:36:30.219486Z"
    }
   },
   "outputs": [
    {
     "data": {
      "application/vnd.microsoft.datawrangler.viewer.v0+json": {
       "columns": [
        {
         "name": "index",
         "rawType": "int64",
         "type": "integer"
        },
        {
         "name": "generalized_institution_type",
         "rawType": "object",
         "type": "string"
        },
        {
         "name": "total",
         "rawType": "int64",
         "type": "integer"
        }
       ],
       "ref": "05838362-cccf-4e27-b798-1ca850b80545",
       "rows": [
        [
         "0",
         "SCHOOL",
         "25333"
        ],
        [
         "1",
         "SCHOOL AND COLLEGE",
         "6196"
        ],
        [
         "2",
         "MADRASHA",
         "11490"
        ]
       ],
       "shape": {
        "columns": 2,
        "rows": 3
       }
      },
      "text/html": [
       "<div>\n",
       "<style scoped>\n",
       "    .dataframe tbody tr th:only-of-type {\n",
       "        vertical-align: middle;\n",
       "    }\n",
       "\n",
       "    .dataframe tbody tr th {\n",
       "        vertical-align: top;\n",
       "    }\n",
       "\n",
       "    .dataframe thead th {\n",
       "        text-align: right;\n",
       "    }\n",
       "</style>\n",
       "<table border=\"1\" class=\"dataframe\">\n",
       "  <thead>\n",
       "    <tr style=\"text-align: right;\">\n",
       "      <th></th>\n",
       "      <th>generalized_institution_type</th>\n",
       "      <th>total</th>\n",
       "    </tr>\n",
       "  </thead>\n",
       "  <tbody>\n",
       "    <tr>\n",
       "      <th>0</th>\n",
       "      <td>SCHOOL</td>\n",
       "      <td>25333</td>\n",
       "    </tr>\n",
       "    <tr>\n",
       "      <th>1</th>\n",
       "      <td>SCHOOL AND COLLEGE</td>\n",
       "      <td>6196</td>\n",
       "    </tr>\n",
       "    <tr>\n",
       "      <th>2</th>\n",
       "      <td>MADRASHA</td>\n",
       "      <td>11490</td>\n",
       "    </tr>\n",
       "  </tbody>\n",
       "</table>\n",
       "</div>"
      ],
      "text/plain": [
       "  generalized_institution_type  total\n",
       "0                       SCHOOL  25333\n",
       "1           SCHOOL AND COLLEGE   6196\n",
       "2                     MADRASHA  11490"
      ]
     },
     "execution_count": 43,
     "metadata": {},
     "output_type": "execute_result"
    }
   ],
   "source": [
    "df_total_institution_type_with_count.head()"
   ]
  },
  {
   "cell_type": "code",
   "execution_count": 44,
   "id": "56d6e6c6",
   "metadata": {
    "ExecuteTime": {
     "end_time": "2025-09-15T09:36:30.412771Z",
     "start_time": "2025-09-15T09:36:30.402806Z"
    }
   },
   "outputs": [],
   "source": [
    "df_total_pbgsi_refunded_institution_type_with_count = (\n",
    "    df_pbgsi_institutions[df_pbgsi_institutions['was_returned']==1 & df_pbgsi_institutions['generalized_institution_type'].isin(['SCHOOL', 'SCHOOL AND COLLEGE', 'MADRASHA'])]\n",
    "    .groupby(column_generalized_institution_type)\n",
    "    .size()\n",
    "    .reindex(INSTITUTION_TYPES_ORDER)\n",
    "    .reset_index(name='total')\n",
    ")"
   ]
  },
  {
   "cell_type": "code",
   "execution_count": 45,
   "id": "26b2f7fa",
   "metadata": {},
   "outputs": [
    {
     "data": {
      "application/vnd.microsoft.datawrangler.viewer.v0+json": {
       "columns": [
        {
         "name": "index",
         "rawType": "int64",
         "type": "integer"
        },
        {
         "name": "generalized_institution_type",
         "rawType": "object",
         "type": "string"
        },
        {
         "name": "total",
         "rawType": "int64",
         "type": "integer"
        }
       ],
       "ref": "67c15538-339f-4dbb-a211-3658eae96eda",
       "rows": [
        [
         "0",
         "SCHOOL",
         "5003"
        ],
        [
         "1",
         "SCHOOL AND COLLEGE",
         "505"
        ],
        [
         "2",
         "MADRASHA",
         "1807"
        ]
       ],
       "shape": {
        "columns": 2,
        "rows": 3
       }
      },
      "text/html": [
       "<div>\n",
       "<style scoped>\n",
       "    .dataframe tbody tr th:only-of-type {\n",
       "        vertical-align: middle;\n",
       "    }\n",
       "\n",
       "    .dataframe tbody tr th {\n",
       "        vertical-align: top;\n",
       "    }\n",
       "\n",
       "    .dataframe thead th {\n",
       "        text-align: right;\n",
       "    }\n",
       "</style>\n",
       "<table border=\"1\" class=\"dataframe\">\n",
       "  <thead>\n",
       "    <tr style=\"text-align: right;\">\n",
       "      <th></th>\n",
       "      <th>generalized_institution_type</th>\n",
       "      <th>total</th>\n",
       "    </tr>\n",
       "  </thead>\n",
       "  <tbody>\n",
       "    <tr>\n",
       "      <th>0</th>\n",
       "      <td>SCHOOL</td>\n",
       "      <td>5003</td>\n",
       "    </tr>\n",
       "    <tr>\n",
       "      <th>1</th>\n",
       "      <td>SCHOOL AND COLLEGE</td>\n",
       "      <td>505</td>\n",
       "    </tr>\n",
       "    <tr>\n",
       "      <th>2</th>\n",
       "      <td>MADRASHA</td>\n",
       "      <td>1807</td>\n",
       "    </tr>\n",
       "  </tbody>\n",
       "</table>\n",
       "</div>"
      ],
      "text/plain": [
       "  generalized_institution_type  total\n",
       "0                       SCHOOL   5003\n",
       "1           SCHOOL AND COLLEGE    505\n",
       "2                     MADRASHA   1807"
      ]
     },
     "execution_count": 45,
     "metadata": {},
     "output_type": "execute_result"
    }
   ],
   "source": [
    "df_total_pbgsi_institution_type_with_count.head()"
   ]
  },
  {
   "cell_type": "code",
   "execution_count": 46,
   "id": "d606e38b",
   "metadata": {},
   "outputs": [
    {
     "name": "stdout",
     "output_type": "stream",
     "text": [
      "generalized_institution_type\n"
     ]
    }
   ],
   "source": [
    "print(df_total_institution_type_with_count['generalized_institution_type'].name)"
   ]
  },
  {
   "cell_type": "code",
   "execution_count": 47,
   "id": "e52d3df1",
   "metadata": {},
   "outputs": [],
   "source": [
    "generalized_institution_type_col_name = df_total_institution_type_with_count['generalized_institution_type'].name\n",
    "\n",
    "df_institution_count = pd.merge(df_total_institution_type_with_count, df_total_pbgsi_institution_type_with_count, on=generalized_institution_type_col_name, how='left', suffixes=('', '_pbgsi'))"
   ]
  },
  {
   "cell_type": "code",
   "execution_count": 48,
   "id": "bed87185",
   "metadata": {},
   "outputs": [],
   "source": [
    "df_institution_count = pd.merge(df_institution_count, df_total_pbgsi_refunded_institution_type_with_count, on=generalized_institution_type_col_name, how='left', suffixes=('', '_refunded'))"
   ]
  },
  {
   "cell_type": "code",
   "execution_count": 49,
   "id": "90046123",
   "metadata": {},
   "outputs": [
    {
     "data": {
      "application/vnd.microsoft.datawrangler.viewer.v0+json": {
       "columns": [
        {
         "name": "index",
         "rawType": "int64",
         "type": "integer"
        },
        {
         "name": "generalized_institution_type",
         "rawType": "object",
         "type": "string"
        },
        {
         "name": "total",
         "rawType": "int64",
         "type": "integer"
        },
        {
         "name": "total_pbgsi",
         "rawType": "int64",
         "type": "integer"
        },
        {
         "name": "total_refunded",
         "rawType": "int64",
         "type": "integer"
        }
       ],
       "ref": "e6f93caa-cdf4-4a64-9341-aacdf78321ad",
       "rows": [
        [
         "0",
         "SCHOOL",
         "25333",
         "5003",
         "122"
        ],
        [
         "1",
         "SCHOOL AND COLLEGE",
         "6196",
         "505",
         "16"
        ],
        [
         "2",
         "MADRASHA",
         "11490",
         "1807",
         "30"
        ]
       ],
       "shape": {
        "columns": 4,
        "rows": 3
       }
      },
      "text/html": [
       "<div>\n",
       "<style scoped>\n",
       "    .dataframe tbody tr th:only-of-type {\n",
       "        vertical-align: middle;\n",
       "    }\n",
       "\n",
       "    .dataframe tbody tr th {\n",
       "        vertical-align: top;\n",
       "    }\n",
       "\n",
       "    .dataframe thead th {\n",
       "        text-align: right;\n",
       "    }\n",
       "</style>\n",
       "<table border=\"1\" class=\"dataframe\">\n",
       "  <thead>\n",
       "    <tr style=\"text-align: right;\">\n",
       "      <th></th>\n",
       "      <th>generalized_institution_type</th>\n",
       "      <th>total</th>\n",
       "      <th>total_pbgsi</th>\n",
       "      <th>total_refunded</th>\n",
       "    </tr>\n",
       "  </thead>\n",
       "  <tbody>\n",
       "    <tr>\n",
       "      <th>0</th>\n",
       "      <td>SCHOOL</td>\n",
       "      <td>25333</td>\n",
       "      <td>5003</td>\n",
       "      <td>122</td>\n",
       "    </tr>\n",
       "    <tr>\n",
       "      <th>1</th>\n",
       "      <td>SCHOOL AND COLLEGE</td>\n",
       "      <td>6196</td>\n",
       "      <td>505</td>\n",
       "      <td>16</td>\n",
       "    </tr>\n",
       "    <tr>\n",
       "      <th>2</th>\n",
       "      <td>MADRASHA</td>\n",
       "      <td>11490</td>\n",
       "      <td>1807</td>\n",
       "      <td>30</td>\n",
       "    </tr>\n",
       "  </tbody>\n",
       "</table>\n",
       "</div>"
      ],
      "text/plain": [
       "  generalized_institution_type  total  total_pbgsi  total_refunded\n",
       "0                       SCHOOL  25333         5003             122\n",
       "1           SCHOOL AND COLLEGE   6196          505              16\n",
       "2                     MADRASHA  11490         1807              30"
      ]
     },
     "execution_count": 49,
     "metadata": {},
     "output_type": "execute_result"
    }
   ],
   "source": [
    "df_institution_count.head()"
   ]
  },
  {
   "cell_type": "code",
   "execution_count": 50,
   "id": "d9cecfdc",
   "metadata": {},
   "outputs": [],
   "source": [
    "df_institution_count['pbgsi_percentage'] = round((df_institution_count.total_pbgsi / df_institution_count.total) * 100, 2)\n",
    "df_institution_count['refund_percentage'] = round((df_institution_count.total_refunded / df_institution_count.total_pbgsi) * 100, 2)"
   ]
  },
  {
   "cell_type": "code",
   "execution_count": 51,
   "id": "976bd479",
   "metadata": {},
   "outputs": [
    {
     "data": {
      "application/vnd.microsoft.datawrangler.viewer.v0+json": {
       "columns": [
        {
         "name": "index",
         "rawType": "int64",
         "type": "integer"
        },
        {
         "name": "generalized_institution_type",
         "rawType": "object",
         "type": "string"
        },
        {
         "name": "total",
         "rawType": "int64",
         "type": "integer"
        },
        {
         "name": "total_pbgsi",
         "rawType": "int64",
         "type": "integer"
        },
        {
         "name": "total_refunded",
         "rawType": "int64",
         "type": "integer"
        },
        {
         "name": "pbgsi_percentage",
         "rawType": "float64",
         "type": "float"
        },
        {
         "name": "refund_percentage",
         "rawType": "float64",
         "type": "float"
        }
       ],
       "ref": "2bb895b0-ff7c-4017-a919-d4cbf7601d18",
       "rows": [
        [
         "0",
         "SCHOOL",
         "25333",
         "5003",
         "122",
         "19.75",
         "2.44"
        ],
        [
         "1",
         "SCHOOL AND COLLEGE",
         "6196",
         "505",
         "16",
         "8.15",
         "3.17"
        ],
        [
         "2",
         "MADRASHA",
         "11490",
         "1807",
         "30",
         "15.73",
         "1.66"
        ]
       ],
       "shape": {
        "columns": 6,
        "rows": 3
       }
      },
      "text/html": [
       "<div>\n",
       "<style scoped>\n",
       "    .dataframe tbody tr th:only-of-type {\n",
       "        vertical-align: middle;\n",
       "    }\n",
       "\n",
       "    .dataframe tbody tr th {\n",
       "        vertical-align: top;\n",
       "    }\n",
       "\n",
       "    .dataframe thead th {\n",
       "        text-align: right;\n",
       "    }\n",
       "</style>\n",
       "<table border=\"1\" class=\"dataframe\">\n",
       "  <thead>\n",
       "    <tr style=\"text-align: right;\">\n",
       "      <th></th>\n",
       "      <th>generalized_institution_type</th>\n",
       "      <th>total</th>\n",
       "      <th>total_pbgsi</th>\n",
       "      <th>total_refunded</th>\n",
       "      <th>pbgsi_percentage</th>\n",
       "      <th>refund_percentage</th>\n",
       "    </tr>\n",
       "  </thead>\n",
       "  <tbody>\n",
       "    <tr>\n",
       "      <th>0</th>\n",
       "      <td>SCHOOL</td>\n",
       "      <td>25333</td>\n",
       "      <td>5003</td>\n",
       "      <td>122</td>\n",
       "      <td>19.75</td>\n",
       "      <td>2.44</td>\n",
       "    </tr>\n",
       "    <tr>\n",
       "      <th>1</th>\n",
       "      <td>SCHOOL AND COLLEGE</td>\n",
       "      <td>6196</td>\n",
       "      <td>505</td>\n",
       "      <td>16</td>\n",
       "      <td>8.15</td>\n",
       "      <td>3.17</td>\n",
       "    </tr>\n",
       "    <tr>\n",
       "      <th>2</th>\n",
       "      <td>MADRASHA</td>\n",
       "      <td>11490</td>\n",
       "      <td>1807</td>\n",
       "      <td>30</td>\n",
       "      <td>15.73</td>\n",
       "      <td>1.66</td>\n",
       "    </tr>\n",
       "  </tbody>\n",
       "</table>\n",
       "</div>"
      ],
      "text/plain": [
       "  generalized_institution_type  total  total_pbgsi  total_refunded  \\\n",
       "0                       SCHOOL  25333         5003             122   \n",
       "1           SCHOOL AND COLLEGE   6196          505              16   \n",
       "2                     MADRASHA  11490         1807              30   \n",
       "\n",
       "   pbgsi_percentage  refund_percentage  \n",
       "0             19.75               2.44  \n",
       "1              8.15               3.17  \n",
       "2             15.73               1.66  "
      ]
     },
     "execution_count": 51,
     "metadata": {},
     "output_type": "execute_result"
    }
   ],
   "source": [
    "df_institution_count.head()"
   ]
  },
  {
   "cell_type": "code",
   "execution_count": 52,
   "id": "12e2ac90",
   "metadata": {},
   "outputs": [
    {
     "data": {
      "application/vnd.microsoft.datawrangler.viewer.v0+json": {
       "columns": [
        {
         "name": "index",
         "rawType": "int64",
         "type": "integer"
        },
        {
         "name": "generalized_institution_type",
         "rawType": "object",
         "type": "string"
        },
        {
         "name": "total",
         "rawType": "int64",
         "type": "integer"
        },
        {
         "name": "total_pbgsi",
         "rawType": "int64",
         "type": "integer"
        },
        {
         "name": "total_refunded",
         "rawType": "int64",
         "type": "integer"
        },
        {
         "name": "pbgsi_percentage",
         "rawType": "float64",
         "type": "float"
        },
        {
         "name": "refund_percentage",
         "rawType": "float64",
         "type": "float"
        }
       ],
       "ref": "16479014-98ac-4e90-9afa-181152196ee5",
       "rows": [
        [
         "0",
         "SCHOOL",
         "25333",
         "5003",
         "122",
         "19.75",
         "2.44"
        ],
        [
         "1",
         "SCHOOL AND COLLEGE",
         "6196",
         "505",
         "16",
         "8.15",
         "3.17"
        ],
        [
         "2",
         "MADRASHA",
         "11490",
         "1807",
         "30",
         "15.73",
         "1.66"
        ],
        [
         "3",
         "Total",
         "43019",
         "7315",
         "168",
         "17.0",
         "2.3"
        ]
       ],
       "shape": {
        "columns": 6,
        "rows": 4
       }
      },
      "text/html": [
       "<div>\n",
       "<style scoped>\n",
       "    .dataframe tbody tr th:only-of-type {\n",
       "        vertical-align: middle;\n",
       "    }\n",
       "\n",
       "    .dataframe tbody tr th {\n",
       "        vertical-align: top;\n",
       "    }\n",
       "\n",
       "    .dataframe thead th {\n",
       "        text-align: right;\n",
       "    }\n",
       "</style>\n",
       "<table border=\"1\" class=\"dataframe\">\n",
       "  <thead>\n",
       "    <tr style=\"text-align: right;\">\n",
       "      <th></th>\n",
       "      <th>generalized_institution_type</th>\n",
       "      <th>total</th>\n",
       "      <th>total_pbgsi</th>\n",
       "      <th>total_refunded</th>\n",
       "      <th>pbgsi_percentage</th>\n",
       "      <th>refund_percentage</th>\n",
       "    </tr>\n",
       "  </thead>\n",
       "  <tbody>\n",
       "    <tr>\n",
       "      <th>0</th>\n",
       "      <td>SCHOOL</td>\n",
       "      <td>25333</td>\n",
       "      <td>5003</td>\n",
       "      <td>122</td>\n",
       "      <td>19.75</td>\n",
       "      <td>2.44</td>\n",
       "    </tr>\n",
       "    <tr>\n",
       "      <th>1</th>\n",
       "      <td>SCHOOL AND COLLEGE</td>\n",
       "      <td>6196</td>\n",
       "      <td>505</td>\n",
       "      <td>16</td>\n",
       "      <td>8.15</td>\n",
       "      <td>3.17</td>\n",
       "    </tr>\n",
       "    <tr>\n",
       "      <th>2</th>\n",
       "      <td>MADRASHA</td>\n",
       "      <td>11490</td>\n",
       "      <td>1807</td>\n",
       "      <td>30</td>\n",
       "      <td>15.73</td>\n",
       "      <td>1.66</td>\n",
       "    </tr>\n",
       "    <tr>\n",
       "      <th>3</th>\n",
       "      <td>Total</td>\n",
       "      <td>43019</td>\n",
       "      <td>7315</td>\n",
       "      <td>168</td>\n",
       "      <td>17.00</td>\n",
       "      <td>2.30</td>\n",
       "    </tr>\n",
       "  </tbody>\n",
       "</table>\n",
       "</div>"
      ],
      "text/plain": [
       "  generalized_institution_type  total  total_pbgsi  total_refunded  \\\n",
       "0                       SCHOOL  25333         5003             122   \n",
       "1           SCHOOL AND COLLEGE   6196          505              16   \n",
       "2                     MADRASHA  11490         1807              30   \n",
       "3                        Total  43019         7315             168   \n",
       "\n",
       "   pbgsi_percentage  refund_percentage  \n",
       "0             19.75               2.44  \n",
       "1              8.15               3.17  \n",
       "2             15.73               1.66  \n",
       "3             17.00               2.30  "
      ]
     },
     "execution_count": 52,
     "metadata": {},
     "output_type": "execute_result"
    }
   ],
   "source": [
    "total_institutions_sum = df_institution_count['total'].sum()\n",
    "total_pbgsi_sum = df_institution_count['total_pbgsi'].sum()\n",
    "total_refund_sum = df_institution_count['total_refunded'].sum()\n",
    "\n",
    "total_pbgsi_percentage = round((total_pbgsi_sum / total_institutions_sum)*100, 2)\n",
    "total_refund_percentage = round((total_refund_sum / total_pbgsi_sum) * 100, 2)\n",
    "\n",
    "df_institution_count.loc[len(df_institution_count)] = [\n",
    "    'Total',\n",
    "    total_institutions_sum,\n",
    "    total_pbgsi_sum,\n",
    "    total_refund_sum,\n",
    "    total_pbgsi_percentage,\n",
    "    total_refund_percentage\n",
    "]\n",
    "\n",
    "df_institution_count.head()"
   ]
  },
  {
   "cell_type": "code",
   "execution_count": 53,
   "id": "5c562458",
   "metadata": {},
   "outputs": [],
   "source": [
    "selected_columns = [\n",
    "    df_institution_count.generalized_institution_type.name,\n",
    "    df_institution_count.total_pbgsi.name,\n",
    "    df_institution_count.pbgsi_percentage.name,\n",
    "    df_institution_count.total_refunded.name,\n",
    "    df_institution_count.refund_percentage.name\n",
    "]\n",
    "\n",
    "renamed_columns = {\n",
    "    'generalized_institution_type': 'Type of institution',\n",
    "    'total_pbgsi': 'Number of pbgsi institute',\n",
    "    'pbgsi_percentage': 'pbgsi percentage',\n",
    "    'total_refunded': 'Number of refunded institute',\n",
    "    'refund_percentage': 'refund percentage'\n",
    "}\n",
    "\n",
    "df_export = df_institution_count[selected_columns].rename(columns=renamed_columns)\n",
    "df_export.to_excel('output/table1_pbgsi.xlsx', index=False)"
   ]
  },
  {
   "cell_type": "markdown",
   "id": "5a9bbbab",
   "metadata": {},
   "source": [
    "### Table 2. Number of Secondary Institutions Having Management Accountability Grant by Type of institution and Gender Composition"
   ]
  },
  {
   "cell_type": "code",
   "execution_count": 54,
   "id": "71772834",
   "metadata": {},
   "outputs": [],
   "source": [
    "STUDENT_TYPES = ['Boy', 'Girl', 'Co-education']"
   ]
  },
  {
   "cell_type": "code",
   "execution_count": 57,
   "id": "92dd7644",
   "metadata": {},
   "outputs": [],
   "source": [
    "df_institution_type_count_for_boys = (\n",
    "    df_pbgsi_institutions[df_pbgsi_institutions[' student_type_name_en']=='Boy']\n",
    "    .groupby(generalized_institution_type_col_name)\n",
    "    .size()\n",
    "    .reindex(INSTITUTION_TYPES_ORDER)\n",
    "    .reset_index(name='boys')\n",
    ")"
   ]
  },
  {
   "cell_type": "code",
   "execution_count": 59,
   "id": "15e6c8dc",
   "metadata": {},
   "outputs": [],
   "source": [
    "df_institution_type_count_for_girls = (\n",
    "    df_pbgsi_institutions[df_pbgsi_institutions[' student_type_name_en']=='Girl']\n",
    "    .groupby(generalized_institution_type_col_name)\n",
    "    .size()\n",
    "    .reindex(INSTITUTION_TYPES_ORDER)\n",
    "    .reset_index(name='girls')\n",
    ")"
   ]
  },
  {
   "cell_type": "code",
   "execution_count": 61,
   "id": "db637d48",
   "metadata": {},
   "outputs": [],
   "source": [
    "df_institution_type_count_for_coeducation = (\n",
    "    df_pbgsi_institutions[df_pbgsi_institutions[' student_type_name_en']=='Co-education']\n",
    "    .groupby(generalized_institution_type_col_name)\n",
    "    .size()\n",
    "    .reindex(INSTITUTION_TYPES_ORDER)\n",
    "    .reset_index(name='co_education')\n",
    ")"
   ]
  },
  {
   "cell_type": "code",
   "execution_count": null,
   "id": "215ea6d9",
   "metadata": {},
   "outputs": [],
   "source": []
  }
 ],
 "metadata": {
  "kernelspec": {
   "display_name": "Python 3",
   "language": "python",
   "name": "python3"
  },
  "language_info": {
   "codemirror_mode": {
    "name": "ipython",
    "version": 3
   },
   "file_extension": ".py",
   "mimetype": "text/x-python",
   "name": "python",
   "nbconvert_exporter": "python",
   "pygments_lexer": "ipython3",
   "version": "3.13.7"
  }
 },
 "nbformat": 4,
 "nbformat_minor": 5
}
